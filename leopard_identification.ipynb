{
 "cells": [
  {
   "cell_type": "code",
   "execution_count": null,
   "metadata": {
    "id": "sx9e_pXlCuti"
   },
   "outputs": [],
   "source": [
    "%load_ext autoreload\n",
    "%autoreload 2"
   ]
  },
  {
   "cell_type": "markdown",
   "metadata": {
    "id": "MfJfYeZKW_G-"
   },
   "source": []
  },
  {
   "cell_type": "code",
   "execution_count": null,
   "metadata": {
    "colab": {
     "base_uri": "https://localhost:8080/"
    },
    "executionInfo": {
     "elapsed": 20434,
     "status": "ok",
     "timestamp": 1658883131868,
     "user": {
      "displayName": "Madhu Hegde",
      "userId": "05863931517844431420"
     },
     "user_tz": 420
    },
    "id": "nyfx8ErC7I87",
    "outputId": "a58acf80-1e52-4585-e656-61b17dc26637"
   },
   "outputs": [],
   "source": [
    "from google.colab import drive\n",
    "drive.mount('/content/gdrive')\n",
    "!ln -s /content/gdrive/MyDrive /mydrive\n",
    "%cd /mydrive/\n"
   ]
  },
  {
   "cell_type": "markdown",
   "metadata": {
    "id": "UMMut8UVCutt"
   },
   "source": [
    "# Experiments\n",
    "We'll go through learning feature embeddings using different loss functions on leopard  dataset. We are using 512-dimensional embeddings.\n",
    "\n",
    "For every experiment Resnet18() is used currently no  hyperparameter search is implemented."
   ]
  },
  {
   "cell_type": "markdown",
   "metadata": {
    "id": "BcmGBqXeCutw"
   },
   "source": [
    "# Prepare dataset\n",
    "We'll be working on leopard dataset"
   ]
  },
  {
   "cell_type": "code",
   "execution_count": 1,
   "metadata": {
    "executionInfo": {
     "elapsed": 2608,
     "status": "ok",
     "timestamp": 1658883146373,
     "user": {
      "displayName": "Madhu Hegde",
      "userId": "05863931517844431420"
     },
     "user_tz": 420
    },
    "id": "yWtk_bJJKKBR"
   },
   "outputs": [],
   "source": [
    "import torchvision\n",
    "from torchvision import transforms\n",
    "from torchvision.datasets import ImageFolder\n",
    "import torch.utils.data as data\n",
    "import torch\n",
    "transform_img = transforms.Compose([\n",
    "    transforms.RandomAutocontrast(p=0.9),\n",
    "    transforms.ToTensor(),\n",
    "    transforms.Normalize(mean=[0.485, 0.456, 0.406],\n",
    "                         std=[0.229, 0.224, 0.225] )\n",
    "    ])"
   ]
  },
  {
   "cell_type": "code",
   "execution_count": 2,
   "metadata": {
    "colab": {
     "base_uri": "https://localhost:8080/"
    },
    "executionInfo": {
     "elapsed": 103703,
     "status": "ok",
     "timestamp": 1658883252833,
     "user": {
      "displayName": "Madhu Hegde",
      "userId": "05863931517844431420"
     },
     "user_tz": 420
    },
    "id": "o8lLb7ZNMJ-M",
    "outputId": "b9fd9ff1-890d-4b25-d7cb-6fafe33b1767"
   },
   "outputs": [],
   "source": [
    "#%cd /mydrive/W210/Animal_Identification/siamese-triplet/\n",
    "\n",
    "from siamese_triplet.datasets import LeopardDataset\n",
    "\n",
    "MULTI_EMBEDDING = True\n",
    "cuda = torch.cuda.is_available()\n",
    "\n",
    "if MULTI_EMBEDDING:\n",
    "    TRAIN_DATA_PATH = '../datasets/leopard/classes_64/resize_256/train'\n",
    "    train_dataset = LeopardDataset(image_dir=TRAIN_DATA_PATH,transform=transform_img)\n",
    "    TEST_DATA_PATH = '../datasets/leopard/classes_64/resize_256/test'\n",
    "    test_dataset = LeopardDataset(image_dir=TEST_DATA_PATH,transform=transform_img)\n",
    "    OOD_DATA_PATH = '../datasets/leopard/classes_64/ood_set'\n",
    "    ood_dataset = LeopardDataset(image_dir=OOD_DATA_PATH,transform=transform_img)\n",
    "else:\n",
    "    TRAIN_DATA_PATH = '../../datasets/temp'\n",
    "    train_dataset = torchvision.datasets.ImageFolder(root=TRAIN_DATA_PATH, transform=transform_img)\n",
    "    TEST_DATA_PATH = '../../datasets/temp'\n",
    "    test_dataset = torchvision.datasets.ImageFolder(root=TEST_DATA_PATH, transform=transform_img)"
   ]
  },
  {
   "cell_type": "markdown",
   "metadata": {
    "id": "TcZTFRnjCut3"
   },
   "source": [
    "## Common setup"
   ]
  },
  {
   "cell_type": "markdown",
   "metadata": {
    "id": "75moY8AyCut_"
   },
   "source": [
    "# Baseline: Classification with softmax\n",
    "We'll train the model for classification and use outputs of penultimate layer as embeddings"
   ]
  },
  {
   "cell_type": "markdown",
   "metadata": {
    "id": "x7C9H1_nCuvJ"
   },
   "source": [
    "# Online pair/triplet selection - negative mining\n",
    "There are couple of problems with siamese and triplet networks.\n",
    "1. The number of possible pairs/triplets grows **quadratically/cubically** with the number of examples. It's infeasible to process them all\n",
    "2. We generate pairs/triplets randomly. As the training continues, more and more pairs/triplets are easy to deal with (their loss value is very small or even 0), preventing the network from training. We need to provide the network with **hard examples**.\n",
    "3. Each image that is fed to the network is used only for computation of contrastive/triplet loss for only one pair/triplet. The computation is somewhat wasted; once the embedding is computed, it could be reused for many pairs/triplets.\n",
    "\n",
    "To deal with that efficiently, we'll feed a network with standard mini-batches as we did for classification. The loss function will be responsible for selection of hard pairs and triplets within mini-batch. In these case, if we feed the network with 16 images per 10 classes, we can process up to $159*160/2 = 12720$ pairs and $10*16*15/2*(9*16) = 172800$ triplets, compared to 80 pairs and 53 triplets in previous implementation.\n",
    "\n",
    "We can find some strategies on how to select triplets in [2] and [3] *Alexander Hermans, Lucas Beyer, Bastian Leibe, [In Defense of the Triplet Loss for Person Re-Identification](https://arxiv.org/pdf/1703.07737), 2017*"
   ]
  },
  {
   "cell_type": "markdown",
   "metadata": {
    "id": "UgIGiMwICuvn"
   },
   "source": [
    "## Online triplet selection\n",
    "## Steps\n",
    "1. Create **BalancedBatchSampler** - samples $N$ classes and $M$ samples *datasets.py*\n",
    "2. Create data loaders with the batch sampler\n",
    "3. Define **embedding** *(mapping)* network $f(x)$ - **EmbeddingNet** from *networks.py*\n",
    "4. Define a **TripletSelector** that takes embeddings and original labels and returns valid triplets within a minibatch\n",
    "5. Define **OnlineTripletLoss** that will use a *TripletSelector* and compute *TripletLoss* on such pairs\n",
    "6. Train the network!"
   ]
  },
  {
   "cell_type": "code",
   "execution_count": 3,
   "metadata": {
    "colab": {
     "base_uri": "https://localhost:8080/",
     "height": 176,
     "referenced_widgets": [
      "777b64e062194a8389d3ec5c15128faa",
      "95f8d8c9db6542b8a0806fb8f589cbb9",
      "b91cd4d5997743e790fd9a26a7d59246",
      "26118d43b0aa46999846003373063a58",
      "04c4d292430e44858206d6969d2faeca",
      "4674a4bc91f142c285816a0b7fea3031",
      "e8369f34a28f4190bbe5340548483afe",
      "3eeb4a10f98c4c528b8cb5e6c8706dd7",
      "c4ed85e531ae4fcfa783ddf7c5f29372",
      "a41d444425ed407a89493daa34ec0fc5",
      "d7f7cd1e0ba041efb771707939664786"
     ]
    },
    "executionInfo": {
     "elapsed": 7414,
     "status": "ok",
     "timestamp": 1658883260234,
     "user": {
      "displayName": "Madhu Hegde",
      "userId": "05863931517844431420"
     },
     "user_tz": 420
    },
    "id": "_Z2k3EZpT3bB",
    "outputId": "30038cb8-9bdf-4187-c00b-2c21f946273a"
   },
   "outputs": [
    {
     "name": "stdout",
     "output_type": "stream",
     "text": [
      "Model does not exist\n"
     ]
    }
   ],
   "source": [
    "import numpy\n",
    "from torch.optim import lr_scheduler\n",
    "import torch.optim as optim\n",
    "from torch.autograd import Variable\n",
    "\n",
    "from siamese_triplet.trainer import fit\n",
    "import numpy as np\n",
    "from siamese_triplet.datasets import BalancedBatchSampler\n",
    "import torch.nn as nn\n",
    "\n",
    "    \n",
    "train_labels = torch.tensor(train_dataset.targets)\n",
    "test_labels = torch.tensor(test_dataset.targets)\n",
    "# We'll create mini batches by sampling labels that will be present in the mini batch and number of examples from each class\n",
    "train_batch_sampler = BalancedBatchSampler(train_labels, n_classes=64, n_samples=8)\n",
    "test_batch_sampler = BalancedBatchSampler(test_labels, n_classes=64, n_samples=2)\n",
    "kwargs = {'num_workers': 1, 'pin_memory': True} if cuda else {}\n",
    "online_train_loader = torch.utils.data.DataLoader(train_dataset, batch_sampler=train_batch_sampler, **kwargs)\n",
    "online_test_loader = torch.utils.data.DataLoader(test_dataset, batch_sampler=test_batch_sampler, **kwargs)\n",
    "\n",
    "# Set up the network and training parameters\n",
    "from siamese_triplet.networks import EmbeddingNet\n",
    "from siamese_triplet.networks import EmbeddingWithSoftmaxNet\n",
    "from siamese_triplet.networks import MultiPartEmbeddingNet\n",
    "from siamese_triplet.networks import MultiPartEmbeddingWithSoftmaxNet\n",
    "from siamese_triplet.networks import extract_embeddings\n",
    "\n",
    "from siamese_triplet.losses import OnlineTripletLoss\n",
    "from siamese_triplet.losses import OnlineSymTripletLoss\n",
    "from siamese_triplet.losses import OnlineModTripletLoss\n",
    "from siamese_triplet.losses import OnlineTripletLossWithCentroid\n",
    "from siamese_triplet.losses import OnlineModTripletLossWithCentroid\n",
    "\n",
    "from siamese_triplet.utils_triplet import AllTripletSelector\n",
    "from siamese_triplet.utils_triplet import HardestNegativeTripletSelector\n",
    "from siamese_triplet.utils_triplet import RandomNegativeTripletSelector\n",
    "from siamese_triplet.utils_triplet import SemihardNegativeTripletSelector\n",
    "from siamese_triplet.utils_triplet import SemihardNegativeCentroidTripletSelector # Strategies for selecting triplets within a minibatch\n",
    "from siamese_triplet.utils_triplet import RandomNegativeCentroidTripletSelector\n",
    "from siamese_triplet.metrics import AverageNonzeroTripletsMetric\n",
    "from sklearn.metrics import f1_score, classification_report \n",
    "\n",
    "margin = 0.25\n",
    "\n",
    "try:\n",
    "    model\n",
    "    del model\n",
    "except NameError:\n",
    "    print('Model does not exist')\n",
    "\n",
    "softmax = True\n",
    "if MULTI_EMBEDDING:\n",
    "    if softmax:\n",
    "        embedding_net = EmbeddingWithSoftmaxNet(num_classes=64, dropout=0.2)\n",
    "        #embedding_net = MultiPartEmbeddingWithSoftmaxNet(num_classes=64)\n",
    "    else:\n",
    "        embedding_net = MultiPartEmbeddingNet()\n",
    "else:    \n",
    "    if softmax:\n",
    "        embedding_net = EmbeddingWithSoftmaxNet(num_classes=64)\n",
    "    else:\n",
    "        embedding_net = EmbeddingNet()\n",
    "     \n",
    "model = embedding_net\n",
    "\n",
    "if cuda:\n",
    "    model.cuda()\n",
    "loss_fn = OnlineTripletLoss(margin, SemihardNegativeTripletSelector(margin))\n",
    "#loss_fn = OnlineSymTripletLoss(margin, RandomNegativeTripletSelector(margin))\n",
    "#loss_fn = OnlineTripletLossWithCentroid(margin, SemihardNegativeCentroidTripletSelector(margin))\n",
    "#loss_fn = OnlineModTripletLossWithCentroid(margin, margin-0.15, SemihardNegativeCentroidTripletSelector(margin))\n",
    "lr = 1e-3\n",
    "optimizer = optim.Adam(model.parameters(), lr=lr, weight_decay=1e-4)\n",
    "scheduler = lr_scheduler.StepLR(optimizer, 8, gamma=0.1, last_epoch=-1)\n",
    "n_epochs = 25\n",
    "log_interval = 50\n",
    "softmax_loss_fn = nn.CrossEntropyLoss()"
   ]
  },
  {
   "cell_type": "code",
   "execution_count": 4,
   "metadata": {
    "colab": {
     "base_uri": "https://localhost:8080/"
    },
    "executionInfo": {
     "elapsed": 750674,
     "status": "ok",
     "timestamp": 1658884013352,
     "user": {
      "displayName": "Madhu Hegde",
      "userId": "05863931517844431420"
     },
     "user_tz": 420
    },
    "id": "W-bDxqVJCuvs",
    "outputId": "5d98e57c-2530-4839-ad35-cb43449a9658"
   },
   "outputs": [
    {
     "name": "stdout",
     "output_type": "stream",
     "text": [
      "Train: [0/853 (0%)]\tLoss: 0.150576\tAverage nonzero triplets: 1685.0\n",
      "tensor(0.1442)\n",
      "Model Saved\n",
      "Epoch: 1/25. Train set: Average loss: 0.1506\tAverage nonzero triplets: 1685.0\n",
      "Epoch: 1/25. Validation set: Average loss: 0.1599\tAverage nonzero triplets: 53.0\n",
      "Train: [0/853 (0%)]\tLoss: 0.126311\tAverage nonzero triplets: 1681.0\n",
      "tensor(0.1301)\n",
      "Epoch: 2/25. Train set: Average loss: 0.1263\tAverage nonzero triplets: 1681.0\n",
      "Epoch: 2/25. Validation set: Average loss: 0.1615\tAverage nonzero triplets: 53.0\n",
      "Train: [0/853 (0%)]\tLoss: 0.119734\tAverage nonzero triplets: 1662.0\n",
      "tensor(0.1307)\n",
      "Model Saved\n",
      "Epoch: 3/25. Train set: Average loss: 0.1197\tAverage nonzero triplets: 1662.0\n",
      "Epoch: 3/25. Validation set: Average loss: 0.1618\tAverage nonzero triplets: 52.0\n",
      "Train: [0/853 (0%)]\tLoss: 0.112893\tAverage nonzero triplets: 1606.0\n",
      "tensor(0.1301)\n",
      "Epoch: 4/25. Train set: Average loss: 0.1129\tAverage nonzero triplets: 1606.0\n",
      "Epoch: 4/25. Validation set: Average loss: 0.1331\tAverage nonzero triplets: 52.0\n",
      "Train: [0/853 (0%)]\tLoss: 0.109683\tAverage nonzero triplets: 1572.0\n",
      "tensor(0.1497)\n",
      "Epoch: 5/25. Train set: Average loss: 0.1097\tAverage nonzero triplets: 1572.0\n",
      "Epoch: 5/25. Validation set: Average loss: 0.1401\tAverage nonzero triplets: 52.0\n",
      "Train: [0/853 (0%)]\tLoss: 0.100085\tAverage nonzero triplets: 1409.0\n",
      "tensor(0.1588)\n",
      "Epoch: 6/25. Train set: Average loss: 0.1001\tAverage nonzero triplets: 1409.0\n",
      "Epoch: 6/25. Validation set: Average loss: 0.1312\tAverage nonzero triplets: 52.0\n",
      "Train: [0/853 (0%)]\tLoss: 0.099222\tAverage nonzero triplets: 1280.0\n",
      "tensor(0.1561)\n",
      "Model Saved\n",
      "Epoch: 7/25. Train set: Average loss: 0.0992\tAverage nonzero triplets: 1280.0\n",
      "Epoch: 7/25. Validation set: Average loss: 0.1343\tAverage nonzero triplets: 51.0\n",
      "Train: [0/853 (0%)]\tLoss: 0.090851\tAverage nonzero triplets: 1061.0\n",
      "tensor(0.1528)\n",
      "Epoch: 8/25. Train set: Average loss: 0.0909\tAverage nonzero triplets: 1061.0\n",
      "Epoch: 8/25. Validation set: Average loss: 0.1346\tAverage nonzero triplets: 52.0\n",
      "Train: [0/853 (0%)]\tLoss: 0.088964\tAverage nonzero triplets: 797.0\n",
      "tensor(0.1460)\n",
      "Epoch: 9/25. Train set: Average loss: 0.0890\tAverage nonzero triplets: 797.0\n",
      "Epoch: 9/25. Validation set: Average loss: 0.1474\tAverage nonzero triplets: 52.0\n",
      "Train: [0/853 (0%)]\tLoss: 0.081180\tAverage nonzero triplets: 760.0\n",
      "tensor(0.1455)\n",
      "Epoch: 10/25. Train set: Average loss: 0.0812\tAverage nonzero triplets: 760.0\n",
      "Epoch: 10/25. Validation set: Average loss: 0.1264\tAverage nonzero triplets: 52.0\n",
      "Train: [0/853 (0%)]\tLoss: 0.079401\tAverage nonzero triplets: 654.0\n",
      "tensor(0.1455)\n",
      "Epoch: 11/25. Train set: Average loss: 0.0794\tAverage nonzero triplets: 654.0\n",
      "Epoch: 11/25. Validation set: Average loss: 0.1009\tAverage nonzero triplets: 51.0\n",
      "Train: [0/853 (0%)]\tLoss: 0.082513\tAverage nonzero triplets: 620.0\n",
      "tensor(0.1415)\n",
      "Model Saved\n",
      "Epoch: 12/25. Train set: Average loss: 0.0825\tAverage nonzero triplets: 620.0\n",
      "Epoch: 12/25. Validation set: Average loss: 0.1133\tAverage nonzero triplets: 50.0\n",
      "Train: [0/853 (0%)]\tLoss: 0.084355\tAverage nonzero triplets: 551.0\n",
      "tensor(0.1375)\n",
      "Epoch: 13/25. Train set: Average loss: 0.0844\tAverage nonzero triplets: 551.0\n",
      "Epoch: 13/25. Validation set: Average loss: 0.1178\tAverage nonzero triplets: 51.0\n",
      "Train: [0/853 (0%)]\tLoss: 0.084511\tAverage nonzero triplets: 477.0\n",
      "tensor(0.1480)\n",
      "Model Saved\n",
      "Epoch: 14/25. Train set: Average loss: 0.0845\tAverage nonzero triplets: 477.0\n",
      "Epoch: 14/25. Validation set: Average loss: 0.1106\tAverage nonzero triplets: 47.0\n",
      "Train: [0/853 (0%)]\tLoss: 0.074646\tAverage nonzero triplets: 413.0\n",
      "tensor(0.1422)\n",
      "Model Saved\n",
      "Epoch: 15/25. Train set: Average loss: 0.0746\tAverage nonzero triplets: 413.0\n",
      "Epoch: 15/25. Validation set: Average loss: 0.1324\tAverage nonzero triplets: 45.0\n",
      "Train: [0/853 (0%)]\tLoss: 0.077721\tAverage nonzero triplets: 411.0\n",
      "tensor(0.1385)\n",
      "Epoch: 16/25. Train set: Average loss: 0.0777\tAverage nonzero triplets: 411.0\n",
      "Epoch: 16/25. Validation set: Average loss: 0.1368\tAverage nonzero triplets: 48.0\n",
      "Train: [0/853 (0%)]\tLoss: 0.082676\tAverage nonzero triplets: 384.0\n",
      "tensor(0.1531)\n",
      "Epoch: 17/25. Train set: Average loss: 0.0827\tAverage nonzero triplets: 384.0\n",
      "Epoch: 17/25. Validation set: Average loss: 0.1187\tAverage nonzero triplets: 47.0\n",
      "Train: [0/853 (0%)]\tLoss: 0.081469\tAverage nonzero triplets: 355.0\n",
      "tensor(0.1484)\n",
      "Epoch: 18/25. Train set: Average loss: 0.0815\tAverage nonzero triplets: 355.0\n",
      "Epoch: 18/25. Validation set: Average loss: 0.1063\tAverage nonzero triplets: 49.0\n",
      "Train: [0/853 (0%)]\tLoss: 0.080452\tAverage nonzero triplets: 375.0\n",
      "tensor(0.1456)\n",
      "Model Saved\n",
      "Epoch: 19/25. Train set: Average loss: 0.0805\tAverage nonzero triplets: 375.0\n",
      "Epoch: 19/25. Validation set: Average loss: 0.1303\tAverage nonzero triplets: 44.0\n",
      "Train: [0/853 (0%)]\tLoss: 0.077338\tAverage nonzero triplets: 346.0\n",
      "tensor(0.1474)\n",
      "Epoch: 20/25. Train set: Average loss: 0.0773\tAverage nonzero triplets: 346.0\n",
      "Epoch: 20/25. Validation set: Average loss: 0.1239\tAverage nonzero triplets: 46.0\n",
      "Train: [0/853 (0%)]\tLoss: 0.080123\tAverage nonzero triplets: 340.0\n",
      "tensor(0.1465)\n",
      "Epoch: 21/25. Train set: Average loss: 0.0801\tAverage nonzero triplets: 340.0\n",
      "Epoch: 21/25. Validation set: Average loss: 0.1200\tAverage nonzero triplets: 44.0\n",
      "Train: [0/853 (0%)]\tLoss: 0.079077\tAverage nonzero triplets: 335.0\n",
      "tensor(0.1433)\n",
      "Epoch: 22/25. Train set: Average loss: 0.0791\tAverage nonzero triplets: 335.0\n",
      "Epoch: 22/25. Validation set: Average loss: 0.1142\tAverage nonzero triplets: 48.0\n",
      "Train: [0/853 (0%)]\tLoss: 0.079676\tAverage nonzero triplets: 361.0\n",
      "tensor(0.1450)\n",
      "Model Saved\n",
      "Epoch: 23/25. Train set: Average loss: 0.0797\tAverage nonzero triplets: 361.0\n",
      "Epoch: 23/25. Validation set: Average loss: 0.1227\tAverage nonzero triplets: 43.0\n",
      "Train: [0/853 (0%)]\tLoss: 0.082692\tAverage nonzero triplets: 307.0\n",
      "tensor(0.1363)\n",
      "Epoch: 24/25. Train set: Average loss: 0.0827\tAverage nonzero triplets: 307.0\n",
      "Epoch: 24/25. Validation set: Average loss: 0.1318\tAverage nonzero triplets: 45.0\n",
      "Train: [0/853 (0%)]\tLoss: 0.076134\tAverage nonzero triplets: 327.0\n",
      "tensor(0.1592)\n",
      "Epoch: 25/25. Train set: Average loss: 0.0761\tAverage nonzero triplets: 327.0\n",
      "Epoch: 25/25. Validation set: Average loss: 0.1114\tAverage nonzero triplets: 46.0\n"
     ]
    }
   ],
   "source": [
    "\n",
    "fit(online_train_loader, \n",
    "    online_test_loader, \n",
    "    model, loss_fn, \n",
    "    softmax_loss_fn, \n",
    "    optimizer, \n",
    "    scheduler, \n",
    "    n_epochs, \n",
    "    cuda, \n",
    "    log_interval, \n",
    "    metrics=[AverageNonzeroTripletsMetric()], \n",
    "    multi_class=MULTI_EMBEDDING,\n",
    "    softmax=softmax)"
   ]
  },
  {
   "cell_type": "markdown",
   "metadata": {
    "id": "iOMT9Pj0iYUk"
   },
   "source": []
  },
  {
   "cell_type": "code",
   "execution_count": null,
   "metadata": {
    "colab": {
     "base_uri": "https://localhost:8080/"
    },
    "executionInfo": {
     "elapsed": 186,
     "status": "ok",
     "timestamp": 1658887270011,
     "user": {
      "displayName": "Madhu Hegde",
      "userId": "05863931517844431420"
     },
     "user_tz": 420
    },
    "id": "smvUHdXOyt7r",
    "outputId": "6726a509-d063-45d5-8d53-d7b60159292a"
   },
   "outputs": [],
   "source": [
    "model_file_name = 'leop_id_model_softmax_cent_trip_aug_2.pt'\n",
    "model_path = f\"./siamese_triplet/weights/{model_file_name}\" \n",
    "cent_file_name = 'centroid_cent_trip_aug_2.pt'\n",
    "cent_path = f\"./siamese_triplet/weights/{cent_file_name}\"\n",
    "\n",
    "final_model_save = True\n",
    "if final_model_save:\n",
    "    torch.save(model.state_dict(), model_path)\n",
    "    torch.save(model.centroids, cent_path)\n",
    "else:\n",
    "    model.load_state_dict(torch.load(model_path))\n",
    "    model.centroids = torch.load(cent_path)\n",
    "    \n",
    "#del model#\n",
    "#model = embedding_net\n"
   ]
  },
  {
   "cell_type": "code",
   "execution_count": null,
   "metadata": {},
   "outputs": [],
   "source": [
    "load_train_model = False\n",
    "if load_train_model:\n",
    "    model.load_state_dict(torch.load('./best_weights'))\n",
    "    model.centroids = torch.load('./best_centroids')"
   ]
  },
  {
   "cell_type": "code",
   "execution_count": 5,
   "metadata": {
    "colab": {
     "base_uri": "https://localhost:8080/"
    },
    "executionInfo": {
     "elapsed": 38096,
     "status": "ok",
     "timestamp": 1658887344756,
     "user": {
      "displayName": "Madhu Hegde",
      "userId": "05863931517844431420"
     },
     "user_tz": 420
    },
    "id": "HoRFHZs2QHmI",
    "outputId": "0614cd76-6b56-403a-e0dc-cb629641c72b",
    "scrolled": false
   },
   "outputs": [
    {
     "name": "stdout",
     "output_type": "stream",
     "text": [
      "              precision    recall  f1-score   support\n",
      "\n",
      "           0       1.00      1.00      1.00         7\n",
      "           1       1.00      1.00      1.00         6\n",
      "           2       1.00      1.00      1.00        11\n",
      "           3       1.00      1.00      1.00         8\n",
      "           4       1.00      1.00      1.00        10\n",
      "           5       1.00      1.00      1.00         7\n",
      "           6       1.00      1.00      1.00        11\n",
      "           7       1.00      1.00      1.00         7\n",
      "           8       1.00      1.00      1.00         8\n",
      "           9       1.00      1.00      1.00        21\n",
      "          10       1.00      1.00      1.00        12\n",
      "          11       1.00      1.00      1.00         9\n",
      "          12       1.00      1.00      1.00         9\n",
      "          13       1.00      1.00      1.00        12\n",
      "          14       1.00      1.00      1.00         9\n",
      "          15       1.00      1.00      1.00        13\n",
      "          16       1.00      1.00      1.00        38\n",
      "          17       1.00      1.00      1.00         7\n",
      "          18       1.00      1.00      1.00        12\n",
      "          19       0.96      1.00      0.98        23\n",
      "          20       1.00      1.00      1.00        15\n",
      "          21       1.00      1.00      1.00        23\n",
      "          22       1.00      1.00      1.00         8\n",
      "          23       1.00      1.00      1.00        17\n",
      "          24       1.00      1.00      1.00         8\n",
      "          25       1.00      1.00      1.00        14\n",
      "          26       1.00      1.00      1.00        10\n",
      "          27       1.00      1.00      1.00        17\n",
      "          28       1.00      1.00      1.00        15\n",
      "          29       1.00      1.00      1.00         7\n",
      "          30       1.00      1.00      1.00        19\n",
      "          31       1.00      1.00      1.00        15\n",
      "          32       1.00      1.00      1.00         7\n",
      "          33       1.00      1.00      1.00        10\n",
      "          34       1.00      1.00      1.00         8\n",
      "          35       0.96      0.96      0.96        28\n",
      "          36       1.00      1.00      1.00         7\n",
      "          37       0.95      1.00      0.98        20\n",
      "          38       0.94      0.97      0.95        32\n",
      "          39       0.96      1.00      0.98        22\n",
      "          40       1.00      1.00      1.00        10\n",
      "          41       1.00      1.00      1.00        10\n",
      "          42       1.00      1.00      1.00        12\n",
      "          43       1.00      1.00      1.00        11\n",
      "          44       1.00      1.00      1.00        15\n",
      "          45       1.00      1.00      1.00        13\n",
      "          46       1.00      1.00      1.00         8\n",
      "          47       1.00      1.00      1.00        11\n",
      "          48       1.00      1.00      1.00         9\n",
      "          49       1.00      1.00      1.00         7\n",
      "          50       0.98      0.92      0.95        48\n",
      "          51       1.00      1.00      1.00         8\n",
      "          52       1.00      1.00      1.00        10\n",
      "          53       1.00      1.00      1.00         9\n",
      "          54       1.00      1.00      1.00         7\n",
      "          55       1.00      1.00      1.00         8\n",
      "          56       1.00      0.96      0.98        27\n",
      "          57       1.00      1.00      1.00        28\n",
      "          58       1.00      1.00      1.00        11\n",
      "          59       1.00      1.00      1.00        14\n",
      "          60       1.00      1.00      1.00         7\n",
      "          61       1.00      1.00      1.00         7\n",
      "          62       1.00      1.00      1.00         7\n",
      "          63       1.00      1.00      1.00         9\n",
      "\n",
      "    accuracy                           0.99       848\n",
      "   macro avg       1.00      1.00      1.00       848\n",
      "weighted avg       0.99      0.99      0.99       848\n",
      "\n",
      "              precision    recall  f1-score   support\n",
      "\n",
      "           0       1.00      0.50      0.67         2\n",
      "           1       1.00      1.00      1.00         1\n",
      "           2       1.00      0.67      0.80         3\n",
      "           3       0.00      0.00      0.00         3\n",
      "           4       0.67      1.00      0.80         2\n",
      "           5       0.00      0.00      0.00         1\n",
      "           6       1.00      1.00      1.00         2\n",
      "           7       1.00      1.00      1.00         1\n",
      "           8       0.50      0.50      0.50         2\n",
      "           9       0.62      0.71      0.67         7\n",
      "          10       1.00      0.80      0.89         5\n",
      "          11       0.25      0.50      0.33         2\n",
      "          12       0.00      0.00      0.00         2\n",
      "          13       0.75      1.00      0.86         3\n",
      "          14       0.50      1.00      0.67         1\n",
      "          15       1.00      1.00      1.00         2\n",
      "          16       0.67      0.73      0.70        11\n",
      "          17       0.50      0.50      0.50         2\n",
      "          18       1.00      0.83      0.91         6\n",
      "          19       0.70      0.78      0.74         9\n",
      "          20       1.00      0.33      0.50         3\n",
      "          21       1.00      0.67      0.80         6\n",
      "          22       1.00      0.50      0.67         2\n",
      "          23       0.83      0.50      0.62        10\n",
      "          24       0.00      0.00      0.00         3\n",
      "          25       1.00      0.86      0.92         7\n",
      "          26       1.00      0.67      0.80         3\n",
      "          27       0.50      1.00      0.67         2\n",
      "          28       1.00      0.50      0.67         2\n",
      "          29       0.50      1.00      0.67         1\n",
      "          30       0.86      0.86      0.86         7\n",
      "          31       1.00      0.80      0.89         5\n",
      "          32       1.00      0.50      0.67         2\n",
      "          33       0.00      0.00      0.00         1\n",
      "          34       0.33      0.50      0.40         2\n",
      "          35       0.64      0.82      0.72        11\n",
      "          36       1.00      1.00      1.00         2\n",
      "          37       0.55      0.55      0.55        11\n",
      "          38       0.29      0.25      0.27         8\n",
      "          39       1.00      0.67      0.80         3\n",
      "          40       0.50      1.00      0.67         3\n",
      "          41       0.00      0.00      0.00         2\n",
      "          42       0.40      1.00      0.57         2\n",
      "          43       1.00      1.00      1.00         2\n",
      "          44       1.00      0.33      0.50         3\n",
      "          45       0.00      0.00      0.00         1\n",
      "          46       0.00      0.00      0.00         1\n",
      "          47       0.50      0.33      0.40         3\n",
      "          48       0.33      0.50      0.40         2\n",
      "          49       0.75      0.75      0.75         4\n",
      "          50       0.73      0.80      0.76        10\n",
      "          51       0.00      0.00      0.00         1\n",
      "          52       1.00      1.00      1.00         2\n",
      "          53       0.00      0.00      0.00         2\n",
      "          54       0.00      0.00      0.00         2\n",
      "          55       0.50      1.00      0.67         1\n",
      "          56       0.36      0.80      0.50         5\n",
      "          57       0.50      0.86      0.63         7\n",
      "          58       1.00      1.00      1.00         2\n",
      "          59       0.75      0.75      0.75         4\n",
      "          60       1.00      0.50      0.67         2\n",
      "          61       1.00      0.50      0.67         2\n",
      "          62       1.00      1.00      1.00         2\n",
      "          63       0.00      0.00      0.00         1\n",
      "\n",
      "    accuracy                           0.65       224\n",
      "   macro avg       0.62      0.60      0.58       224\n",
      "weighted avg       0.68      0.65      0.64       224\n",
      "\n"
     ]
    },
    {
     "name": "stderr",
     "output_type": "stream",
     "text": [
      "/home/user1/anaconda3/envs/w210_env/lib/python3.9/site-packages/sklearn/metrics/_classification.py:1327: UndefinedMetricWarning: Precision and F-score are ill-defined and being set to 0.0 in labels with no predicted samples. Use `zero_division` parameter to control this behavior.\n",
      "  _warn_prf(average, modifier, msg_start, len(result))\n",
      "/home/user1/anaconda3/envs/w210_env/lib/python3.9/site-packages/sklearn/metrics/_classification.py:1327: UndefinedMetricWarning: Precision and F-score are ill-defined and being set to 0.0 in labels with no predicted samples. Use `zero_division` parameter to control this behavior.\n",
      "  _warn_prf(average, modifier, msg_start, len(result))\n",
      "/home/user1/anaconda3/envs/w210_env/lib/python3.9/site-packages/sklearn/metrics/_classification.py:1327: UndefinedMetricWarning: Precision and F-score are ill-defined and being set to 0.0 in labels with no predicted samples. Use `zero_division` parameter to control this behavior.\n",
      "  _warn_prf(average, modifier, msg_start, len(result))\n"
     ]
    }
   ],
   "source": [
    "train_eval_loader = data.DataLoader(train_dataset, \n",
    "                                    batch_size=16, \n",
    "                                    shuffle=False,  \n",
    "                                    num_workers=2, \n",
    "                                    drop_last=True, \n",
    "                                    pin_memory=cuda)\n",
    "\n",
    "train_emb, train_softmax, train_ref_labels, train_pred_labels = extract_embeddings(train_eval_loader, \n",
    "                                                                                   model, \n",
    "                                                                                   multi_class=MULTI_EMBEDDING, \n",
    "                                                                                   softmax=softmax,\n",
    "                                                                                   cuda=cuda)\n",
    "print(classification_report(train_ref_labels, train_pred_labels))\n",
    "\n",
    "test_eval_loader = data.DataLoader(test_dataset, \n",
    "                                   batch_size=16, \n",
    "                                   shuffle=False,  \n",
    "                                   num_workers=2, \n",
    "                                   drop_last=True, \n",
    "                                   pin_memory=cuda)\n",
    "\n",
    "test_emb, test_softmax, test_ref_labels, test_pred_labels= extract_embeddings(test_eval_loader, \n",
    "                                                                              model,\n",
    "                                                                              multi_class=MULTI_EMBEDDING, \n",
    "                                                                              softmax=softmax,\n",
    "                                                                              cuda=cuda)\n",
    "                                                                              \n",
    "print(classification_report(test_ref_labels, test_pred_labels))\n",
    "\n",
    "ood_eval_loader = data.DataLoader(ood_dataset, \n",
    "                                  batch_size=1, \n",
    "                                  shuffle=False,  \n",
    "                                  num_workers=2, \n",
    "                                  drop_last=True, \n",
    "                                  pin_memory=cuda)\n",
    "\n",
    "ood_emb, ood_softmax, ood_ref_labels, ood_pred_labels= extract_embeddings(ood_eval_loader, \n",
    "                                                                          model,multi_class=MULTI_EMBEDDING, \n",
    "                                                                          softmax=softmax,\n",
    "                                                                          cuda=cuda)"
   ]
  },
  {
   "cell_type": "code",
   "execution_count": 6,
   "metadata": {
    "colab": {
     "base_uri": "https://localhost:8080/"
    },
    "executionInfo": {
     "elapsed": 22,
     "status": "ok",
     "timestamp": 1658876979516,
     "user": {
      "displayName": "Madhu Hegde",
      "userId": "05863931517844431420"
     },
     "user_tz": 420
    },
    "id": "lvHgIRNmGem4",
    "outputId": "74d742e0-18d1-4e14-b44e-de0f1a880309"
   },
   "outputs": [],
   "source": [
    "from siamese_triplet.utils_triplet import centdist\n",
    "centroids = model.centroids.cuda()\n",
    "\n",
    "train_emb_dist = centdist(train_emb, centroids)\n",
    "train_emb_dist_sort, train_dist_indices = torch.sort(train_emb_dist, dim=1)\n",
    "#print(classification_report(train_dist_indices[:,0].cpu().numpy(), train_ref_labels))\n",
    "#print(sum(train_emb_dist_sort[:,0]<threshold)/train_emb_dist.size()[0])\n",
    "\n",
    "test_emb_dist = centdist(test_emb, centroids)\n",
    "test_emb_dist_ref = test_emb_dist[:, test_ref_labels] \n",
    "test_emb_dist_sort, test_dist_indices = torch.sort(test_emb_dist, dim=1)\n",
    "#print(classification_report(test_dist_indices[:,0].cpu().numpy(), test_ref_labels))\n",
    "\n",
    "test_softmax_sort, test_softmax_index = torch.sort(test_softmax, dim=1)\n",
    "\n",
    "ood_emb_dist = centdist(ood_emb, centroids)\n",
    "ood_emb_dist, ood_indices = torch.sort(ood_emb_dist, dim=1)\n",
    "\n",
    "ood_softmax_sort, ood_softmax_index = torch.sort(ood_softmax, dim=1)\n"
   ]
  },
  {
   "cell_type": "code",
   "execution_count": 7,
   "metadata": {
    "colab": {
     "base_uri": "https://localhost:8080/",
     "height": 295
    },
    "executionInfo": {
     "elapsed": 544,
     "status": "ok",
     "timestamp": 1658876980047,
     "user": {
      "displayName": "Madhu Hegde",
      "userId": "05863931517844431420"
     },
     "user_tz": 420
    },
    "id": "u5mYy9J5WhMT",
    "outputId": "7d988b96-c147-49d5-a469-214f3371633c"
   },
   "outputs": [
    {
     "data": {
      "image/png": "[encoded data removed]",
      "text/plain": [
       "<Figure size 432x288 with 1 Axes>"
      ]
     },
     "metadata": {
      "needs_background": "light"
     },
     "output_type": "display_data"
    }
   ],
   "source": [
    "test_emb_tensor_index = torch.tensor(test_ref_labels).cuda()\n",
    "test_emb_dist_ref = test_emb_dist[range(test_emb_tensor_index.shape[0]), test_emb_tensor_index]\n",
    "\n",
    "train_emb_tensor_index = torch.tensor(train_ref_labels).cuda()\n",
    "train_emb_dist_ref = train_emb_dist[range(train_emb_tensor_index.shape[0]), train_emb_tensor_index]\n",
    "train_emb_dist_mean = torch.mean(train_emb_dist_ref)\n",
    "train_emb_dist_ref = train_emb_dist_ref - train_emb_dist_mean\n",
    "test_emb_dist_ref = test_emb_dist_ref - train_emb_dist_mean\n",
    "\n",
    "import matplotlib.pyplot as plt\n",
    "bins = numpy.linspace(0, 0.2, 4)\n",
    "plt.hist(train_emb_dist_ref.cpu().numpy(),  bins=20, alpha=0.5, label='Train')\n",
    "plt.hist(test_emb_dist_ref.cpu().numpy(), bins=20, alpha=0.5, label='Test')\n",
    "\n",
    "plt.hist((ood_emb_dist[:,0]-train_emb_dist_mean).cpu().numpy(), bins=20, alpha=0.5, label='OOD' )\n",
    "#plt.title(\"Histogram of Distance from the centroid\")\n",
    "plt.title(\"Softmax with Centroid Triplet\")\n",
    "plt.xlabel('Distance From Centroid')\n",
    "plt.ylabel('Probability')\n",
    "plt.legend(loc='upper right')\n",
    "plt.show()\n"
   ]
  },
  {
   "cell_type": "code",
   "execution_count": 8,
   "metadata": {
    "colab": {
     "base_uri": "https://localhost:8080/"
    },
    "executionInfo": {
     "elapsed": 280,
     "status": "ok",
     "timestamp": 1658877571989,
     "user": {
      "displayName": "Madhu Hegde",
      "userId": "05863931517844431420"
     },
     "user_tz": 420
    },
    "id": "UhnvOAkGeK_U",
    "outputId": "69510e15-e492-4ab4-f88e-408e9e3983dd"
   },
   "outputs": [
    {
     "name": "stdout",
     "output_type": "stream",
     "text": [
      "              precision    recall  f1-score   support\n",
      "\n",
      "           0       1.00      0.50      0.67         2\n",
      "           1       1.00      1.00      1.00         1\n",
      "           2       1.00      0.33      0.50         3\n",
      "           3       0.00      0.00      0.00         3\n",
      "           4       1.00      1.00      1.00         2\n",
      "           5       0.00      0.00      0.00         1\n",
      "           6       1.00      1.00      1.00         2\n",
      "           7       1.00      1.00      1.00         1\n",
      "           8       0.50      0.50      0.50         2\n",
      "           9       0.83      0.71      0.77         7\n",
      "          10       1.00      0.80      0.89         5\n",
      "          11       0.33      0.50      0.40         2\n",
      "          12       0.00      0.00      0.00         2\n",
      "          13       1.00      0.67      0.80         3\n",
      "          14       0.50      1.00      0.67         1\n",
      "          15       1.00      0.50      0.67         2\n",
      "          16       0.73      0.73      0.73        11\n",
      "          17       0.50      0.50      0.50         2\n",
      "          18       1.00      0.83      0.91         6\n",
      "          19       0.78      0.78      0.78         9\n",
      "          20       1.00      0.33      0.50         3\n",
      "          21       1.00      0.50      0.67         6\n",
      "          22       1.00      0.50      0.67         2\n",
      "          23       0.67      0.20      0.31        10\n",
      "          24       0.00      0.00      0.00         3\n",
      "          25       1.00      0.86      0.92         7\n",
      "          26       1.00      0.67      0.80         3\n",
      "          27       0.50      1.00      0.67         2\n",
      "          28       1.00      0.50      0.67         2\n",
      "          29       0.50      1.00      0.67         1\n",
      "          30       1.00      0.29      0.44         7\n",
      "          31       1.00      0.80      0.89         5\n",
      "          32       1.00      0.50      0.67         2\n",
      "          33       0.00      0.00      0.00         1\n",
      "          34       0.00      0.00      0.00         2\n",
      "          35       0.75      0.82      0.78        11\n",
      "          36       1.00      1.00      1.00         2\n",
      "          37       0.67      0.55      0.60        11\n",
      "          38       0.29      0.25      0.27         8\n",
      "          39       1.00      0.67      0.80         3\n",
      "          40       1.00      0.67      0.80         3\n",
      "          41       0.00      0.00      0.00         2\n",
      "          42       0.40      1.00      0.57         2\n",
      "          43       1.00      1.00      1.00         2\n",
      "          44       1.00      0.33      0.50         3\n",
      "          45       0.00      0.00      0.00         1\n",
      "          46       0.00      0.00      0.00         1\n",
      "          47       1.00      0.33      0.50         3\n",
      "          48       0.50      0.50      0.50         2\n",
      "          49       1.00      0.75      0.86         4\n",
      "          50       0.78      0.70      0.74        10\n",
      "          51       0.00      0.00      0.00         1\n",
      "          52       1.00      1.00      1.00         2\n",
      "          53       0.00      0.00      0.00         2\n",
      "          54       0.00      0.00      0.00         2\n",
      "          55       0.50      1.00      0.67         1\n",
      "          56       0.36      0.80      0.50         5\n",
      "          57       0.60      0.86      0.71         7\n",
      "          58       1.00      1.00      1.00         2\n",
      "          59       0.75      0.75      0.75         4\n",
      "          60       1.00      0.50      0.67         2\n",
      "          61       1.00      0.50      0.67         2\n",
      "          62       1.00      1.00      1.00         2\n",
      "          63       0.00      0.00      0.00         1\n",
      "          64       0.00      0.00      0.00         0\n",
      "\n",
      "    accuracy                           0.59       224\n",
      "   macro avg       0.65      0.55      0.56       224\n",
      "weighted avg       0.73      0.59      0.62       224\n",
      "\n",
      "tensor(0.5086, device='cuda:0') 0.6600000000000005\n"
     ]
    },
    {
     "name": "stderr",
     "output_type": "stream",
     "text": [
      "/home/user1/anaconda3/envs/w210_env/lib/python3.9/site-packages/sklearn/metrics/_classification.py:1327: UndefinedMetricWarning: Precision and F-score are ill-defined and being set to 0.0 in labels with no predicted samples. Use `zero_division` parameter to control this behavior.\n",
      "  _warn_prf(average, modifier, msg_start, len(result))\n",
      "/home/user1/anaconda3/envs/w210_env/lib/python3.9/site-packages/sklearn/metrics/_classification.py:1327: UndefinedMetricWarning: Recall and F-score are ill-defined and being set to 0.0 in labels with no true samples. Use `zero_division` parameter to control this behavior.\n",
      "  _warn_prf(average, modifier, msg_start, len(result))\n",
      "/home/user1/anaconda3/envs/w210_env/lib/python3.9/site-packages/sklearn/metrics/_classification.py:1327: UndefinedMetricWarning: Precision and F-score are ill-defined and being set to 0.0 in labels with no predicted samples. Use `zero_division` parameter to control this behavior.\n",
      "  _warn_prf(average, modifier, msg_start, len(result))\n",
      "/home/user1/anaconda3/envs/w210_env/lib/python3.9/site-packages/sklearn/metrics/_classification.py:1327: UndefinedMetricWarning: Recall and F-score are ill-defined and being set to 0.0 in labels with no true samples. Use `zero_division` parameter to control this behavior.\n",
      "  _warn_prf(average, modifier, msg_start, len(result))\n",
      "/home/user1/anaconda3/envs/w210_env/lib/python3.9/site-packages/sklearn/metrics/_classification.py:1327: UndefinedMetricWarning: Precision and F-score are ill-defined and being set to 0.0 in labels with no predicted samples. Use `zero_division` parameter to control this behavior.\n",
      "  _warn_prf(average, modifier, msg_start, len(result))\n",
      "/home/user1/anaconda3/envs/w210_env/lib/python3.9/site-packages/sklearn/metrics/_classification.py:1327: UndefinedMetricWarning: Recall and F-score are ill-defined and being set to 0.0 in labels with no true samples. Use `zero_division` parameter to control this behavior.\n",
      "  _warn_prf(average, modifier, msg_start, len(result))\n"
     ]
    }
   ],
   "source": [
    "threshold = 0.1\n",
    "OOD_rejection_rate = 0.5\n",
    "\n",
    "while sum(ood_emb_dist[:,0]<threshold)/ood_emb_dist.size()[0] < OOD_rejection_rate:\n",
    "  threshold = threshold + 0.005\n",
    "\n",
    "#test_emb, test_softmax, test_ref_labels, test_pred_labels= extract_embeddings(test_eval_loader, model,multi_class=True, softmax=True)\n",
    "for i in range(len(test_pred_labels)):\n",
    "    if test_emb_dist_sort[i,0] > threshold and test_softmax_sort[i,-1] < 0.5 :\n",
    "       test_pred_labels[i] = 64  \n",
    "         \n",
    "print(classification_report(test_ref_labels, test_pred_labels))\n",
    "print(sum(ood_emb_dist[:,0]<threshold)/ood_emb_dist.size()[0], threshold)"
   ]
  },
  {
   "cell_type": "code",
   "execution_count": null,
   "metadata": {
    "colab": {
     "base_uri": "https://localhost:8080/"
    },
    "executionInfo": {
     "elapsed": 946,
     "status": "ok",
     "timestamp": 1658785309521,
     "user": {
      "displayName": "Madhu Hegde",
      "userId": "05863931517844431420"
     },
     "user_tz": 420
    },
    "id": "FemSVYtSfXDZ",
    "outputId": "3aa30316-a81e-4290-eaf5-f7ed37ced175"
   },
   "outputs": [],
   "source": [
    "from sklearn.svm import SVC\n",
    "from sklearn.pipeline import make_pipeline\n",
    "from sklearn.preprocessing import StandardScaler\n",
    "from sklearn.metrics import accuracy_score\n",
    "\n",
    "clf = make_pipeline(StandardScaler(), SVC(gamma='auto'))\n",
    "train_emb_cpu = train_emb.data.cpu().numpy()\n",
    "test_emb_cpu = test_emb.data.cpu().numpy()\n",
    "clf.fit(train_emb_cpu, train_ref_labels)\n",
    "\n",
    "train_pred_labels = clf.predict(train_emb_cpu)\n",
    "train_acc = accuracy_score(train_ref_labels, train_pred_labels)\n",
    "\n",
    "test_pred_labels = clf.predict(test_emb_cpu)\n",
    "test_acc = accuracy_score(test_ref_labels, test_pred_labels)\n",
    "\n",
    "print(\"Training Accuracy: \" + str(train_acc))\n",
    "print(\"Testing Accuracy: \" + str(test_acc))"
   ]
  },
  {
   "cell_type": "code",
   "execution_count": null,
   "metadata": {},
   "outputs": [],
   "source": [
    "print(classification_report(train_ref_labels, train_pred_labels))"
   ]
  },
  {
   "cell_type": "code",
   "execution_count": null,
   "metadata": {},
   "outputs": [],
   "source": [
    "print(classification_report(test_ref_labels, test_pred_labels))"
   ]
  }
 ],
 "metadata": {
  "accelerator": "GPU",
  "colab": {
   "background_execution": "on",
   "name": "leopard_identification.ipynb",
   "provenance": []
  },
  "kernelspec": {
   "display_name": "w210_env",
   "language": "python",
   "name": "w210_env"
  },
  "language_info": {
   "codemirror_mode": {
    "name": "ipython",
    "version": 3
   },
   "file_extension": ".py",
   "mimetype": "text/x-python",
   "name": "python",
   "nbconvert_exporter": "python",
   "pygments_lexer": "ipython3",
   "version": "3.9.12"
  },
  "widgets": {
   "application/vnd.jupyter.widget-state+json": {
    "04c4d292430e44858206d6969d2faeca": {
     "model_module": "@jupyter-widgets/base",
     "model_module_version": "1.2.0",
     "model_name": "LayoutModel",
     "state": {
      "_model_module": "@jupyter-widgets/base",
      "_model_module_version": "1.2.0",
      "_model_name": "LayoutModel",
      "_view_count": null,
      "_view_module": "@jupyter-widgets/base",
      "_view_module_version": "1.2.0",
      "_view_name": "LayoutView",
      "align_content": null,
      "align_items": null,
      "align_self": null,
      "border": null,
      "bottom": null,
      "display": null,
      "flex": null,
      "flex_flow": null,
      "grid_area": null,
      "grid_auto_columns": null,
      "grid_auto_flow": null,
      "grid_auto_rows": null,
      "grid_column": null,
      "grid_gap": null,
      "grid_row": null,
      "grid_template_areas": null,
      "grid_template_columns": null,
      "grid_template_rows": null,
      "height": null,
      "justify_content": null,
      "justify_items": null,
      "left": null,
      "margin": null,
      "max_height": null,
      "max_width": null,
      "min_height": null,
      "min_width": null,
      "object_fit": null,
      "object_position": null,
      "order": null,
      "overflow": null,
      "overflow_x": null,
      "overflow_y": null,
      "padding": null,
      "right": null,
      "top": null,
      "visibility": null,
      "width": null
     }
    },
    "26118d43b0aa46999846003373063a58": {
     "model_module": "@jupyter-widgets/controls",
     "model_module_version": "1.5.0",
     "model_name": "HTMLModel",
     "state": {
      "_dom_classes": [],
      "_model_module": "@jupyter-widgets/controls",
      "_model_module_version": "1.5.0",
      "_model_name": "HTMLModel",
      "_view_count": null,
      "_view_module": "@jupyter-widgets/controls",
      "_view_module_version": "1.5.0",
      "_view_name": "HTMLView",
      "description": "",
      "description_tooltip": null,
      "layout": "IPY_MODEL_a41d444425ed407a89493daa34ec0fc5",
      "placeholder": "​",
      "style": "IPY_MODEL_d7f7cd1e0ba041efb771707939664786",
      "value": " 44.7M/44.7M [00:00&lt;00:00, 65.9MB/s]"
     }
    },
    "3eeb4a10f98c4c528b8cb5e6c8706dd7": {
     "model_module": "@jupyter-widgets/base",
     "model_module_version": "1.2.0",
     "model_name": "LayoutModel",
     "state": {
      "_model_module": "@jupyter-widgets/base",
      "_model_module_version": "1.2.0",
      "_model_name": "LayoutModel",
      "_view_count": null,
      "_view_module": "@jupyter-widgets/base",
      "_view_module_version": "1.2.0",
      "_view_name": "LayoutView",
      "align_content": null,
      "align_items": null,
      "align_self": null,
      "border": null,
      "bottom": null,
      "display": null,
      "flex": null,
      "flex_flow": null,
      "grid_area": null,
      "grid_auto_columns": null,
      "grid_auto_flow": null,
      "grid_auto_rows": null,
      "grid_column": null,
      "grid_gap": null,
      "grid_row": null,
      "grid_template_areas": null,
      "grid_template_columns": null,
      "grid_template_rows": null,
      "height": null,
      "justify_content": null,
      "justify_items": null,
      "left": null,
      "margin": null,
      "max_height": null,
      "max_width": null,
      "min_height": null,
      "min_width": null,
      "object_fit": null,
      "object_position": null,
      "order": null,
      "overflow": null,
      "overflow_x": null,
      "overflow_y": null,
      "padding": null,
      "right": null,
      "top": null,
      "visibility": null,
      "width": null
     }
    },
    "4674a4bc91f142c285816a0b7fea3031": {
     "model_module": "@jupyter-widgets/base",
     "model_module_version": "1.2.0",
     "model_name": "LayoutModel",
     "state": {
      "_model_module": "@jupyter-widgets/base",
      "_model_module_version": "1.2.0",
      "_model_name": "LayoutModel",
      "_view_count": null,
      "_view_module": "@jupyter-widgets/base",
      "_view_module_version": "1.2.0",
      "_view_name": "LayoutView",
      "align_content": null,
      "align_items": null,
      "align_self": null,
      "border": null,
      "bottom": null,
      "display": null,
      "flex": null,
      "flex_flow": null,
      "grid_area": null,
      "grid_auto_columns": null,
      "grid_auto_flow": null,
      "grid_auto_rows": null,
      "grid_column": null,
      "grid_gap": null,
      "grid_row": null,
      "grid_template_areas": null,
      "grid_template_columns": null,
      "grid_template_rows": null,
      "height": null,
      "justify_content": null,
      "justify_items": null,
      "left": null,
      "margin": null,
      "max_height": null,
      "max_width": null,
      "min_height": null,
      "min_width": null,
      "object_fit": null,
      "object_position": null,
      "order": null,
      "overflow": null,
      "overflow_x": null,
      "overflow_y": null,
      "padding": null,
      "right": null,
      "top": null,
      "visibility": null,
      "width": null
     }
    },
    "777b64e062194a8389d3ec5c15128faa": {
     "model_module": "@jupyter-widgets/controls",
     "model_module_version": "1.5.0",
     "model_name": "HBoxModel",
     "state": {
      "_dom_classes": [],
      "_model_module": "@jupyter-widgets/controls",
      "_model_module_version": "1.5.0",
      "_model_name": "HBoxModel",
      "_view_count": null,
      "_view_module": "@jupyter-widgets/controls",
      "_view_module_version": "1.5.0",
      "_view_name": "HBoxView",
      "box_style": "",
      "children": [
       "IPY_MODEL_95f8d8c9db6542b8a0806fb8f589cbb9",
       "IPY_MODEL_b91cd4d5997743e790fd9a26a7d59246",
       "IPY_MODEL_26118d43b0aa46999846003373063a58"
      ],
      "layout": "IPY_MODEL_04c4d292430e44858206d6969d2faeca"
     }
    },
    "95f8d8c9db6542b8a0806fb8f589cbb9": {
     "model_module": "@jupyter-widgets/controls",
     "model_module_version": "1.5.0",
     "model_name": "HTMLModel",
     "state": {
      "_dom_classes": [],
      "_model_module": "@jupyter-widgets/controls",
      "_model_module_version": "1.5.0",
      "_model_name": "HTMLModel",
      "_view_count": null,
      "_view_module": "@jupyter-widgets/controls",
      "_view_module_version": "1.5.0",
      "_view_name": "HTMLView",
      "description": "",
      "description_tooltip": null,
      "layout": "IPY_MODEL_4674a4bc91f142c285816a0b7fea3031",
      "placeholder": "​",
      "style": "IPY_MODEL_e8369f34a28f4190bbe5340548483afe",
      "value": "100%"
     }
    },
    "a41d444425ed407a89493daa34ec0fc5": {
     "model_module": "@jupyter-widgets/base",
     "model_module_version": "1.2.0",
     "model_name": "LayoutModel",
     "state": {
      "_model_module": "@jupyter-widgets/base",
      "_model_module_version": "1.2.0",
      "_model_name": "LayoutModel",
      "_view_count": null,
      "_view_module": "@jupyter-widgets/base",
      "_view_module_version": "1.2.0",
      "_view_name": "LayoutView",
      "align_content": null,
      "align_items": null,
      "align_self": null,
      "border": null,
      "bottom": null,
      "display": null,
      "flex": null,
      "flex_flow": null,
      "grid_area": null,
      "grid_auto_columns": null,
      "grid_auto_flow": null,
      "grid_auto_rows": null,
      "grid_column": null,
      "grid_gap": null,
      "grid_row": null,
      "grid_template_areas": null,
      "grid_template_columns": null,
      "grid_template_rows": null,
      "height": null,
      "justify_content": null,
      "justify_items": null,
      "left": null,
      "margin": null,
      "max_height": null,
      "max_width": null,
      "min_height": null,
      "min_width": null,
      "object_fit": null,
      "object_position": null,
      "order": null,
      "overflow": null,
      "overflow_x": null,
      "overflow_y": null,
      "padding": null,
      "right": null,
      "top": null,
      "visibility": null,
      "width": null
     }
    },
    "b91cd4d5997743e790fd9a26a7d59246": {
     "model_module": "@jupyter-widgets/controls",
     "model_module_version": "1.5.0",
     "model_name": "FloatProgressModel",
     "state": {
      "_dom_classes": [],
      "_model_module": "@jupyter-widgets/controls",
      "_model_module_version": "1.5.0",
      "_model_name": "FloatProgressModel",
      "_view_count": null,
      "_view_module": "@jupyter-widgets/controls",
      "_view_module_version": "1.5.0",
      "_view_name": "ProgressView",
      "bar_style": "success",
      "description": "",
      "description_tooltip": null,
      "layout": "IPY_MODEL_3eeb4a10f98c4c528b8cb5e6c8706dd7",
      "max": 46830571,
      "min": 0,
      "orientation": "horizontal",
      "style": "IPY_MODEL_c4ed85e531ae4fcfa783ddf7c5f29372",
      "value": 46830571
     }
    },
    "c4ed85e531ae4fcfa783ddf7c5f29372": {
     "model_module": "@jupyter-widgets/controls",
     "model_module_version": "1.5.0",
     "model_name": "ProgressStyleModel",
     "state": {
      "_model_module": "@jupyter-widgets/controls",
      "_model_module_version": "1.5.0",
      "_model_name": "ProgressStyleModel",
      "_view_count": null,
      "_view_module": "@jupyter-widgets/base",
      "_view_module_version": "1.2.0",
      "_view_name": "StyleView",
      "bar_color": null,
      "description_width": ""
     }
    },
    "d7f7cd1e0ba041efb771707939664786": {
     "model_module": "@jupyter-widgets/controls",
     "model_module_version": "1.5.0",
     "model_name": "DescriptionStyleModel",
     "state": {
      "_model_module": "@jupyter-widgets/controls",
      "_model_module_version": "1.5.0",
      "_model_name": "DescriptionStyleModel",
      "_view_count": null,
      "_view_module": "@jupyter-widgets/base",
      "_view_module_version": "1.2.0",
      "_view_name": "StyleView",
      "description_width": ""
     }
    },
    "e8369f34a28f4190bbe5340548483afe": {
     "model_module": "@jupyter-widgets/controls",
     "model_module_version": "1.5.0",
     "model_name": "DescriptionStyleModel",
     "state": {
      "_model_module": "@jupyter-widgets/controls",
      "_model_module_version": "1.5.0",
      "_model_name": "DescriptionStyleModel",
      "_view_count": null,
      "_view_module": "@jupyter-widgets/base",
      "_view_module_version": "1.2.0",
      "_view_name": "StyleView",
      "description_width": ""
     }
    }
   }
  }
 },
 "nbformat": 4,
 "nbformat_minor": 1
}
