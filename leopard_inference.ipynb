{
 "cells": [
  {
   "cell_type": "code",
   "execution_count": 1,
   "id": "5e110018",
   "metadata": {},
   "outputs": [],
   "source": [
    "\n",
    "import torch\n",
    "from yolov5.detect import run\n",
    "from utils_main.utils import ResizeImages\n",
    "from siamese_triplet.datasets import LeopardDataset\n",
    "from siamese_triplet.networks import EmbeddingNet\n",
    "from siamese_triplet.networks import EmbeddingWithSoftmaxNet\n",
    "from siamese_triplet.networks import MultiPartEmbeddingNet\n",
    "from siamese_triplet.networks import MultiPartEmbeddingWithSoftmaxNet\n",
    "from siamese_triplet.networks import extract_embeddings\n",
    "from siamese_triplet.networks import InferenceNetwork"
   ]
  },
  {
   "cell_type": "code",
   "execution_count": 2,
   "id": "101cdee2",
   "metadata": {},
   "outputs": [],
   "source": [
    "#Yolov5 folders\n",
    "CROP_FOLDER = '../dataset/'\n",
    "YOLOV5_FOLDER = './yolov5/'\n",
    "YOLOV5_WEIGHTS_FOLDER = YOLOV5_FOLDER + 'yolov5_weights/best.pt'\n",
    "INPUT_IMAGE_FOLDER = '/home/user1/work/W210/datasets/temp/'\n",
    "\n",
    "# Siamese network files/folder\n",
    "model_file_name = 'leop_id_model_july_28.pt'\n",
    "centroid_file_name = 'centroid_july_28.pt'\n",
    "dict_file_name = 'leopard_label_dict.pt'\n",
    "model_path = f\"./siamese_triplet/weights/{model_file_name}\"    \n",
    "centroid_path = f\"./siamese_triplet/weights/{centroid_file_name}\"   \n",
    "labels_dict_path = f\"./siamese_triplet/weights/{dict_file_name}\" \n",
    "\n",
    "# input path to identification\n",
    "RESIZE_IMAGE_PATH = CROP_FOLDER+'resize/'\n",
    "   "
   ]
  },
  {
   "cell_type": "code",
   "execution_count": null,
   "id": "0dcbfd78",
   "metadata": {},
   "outputs": [],
   "source": [
    "# Run Yolov5 to generate cropped images\n",
    "run(weights=YOLOV5_WEIGHTS_FOLDER,\n",
    "    conf_thres= 0.75,\n",
    "    nosave=True,\n",
    "    data = YOLOV5_FOLDER+'/data/custom.yaml',\n",
    "    project = CROP_FOLDER,\n",
    "    name = '',\n",
    "    source = INPUT_IMAGE_FOLDER,\n",
    "    save_crop=True)"
   ]
  },
  {
   "cell_type": "code",
   "execution_count": 3,
   "id": "3cbb442a",
   "metadata": {},
   "outputs": [],
   "source": [
    "# Generate resize images from cropped images\n",
    "resize_images = ResizeImages(in_path=CROP_FOLDER+'crops/',out_path=CROP_FOLDER+'resize/leop_xx')\n",
    "#resize_images.run()"
   ]
  },
  {
   "cell_type": "code",
   "execution_count": 4,
   "id": "4bb686d8",
   "metadata": {},
   "outputs": [],
   "source": [
    "# Initialize Siamese network model and load weights\n",
    "MULTI_EMBEDDING = True\n",
    "softmax = True\n",
    "cuda = torch.cuda.is_available()\n",
    "\n",
    "model = EmbeddingWithSoftmaxNet(num_classes=64)\n",
    "if cuda:\n",
    "    model.cuda()\n",
    "\n",
    "model.load_state_dict(torch.load(model_path))\n",
    "model.centroids = torch.load(centroid_path)\n",
    "labels_dict = torch.load(labels_dict_path)\n"
   ]
  },
  {
   "cell_type": "code",
   "execution_count": 5,
   "id": "1c54f9dd",
   "metadata": {},
   "outputs": [
    {
     "name": "stdout",
     "output_type": "stream",
     "text": [
      "['leop_0', 'leop_0', 'leop_0', 'leop_0', 'leop_0', 'leop_0', 'leop_0', 'leop_UKN']\n"
     ]
    }
   ],
   "source": [
    "#Run identification Network\n",
    "\n",
    "infer_network = InferenceNetwork(infer_path=RESIZE_IMAGE_PATH,\n",
    "                                 model = model,\n",
    "                                 labels_dict = labels_dict,\n",
    "                                 infer_labels = resize_images.labels,\n",
    "                                 ood_reject_thresh = 0.675,\n",
    "                                 cuda = cuda\n",
    "                                 )\n",
    "pred_ind, pred_label = infer_network.run()\n",
    "print(pred_label)"
   ]
  },
  {
   "cell_type": "code",
   "execution_count": null,
   "id": "073aa8fc",
   "metadata": {},
   "outputs": [],
   "source": []
  }
 ],
 "metadata": {
  "kernelspec": {
   "display_name": "w210_env",
   "language": "python",
   "name": "w210_env"
  },
  "language_info": {
   "codemirror_mode": {
    "name": "ipython",
    "version": 3
   },
   "file_extension": ".py",
   "mimetype": "text/x-python",
   "name": "python",
   "nbconvert_exporter": "python",
   "pygments_lexer": "ipython3",
   "version": "3.9.12"
  }
 },
 "nbformat": 4,
 "nbformat_minor": 5
}
