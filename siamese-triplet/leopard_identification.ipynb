{
 "cells": [
  {
   "cell_type": "code",
   "execution_count": null,
   "metadata": {
    "id": "sx9e_pXlCuti"
   },
   "outputs": [],
   "source": [
    "%load_ext autoreload\n",
    "%autoreload 2"
   ]
  },
  {
   "cell_type": "markdown",
   "metadata": {
    "id": "MfJfYeZKW_G-"
   },
   "source": []
  },
  {
   "cell_type": "code",
   "execution_count": 1,
   "metadata": {
    "colab": {
     "base_uri": "https://localhost:8080/"
    },
    "executionInfo": {
     "elapsed": 20434,
     "status": "ok",
     "timestamp": 1658883131868,
     "user": {
      "displayName": "Madhu Hegde",
      "userId": "05863931517844431420"
     },
     "user_tz": 420
    },
    "id": "nyfx8ErC7I87",
    "outputId": "a58acf80-1e52-4585-e656-61b17dc26637"
   },
   "outputs": [
    {
     "name": "stdout",
     "output_type": "stream",
     "text": [
      "Mounted at /content/gdrive\n",
      "/content/gdrive/MyDrive\n"
     ]
    }
   ],
   "source": [
    "from google.colab import drive\n",
    "drive.mount('/content/gdrive')\n",
    "!ln -s /content/gdrive/MyDrive /mydrive\n",
    "%cd /mydrive/\n"
   ]
  },
  {
   "cell_type": "markdown",
   "metadata": {
    "id": "UMMut8UVCutt"
   },
   "source": [
    "# Experiments\n",
    "We'll go through learning feature embeddings using different loss functions on leopard  dataset. We are using 512-dimensional embeddings.\n",
    "\n",
    "For every experiment Resnet18() is used currently no  hyperparameter search is implemented."
   ]
  },
  {
   "cell_type": "markdown",
   "metadata": {
    "id": "BcmGBqXeCutw"
   },
   "source": [
    "# Prepare dataset\n",
    "We'll be working on leopard dataset"
   ]
  },
  {
   "cell_type": "code",
   "execution_count": 2,
   "metadata": {
    "executionInfo": {
     "elapsed": 2608,
     "status": "ok",
     "timestamp": 1658883146373,
     "user": {
      "displayName": "Madhu Hegde",
      "userId": "05863931517844431420"
     },
     "user_tz": 420
    },
    "id": "yWtk_bJJKKBR"
   },
   "outputs": [],
   "source": [
    "import torchvision\n",
    "from torchvision import transforms\n",
    "from torchvision.datasets import ImageFolder\n",
    "import torch.utils.data as data\n",
    "import torch\n",
    "transform_img = transforms.Compose([\n",
    "    #transforms.Resize(size= (128, 128)),\n",
    "    transforms.ToTensor(),\n",
    "    transforms.Normalize(mean=[0.485, 0.456, 0.406],\n",
    "                         std=[0.229, 0.224, 0.225] )\n",
    "    ])"
   ]
  },
  {
   "cell_type": "code",
   "execution_count": 3,
   "metadata": {
    "colab": {
     "base_uri": "https://localhost:8080/"
    },
    "executionInfo": {
     "elapsed": 103703,
     "status": "ok",
     "timestamp": 1658883252833,
     "user": {
      "displayName": "Madhu Hegde",
      "userId": "05863931517844431420"
     },
     "user_tz": 420
    },
    "id": "o8lLb7ZNMJ-M",
    "outputId": "b9fd9ff1-890d-4b25-d7cb-6fafe33b1767"
   },
   "outputs": [
    {
     "name": "stdout",
     "output_type": "stream",
     "text": [
      "/content/gdrive/MyDrive/W210/Animal_Identification/siamese-triplet\n"
     ]
    }
   ],
   "source": [
    "%cd /mydrive/W210/Animal_Identification/siamese-triplet/\n",
    "\n",
    "from datasets import LeopardDataset\n",
    "\n",
    "MULTI_EMBEDDING = True\n",
    "cuda = torch.cuda.is_available()\n",
    "\n",
    "if MULTI_EMBEDDING:\n",
    "    TRAIN_DATA_PATH = '../../../datasets/leopard/classes_64/resize_256/train'\n",
    "    train_dataset = LeopardDataset(image_dir=TRAIN_DATA_PATH,transform=transform_img)\n",
    "    TEST_DATA_PATH = '../../../datasets/leopard/classes_64/resize_256/test'\n",
    "    test_dataset = LeopardDataset(image_dir=TEST_DATA_PATH,transform=transform_img)\n",
    "    OOD_DATA_PATH = '../../../datasets/leopard/classes_64/ood_set'\n",
    "    ood_dataset = LeopardDataset(image_dir=OOD_DATA_PATH,transform=transform_img)\n",
    "else:\n",
    "    TRAIN_DATA_PATH = '../../datasets/temp'\n",
    "    train_dataset = torchvision.datasets.ImageFolder(root=TRAIN_DATA_PATH, transform=transform_img)\n",
    "    TEST_DATA_PATH = '../../datasets/temp'\n",
    "    test_dataset = torchvision.datasets.ImageFolder(root=TEST_DATA_PATH, transform=transform_img)"
   ]
  },
  {
   "cell_type": "markdown",
   "metadata": {
    "id": "TcZTFRnjCut3"
   },
   "source": [
    "## Common setup"
   ]
  },
  {
   "cell_type": "markdown",
   "metadata": {
    "id": "75moY8AyCut_"
   },
   "source": [
    "# Baseline: Classification with softmax\n",
    "We'll train the model for classification and use outputs of penultimate layer as embeddings"
   ]
  },
  {
   "cell_type": "markdown",
   "metadata": {
    "id": "x7C9H1_nCuvJ"
   },
   "source": [
    "# Online pair/triplet selection - negative mining\n",
    "There are couple of problems with siamese and triplet networks.\n",
    "1. The number of possible pairs/triplets grows **quadratically/cubically** with the number of examples. It's infeasible to process them all\n",
    "2. We generate pairs/triplets randomly. As the training continues, more and more pairs/triplets are easy to deal with (their loss value is very small or even 0), preventing the network from training. We need to provide the network with **hard examples**.\n",
    "3. Each image that is fed to the network is used only for computation of contrastive/triplet loss for only one pair/triplet. The computation is somewhat wasted; once the embedding is computed, it could be reused for many pairs/triplets.\n",
    "\n",
    "To deal with that efficiently, we'll feed a network with standard mini-batches as we did for classification. The loss function will be responsible for selection of hard pairs and triplets within mini-batch. In these case, if we feed the network with 16 images per 10 classes, we can process up to $159*160/2 = 12720$ pairs and $10*16*15/2*(9*16) = 172800$ triplets, compared to 80 pairs and 53 triplets in previous implementation.\n",
    "\n",
    "We can find some strategies on how to select triplets in [2] and [3] *Alexander Hermans, Lucas Beyer, Bastian Leibe, [In Defense of the Triplet Loss for Person Re-Identification](https://arxiv.org/pdf/1703.07737), 2017*"
   ]
  },
  {
   "cell_type": "markdown",
   "metadata": {
    "id": "UgIGiMwICuvn"
   },
   "source": [
    "## Online triplet selection\n",
    "## Steps\n",
    "1. Create **BalancedBatchSampler** - samples $N$ classes and $M$ samples *datasets.py*\n",
    "2. Create data loaders with the batch sampler\n",
    "3. Define **embedding** *(mapping)* network $f(x)$ - **EmbeddingNet** from *networks.py*\n",
    "4. Define a **TripletSelector** that takes embeddings and original labels and returns valid triplets within a minibatch\n",
    "5. Define **OnlineTripletLoss** that will use a *TripletSelector* and compute *TripletLoss* on such pairs\n",
    "6. Train the network!"
   ]
  },
  {
   "cell_type": "code",
   "execution_count": 4,
   "metadata": {
    "colab": {
     "base_uri": "https://localhost:8080/",
     "height": 176,
     "referenced_widgets": [
      "777b64e062194a8389d3ec5c15128faa",
      "95f8d8c9db6542b8a0806fb8f589cbb9",
      "b91cd4d5997743e790fd9a26a7d59246",
      "26118d43b0aa46999846003373063a58",
      "04c4d292430e44858206d6969d2faeca",
      "4674a4bc91f142c285816a0b7fea3031",
      "e8369f34a28f4190bbe5340548483afe",
      "3eeb4a10f98c4c528b8cb5e6c8706dd7",
      "c4ed85e531ae4fcfa783ddf7c5f29372",
      "a41d444425ed407a89493daa34ec0fc5",
      "d7f7cd1e0ba041efb771707939664786"
     ]
    },
    "executionInfo": {
     "elapsed": 7414,
     "status": "ok",
     "timestamp": 1658883260234,
     "user": {
      "displayName": "Madhu Hegde",
      "userId": "05863931517844431420"
     },
     "user_tz": 420
    },
    "id": "_Z2k3EZpT3bB",
    "outputId": "30038cb8-9bdf-4187-c00b-2c21f946273a"
   },
   "outputs": [
    {
     "name": "stdout",
     "output_type": "stream",
     "text": [
      "Model does not exist\n"
     ]
    },
    {
     "name": "stderr",
     "output_type": "stream",
     "text": [
      "/usr/local/lib/python3.7/dist-packages/torchvision/models/_utils.py:209: UserWarning: The parameter 'pretrained' is deprecated since 0.13 and will be removed in 0.15, please use 'weights' instead.\n",
      "  f\"The parameter '{pretrained_param}' is deprecated since 0.13 and will be removed in 0.15, \"\n",
      "/usr/local/lib/python3.7/dist-packages/torchvision/models/_utils.py:223: UserWarning: Arguments other than a weight enum or `None` for 'weights' are deprecated since 0.13 and will be removed in 0.15. The current behavior is equivalent to passing `weights=ResNet18_Weights.IMAGENET1K_V1`. You can also use `weights=ResNet18_Weights.DEFAULT` to get the most up-to-date weights.\n",
      "  warnings.warn(msg)\n",
      "Downloading: \"https://download.pytorch.org/models/resnet18-f37072fd.pth\" to /root/.cache/torch/hub/checkpoints/resnet18-f37072fd.pth\n"
     ]
    },
    {
     "data": {
      "application/vnd.jupyter.widget-view+json": {
       "model_id": "777b64e062194a8389d3ec5c15128faa",
       "version_major": 2,
       "version_minor": 0
      },
      "text/plain": [
       "  0%|          | 0.00/44.7M [00:00<?, ?B/s]"
      ]
     },
     "metadata": {},
     "output_type": "display_data"
    }
   ],
   "source": [
    "import numpy\n",
    "from torch.optim import lr_scheduler\n",
    "import torch.optim as optim\n",
    "from torch.autograd import Variable\n",
    "\n",
    "from trainer import fit\n",
    "import numpy as np\n",
    "from datasets import BalancedBatchSampler\n",
    "import torch.nn as nn\n",
    "\n",
    "    \n",
    "train_labels = torch.tensor(train_dataset.targets)\n",
    "test_labels = torch.tensor(test_dataset.targets)\n",
    "# We'll create mini batches by sampling labels that will be present in the mini batch and number of examples from each class\n",
    "train_batch_sampler = BalancedBatchSampler(train_labels, n_classes=64, n_samples=8)\n",
    "test_batch_sampler = BalancedBatchSampler(test_labels, n_classes=64, n_samples=2)\n",
    "kwargs = {'num_workers': 1, 'pin_memory': True} if cuda else {}\n",
    "online_train_loader = torch.utils.data.DataLoader(train_dataset, batch_sampler=train_batch_sampler, **kwargs)\n",
    "online_test_loader = torch.utils.data.DataLoader(test_dataset, batch_sampler=test_batch_sampler, **kwargs)\n",
    "\n",
    "# Set up the network and training parameters\n",
    "from networks import EmbeddingNet\n",
    "from networks import EmbeddingWithSoftmaxNet\n",
    "from networks import MultiPartEmbeddingNet\n",
    "from networks import MultiPartEmbeddingWithSoftmaxNet\n",
    "from networks import extract_embeddings\n",
    "\n",
    "from losses import OnlineTripletLoss\n",
    "from losses import OnlineSymTripletLoss\n",
    "from losses import OnlineModTripletLoss\n",
    "from losses import OnlineTripletLossWithCentroid\n",
    "from losses import OnlineModTripletLossWithCentroid\n",
    "\n",
    "from utils_triplet import AllTripletSelector\n",
    "from utils_triplet import HardestNegativeTripletSelector\n",
    "from utils_triplet import RandomNegativeTripletSelector\n",
    "from utils_triplet import SemihardNegativeTripletSelector\n",
    "from utils_triplet import SemihardNegativeCentroidTripletSelector # Strategies for selecting triplets within a minibatch\n",
    "\n",
    "from metrics import AverageNonzeroTripletsMetric\n",
    "from sklearn.metrics import f1_score, classification_report \n",
    "\n",
    "margin = 0.35\n",
    "\n",
    "try:\n",
    "    model\n",
    "    del model\n",
    "except NameError:\n",
    "    print('Model does not exist')\n",
    "\n",
    "softmax = True\n",
    "if MULTI_EMBEDDING:\n",
    "    if softmax:\n",
    "        embedding_net = EmbeddingWithSoftmaxNet(num_classes=64, dropout=0.2)\n",
    "        #embedding_net = MultiPartEmbeddingWithSoftmaxNet(num_classes=64)\n",
    "    else:\n",
    "        embedding_net = MultiPartEmbeddingNet()\n",
    "else:    \n",
    "    if softmax:\n",
    "        embedding_net = EmbeddingWithSoftmaxNet(num_classes=64)\n",
    "    else:\n",
    "        embedding_net = EmbeddingNet()\n",
    "model = embedding_net\n",
    "\n",
    "if cuda:\n",
    "    model.cuda()\n",
    "#loss_fn = OnlineTripletLoss(margin, SemihardNegativeTripletSelector(margin))\n",
    "#loss_fn = OnlineSymTripletLoss(margin, RandomNegativeTripletSelector(margin))\n",
    "#loss_fn = OnlineTripletLossWithCentroid(margin, SemihardNegativeCentroidTripletSelector(margin))\n",
    "loss_fn = OnlineModTripletLossWithCentroid(margin, margin-0.2, SemihardNegativeCentroidTripletSelector(margin))\n",
    "lr = 1e-3\n",
    "optimizer = optim.Adam(model.parameters(), lr=lr, weight_decay=1e-4)\n",
    "scheduler = lr_scheduler.StepLR(optimizer, 8, gamma=0.1, last_epoch=-1)\n",
    "n_epochs = 25\n",
    "log_interval = 50\n",
    "softmax_loss_fn = nn.CrossEntropyLoss()"
   ]
  },
  {
   "cell_type": "code",
   "execution_count": 5,
   "metadata": {
    "colab": {
     "base_uri": "https://localhost:8080/"
    },
    "executionInfo": {
     "elapsed": 750674,
     "status": "ok",
     "timestamp": 1658884013352,
     "user": {
      "displayName": "Madhu Hegde",
      "userId": "05863931517844431420"
     },
     "user_tz": 420
    },
    "id": "W-bDxqVJCuvs",
    "outputId": "5d98e57c-2530-4839-ad35-cb43449a9658"
   },
   "outputs": [
    {
     "name": "stdout",
     "output_type": "stream",
     "text": [
      "Train: [0/853 (0%)]\tLoss: 0.173127\tAverage nonzero triplets: 498.0\n",
      "Model Saved\n",
      "Epoch: 1/25. Train set: Average loss: 0.1731\tAverage nonzero triplets: 498.0\n",
      "Epoch: 1/25. Validation set: Average loss: 0.2990\tAverage nonzero triplets: 106.0\n",
      "Train: [0/853 (0%)]\tLoss: 0.116694\tAverage nonzero triplets: 498.0\n",
      "Epoch: 2/25. Train set: Average loss: 0.1167\tAverage nonzero triplets: 498.0\n",
      "Epoch: 2/25. Validation set: Average loss: 0.2413\tAverage nonzero triplets: 106.0\n",
      "Train: [0/853 (0%)]\tLoss: 0.129912\tAverage nonzero triplets: 489.0\n",
      "Epoch: 3/25. Train set: Average loss: 0.1299\tAverage nonzero triplets: 489.0\n",
      "Epoch: 3/25. Validation set: Average loss: 0.2119\tAverage nonzero triplets: 106.0\n",
      "Train: [0/853 (0%)]\tLoss: 0.125698\tAverage nonzero triplets: 467.0\n",
      "Epoch: 4/25. Train set: Average loss: 0.1257\tAverage nonzero triplets: 467.0\n",
      "Epoch: 4/25. Validation set: Average loss: 0.1785\tAverage nonzero triplets: 106.0\n",
      "Train: [0/853 (0%)]\tLoss: 0.097372\tAverage nonzero triplets: 421.0\n",
      "Epoch: 5/25. Train set: Average loss: 0.0974\tAverage nonzero triplets: 421.0\n",
      "Epoch: 5/25. Validation set: Average loss: 0.1583\tAverage nonzero triplets: 106.0\n",
      "Train: [0/853 (0%)]\tLoss: 0.098289\tAverage nonzero triplets: 320.0\n",
      "Epoch: 6/25. Train set: Average loss: 0.0983\tAverage nonzero triplets: 320.0\n",
      "Epoch: 6/25. Validation set: Average loss: 0.1616\tAverage nonzero triplets: 106.0\n",
      "Train: [0/853 (0%)]\tLoss: 0.083964\tAverage nonzero triplets: 228.0\n",
      "Model Saved\n",
      "Epoch: 7/25. Train set: Average loss: 0.0840\tAverage nonzero triplets: 228.0\n",
      "Epoch: 7/25. Validation set: Average loss: 0.1837\tAverage nonzero triplets: 105.0\n",
      "Train: [0/853 (0%)]\tLoss: 0.086334\tAverage nonzero triplets: 165.0\n",
      "Epoch: 8/25. Train set: Average loss: 0.0863\tAverage nonzero triplets: 165.0\n",
      "Epoch: 8/25. Validation set: Average loss: 0.1660\tAverage nonzero triplets: 105.0\n",
      "Train: [0/853 (0%)]\tLoss: 0.076017\tAverage nonzero triplets: 124.0\n",
      "Model Saved\n",
      "Epoch: 9/25. Train set: Average loss: 0.0760\tAverage nonzero triplets: 124.0\n",
      "Epoch: 9/25. Validation set: Average loss: 0.1682\tAverage nonzero triplets: 104.0\n",
      "Train: [0/853 (0%)]\tLoss: 0.091841\tAverage nonzero triplets: 101.0\n",
      "Epoch: 10/25. Train set: Average loss: 0.0918\tAverage nonzero triplets: 101.0\n",
      "Epoch: 10/25. Validation set: Average loss: 0.1744\tAverage nonzero triplets: 103.0\n",
      "Train: [0/853 (0%)]\tLoss: 0.091792\tAverage nonzero triplets: 101.0\n",
      "Model Saved\n",
      "Epoch: 11/25. Train set: Average loss: 0.0918\tAverage nonzero triplets: 101.0\n",
      "Epoch: 11/25. Validation set: Average loss: 0.1478\tAverage nonzero triplets: 101.0\n",
      "Train: [0/853 (0%)]\tLoss: 0.076029\tAverage nonzero triplets: 85.0\n",
      "Epoch: 12/25. Train set: Average loss: 0.0760\tAverage nonzero triplets: 85.0\n",
      "Epoch: 12/25. Validation set: Average loss: 0.1497\tAverage nonzero triplets: 101.0\n",
      "Train: [0/853 (0%)]\tLoss: 0.073472\tAverage nonzero triplets: 70.0\n",
      "Model Saved\n",
      "Epoch: 13/25. Train set: Average loss: 0.0735\tAverage nonzero triplets: 70.0\n",
      "Epoch: 13/25. Validation set: Average loss: 0.1399\tAverage nonzero triplets: 100.0\n",
      "Train: [0/853 (0%)]\tLoss: 0.070244\tAverage nonzero triplets: 67.0\n",
      "Epoch: 14/25. Train set: Average loss: 0.0702\tAverage nonzero triplets: 67.0\n",
      "Epoch: 14/25. Validation set: Average loss: 0.1423\tAverage nonzero triplets: 95.0\n",
      "Train: [0/853 (0%)]\tLoss: 0.054284\tAverage nonzero triplets: 46.0\n",
      "Epoch: 15/25. Train set: Average loss: 0.0543\tAverage nonzero triplets: 46.0\n",
      "Epoch: 15/25. Validation set: Average loss: 0.1484\tAverage nonzero triplets: 95.0\n",
      "Train: [0/853 (0%)]\tLoss: 0.060329\tAverage nonzero triplets: 42.0\n",
      "Model Saved\n",
      "Epoch: 16/25. Train set: Average loss: 0.0603\tAverage nonzero triplets: 42.0\n",
      "Epoch: 16/25. Validation set: Average loss: 0.1367\tAverage nonzero triplets: 94.0\n",
      "Train: [0/853 (0%)]\tLoss: 0.074808\tAverage nonzero triplets: 25.0\n",
      "Epoch: 17/25. Train set: Average loss: 0.0748\tAverage nonzero triplets: 25.0\n",
      "Epoch: 17/25. Validation set: Average loss: 0.1412\tAverage nonzero triplets: 92.0\n",
      "Train: [0/853 (0%)]\tLoss: 0.057822\tAverage nonzero triplets: 28.0\n",
      "Epoch: 18/25. Train set: Average loss: 0.0578\tAverage nonzero triplets: 28.0\n",
      "Epoch: 18/25. Validation set: Average loss: 0.1312\tAverage nonzero triplets: 95.0\n",
      "Train: [0/853 (0%)]\tLoss: 0.073491\tAverage nonzero triplets: 29.0\n",
      "Model Saved\n",
      "Epoch: 19/25. Train set: Average loss: 0.0735\tAverage nonzero triplets: 29.0\n",
      "Epoch: 19/25. Validation set: Average loss: 0.1348\tAverage nonzero triplets: 91.0\n",
      "Train: [0/853 (0%)]\tLoss: 0.063274\tAverage nonzero triplets: 26.0\n",
      "Epoch: 20/25. Train set: Average loss: 0.0633\tAverage nonzero triplets: 26.0\n",
      "Epoch: 20/25. Validation set: Average loss: 0.1360\tAverage nonzero triplets: 89.0\n",
      "Train: [0/853 (0%)]\tLoss: 0.095709\tAverage nonzero triplets: 29.0\n",
      "Epoch: 21/25. Train set: Average loss: 0.0957\tAverage nonzero triplets: 29.0\n",
      "Epoch: 21/25. Validation set: Average loss: 0.1598\tAverage nonzero triplets: 92.0\n",
      "Train: [0/853 (0%)]\tLoss: 0.052508\tAverage nonzero triplets: 29.0\n",
      "Epoch: 22/25. Train set: Average loss: 0.0525\tAverage nonzero triplets: 29.0\n",
      "Epoch: 22/25. Validation set: Average loss: 0.1471\tAverage nonzero triplets: 88.0\n",
      "Train: [0/853 (0%)]\tLoss: 0.057863\tAverage nonzero triplets: 23.0\n",
      "Epoch: 23/25. Train set: Average loss: 0.0579\tAverage nonzero triplets: 23.0\n",
      "Epoch: 23/25. Validation set: Average loss: 0.1378\tAverage nonzero triplets: 91.0\n",
      "Train: [0/853 (0%)]\tLoss: 0.067092\tAverage nonzero triplets: 23.0\n",
      "Epoch: 24/25. Train set: Average loss: 0.0671\tAverage nonzero triplets: 23.0\n",
      "Epoch: 24/25. Validation set: Average loss: 0.1412\tAverage nonzero triplets: 89.0\n",
      "Train: [0/853 (0%)]\tLoss: 0.053538\tAverage nonzero triplets: 12.0\n",
      "Epoch: 25/25. Train set: Average loss: 0.0535\tAverage nonzero triplets: 12.0\n",
      "Epoch: 25/25. Validation set: Average loss: 0.1283\tAverage nonzero triplets: 91.0\n"
     ]
    }
   ],
   "source": [
    "fit(online_train_loader, \n",
    "    online_test_loader, \n",
    "    model, loss_fn, \n",
    "    softmax_loss_fn, \n",
    "    optimizer, \n",
    "    scheduler, \n",
    "    n_epochs, \n",
    "    cuda, \n",
    "    log_interval, \n",
    "    metrics=[AverageNonzeroTripletsMetric()], \n",
    "    multi_class=MULTI_EMBEDDING,\n",
    "    softmax=softmax)"
   ]
  },
  {
   "cell_type": "markdown",
   "metadata": {
    "id": "iOMT9Pj0iYUk"
   },
   "source": []
  },
  {
   "cell_type": "code",
   "execution_count": 6,
   "metadata": {
    "colab": {
     "base_uri": "https://localhost:8080/"
    },
    "executionInfo": {
     "elapsed": 186,
     "status": "ok",
     "timestamp": 1658887270011,
     "user": {
      "displayName": "Madhu Hegde",
      "userId": "05863931517844431420"
     },
     "user_tz": 420
    },
    "id": "smvUHdXOyt7r",
    "outputId": "6726a509-d063-45d5-8d53-d7b60159292a"
   },
   "outputs": [
    {
     "data": {
      "text/plain": [
       "<All keys matched successfully>"
      ]
     },
     "execution_count": 6,
     "metadata": {},
     "output_type": "execute_result"
    }
   ],
   "source": [
    "model_file_name = 'leop_id_model_july_24.pt'\n",
    "path = f\"/content/gdrive/MyDrive/W210/weights/{model_file_name}\" \n",
    "#torch.save(model.state_dict(), path)\n",
    "\n",
    "del model\n",
    "model = embedding_net\n",
    "model.load_state_dict(torch.load('./best_weights'))"
   ]
  },
  {
   "cell_type": "code",
   "execution_count": 9,
   "metadata": {
    "colab": {
     "base_uri": "https://localhost:8080/"
    },
    "executionInfo": {
     "elapsed": 38096,
     "status": "ok",
     "timestamp": 1658887344756,
     "user": {
      "displayName": "Madhu Hegde",
      "userId": "05863931517844431420"
     },
     "user_tz": 420
    },
    "id": "HoRFHZs2QHmI",
    "outputId": "0614cd76-6b56-403a-e0dc-cb629641c72b"
   },
   "outputs": [
    {
     "name": "stdout",
     "output_type": "stream",
     "text": [
      "              precision    recall  f1-score   support\n",
      "\n",
      "           0       1.00      1.00      1.00        10\n",
      "           1       1.00      1.00      1.00         8\n",
      "           2       0.96      0.96      0.96        23\n",
      "           3       0.96      1.00      0.98        27\n",
      "           4       1.00      1.00      1.00         7\n",
      "           5       1.00      1.00      1.00        11\n",
      "           6       1.00      1.00      1.00        19\n",
      "           7       1.00      1.00      1.00        11\n",
      "           8       1.00      0.94      0.97        16\n",
      "           9       1.00      1.00      1.00         6\n",
      "          10       1.00      1.00      1.00         8\n",
      "          11       1.00      1.00      1.00        10\n",
      "          12       1.00      1.00      1.00         7\n",
      "          13       1.00      1.00      1.00         9\n",
      "          14       1.00      1.00      1.00        13\n",
      "          15       1.00      1.00      1.00         8\n",
      "          16       1.00      1.00      1.00        14\n",
      "          17       1.00      0.96      0.98        23\n",
      "          18       1.00      1.00      1.00         9\n",
      "          19       1.00      1.00      1.00        20\n",
      "          20       1.00      0.93      0.97        30\n",
      "          21       1.00      1.00      1.00        11\n",
      "          22       1.00      1.00      1.00        17\n",
      "          23       1.00      1.00      1.00        11\n",
      "          24       1.00      1.00      1.00        21\n",
      "          25       1.00      1.00      1.00        10\n",
      "          26       1.00      1.00      1.00         7\n",
      "          27       1.00      1.00      1.00         7\n",
      "          28       1.00      1.00      1.00         8\n",
      "          29       1.00      1.00      1.00         9\n",
      "          30       1.00      1.00      1.00         9\n",
      "          31       1.00      1.00      1.00        15\n",
      "          32       0.83      0.98      0.90        41\n",
      "          33       1.00      1.00      1.00        14\n",
      "          34       1.00      1.00      1.00        13\n",
      "          35       1.00      0.96      0.98        24\n",
      "          36       1.00      1.00      1.00         7\n",
      "          37       1.00      1.00      1.00        17\n",
      "          38       0.97      0.97      0.97        38\n",
      "          39       1.00      1.00      1.00         9\n",
      "          40       1.00      1.00      1.00        11\n",
      "          41       1.00      1.00      1.00         8\n",
      "          42       1.00      0.94      0.97        16\n",
      "          43       1.00      1.00      1.00         7\n",
      "          44       0.94      0.88      0.91        34\n",
      "          45       1.00      1.00      1.00         7\n",
      "          46       1.00      1.00      1.00        12\n",
      "          47       0.96      1.00      0.98        26\n",
      "          48       1.00      1.00      1.00         7\n",
      "          49       1.00      1.00      1.00        10\n",
      "          50       1.00      1.00      1.00         7\n",
      "          51       1.00      1.00      1.00        12\n",
      "          52       1.00      1.00      1.00        12\n",
      "          53       1.00      1.00      1.00        15\n",
      "          54       1.00      1.00      1.00         8\n",
      "          55       1.00      1.00      1.00         7\n",
      "          56       1.00      0.93      0.97        15\n",
      "          57       1.00      1.00      1.00        10\n",
      "          58       1.00      1.00      1.00        10\n",
      "          59       1.00      1.00      1.00        12\n",
      "          60       1.00      1.00      1.00         8\n",
      "          61       1.00      1.00      1.00         8\n",
      "          62       1.00      1.00      1.00         7\n",
      "          63       1.00      1.00      1.00         2\n",
      "\n",
      "    accuracy                           0.98       848\n",
      "   macro avg       0.99      0.99      0.99       848\n",
      "weighted avg       0.98      0.98      0.98       848\n",
      "\n",
      "              precision    recall  f1-score   support\n",
      "\n",
      "           0       0.00      0.00      0.00         0\n",
      "           1       0.50      0.50      0.50         2\n",
      "           2       0.67      0.80      0.73         5\n",
      "           3       0.86      0.67      0.75         9\n",
      "           4       0.50      0.50      0.50         2\n",
      "           5       0.33      0.20      0.25         5\n",
      "           6       0.29      0.67      0.40         3\n",
      "           7       1.00      0.67      0.80         3\n",
      "           8       0.67      1.00      0.80         2\n",
      "           9       1.00      1.00      1.00         1\n",
      "          10       0.00      0.00      0.00         0\n",
      "          11       1.00      1.00      1.00         2\n",
      "          12       1.00      0.50      0.67         2\n",
      "          13       0.50      0.50      0.50         2\n",
      "          14       1.00      0.33      0.50         6\n",
      "          15       0.00      0.00      0.00         1\n",
      "          16       1.00      0.57      0.73         7\n",
      "          17       0.67      0.50      0.57         4\n",
      "          18       1.00      1.00      1.00         1\n",
      "          19       0.45      0.71      0.56         7\n",
      "          20       0.91      0.67      0.77        15\n",
      "          21       0.50      1.00      0.67         1\n",
      "          22       1.00      0.67      0.80         3\n",
      "          23       0.67      0.67      0.67         3\n",
      "          24       0.57      0.80      0.67         5\n",
      "          25       1.00      1.00      1.00         2\n",
      "          26       0.50      1.00      0.67         1\n",
      "          27       0.00      0.00      0.00         0\n",
      "          28       1.00      1.00      1.00         1\n",
      "          29       0.50      0.33      0.40         3\n",
      "          30       0.50      1.00      0.67         1\n",
      "          31       0.50      0.33      0.40         3\n",
      "          32       0.70      0.70      0.70        10\n",
      "          33       0.71      1.00      0.83         5\n",
      "          34       0.00      0.00      0.00         0\n",
      "          35       0.78      0.70      0.74        10\n",
      "          36       1.00      1.00      1.00         4\n",
      "          37       0.40      0.57      0.47         7\n",
      "          38       1.00      0.48      0.65        23\n",
      "          39       0.50      0.20      0.29         5\n",
      "          40       0.50      1.00      0.67         1\n",
      "          41       0.50      0.50      0.50         2\n",
      "          42       0.80      0.67      0.73         6\n",
      "          43       1.00      1.00      1.00         2\n",
      "          44       0.62      0.56      0.59         9\n",
      "          45       0.00      0.00      0.00         0\n",
      "          46       1.00      0.33      0.50         6\n",
      "          47       0.20      0.25      0.22         4\n",
      "          48       0.00      0.00      0.00         0\n",
      "          49       0.33      1.00      0.50         1\n",
      "          50       0.50      1.00      0.67         1\n",
      "          51       0.60      0.75      0.67         4\n",
      "          52       0.83      1.00      0.91         5\n",
      "          53       0.67      0.50      0.57         4\n",
      "          54       0.00      0.00      0.00         0\n",
      "          55       0.00      0.00      0.00         0\n",
      "          56       0.00      0.00      0.00         0\n",
      "          57       0.00      0.00      0.00         0\n",
      "          58       0.00      0.00      0.00         0\n",
      "          59       0.67      0.50      0.57         4\n",
      "          60       0.00      0.00      0.00         0\n",
      "          61       0.67      0.67      0.67         3\n",
      "          62       1.00      0.33      0.50         3\n",
      "          63       1.00      0.67      0.80         3\n",
      "\n",
      "    accuracy                           0.62       224\n",
      "   macro avg       0.56      0.55      0.53       224\n",
      "weighted avg       0.74      0.62      0.64       224\n",
      "\n"
     ]
    },
    {
     "name": "stderr",
     "output_type": "stream",
     "text": [
      "/usr/local/lib/python3.7/dist-packages/sklearn/metrics/_classification.py:1318: UndefinedMetricWarning: Recall and F-score are ill-defined and being set to 0.0 in labels with no true samples. Use `zero_division` parameter to control this behavior.\n",
      "  _warn_prf(average, modifier, msg_start, len(result))\n",
      "/usr/local/lib/python3.7/dist-packages/sklearn/metrics/_classification.py:1318: UndefinedMetricWarning: Recall and F-score are ill-defined and being set to 0.0 in labels with no true samples. Use `zero_division` parameter to control this behavior.\n",
      "  _warn_prf(average, modifier, msg_start, len(result))\n",
      "/usr/local/lib/python3.7/dist-packages/sklearn/metrics/_classification.py:1318: UndefinedMetricWarning: Recall and F-score are ill-defined and being set to 0.0 in labels with no true samples. Use `zero_division` parameter to control this behavior.\n",
      "  _warn_prf(average, modifier, msg_start, len(result))\n"
     ]
    }
   ],
   "source": [
    "train_eval_loader = data.DataLoader(train_dataset, \n",
    "                                    batch_size=16, \n",
    "                                    shuffle=False,  \n",
    "                                    num_workers=2, \n",
    "                                    drop_last=True, \n",
    "                                    pin_memory=cuda)\n",
    "\n",
    "train_emb, train_softmax, train_ref_labels, train_pred_labels = extract_embeddings(train_eval_loader, \n",
    "                                                                                   model, \n",
    "                                                                                   multi_class=True, \n",
    "                                                                                   softmax=True,\n",
    "                                                                                   cuda=cuda)\n",
    "print(classification_report(train_pred_labels, train_ref_labels))\n",
    "\n",
    "test_eval_loader = data.DataLoader(test_dataset, \n",
    "                                   batch_size=16, \n",
    "                                   shuffle=False,  \n",
    "                                   num_workers=2, \n",
    "                                   drop_last=True, \n",
    "                                   pin_memory=cuda)\n",
    "\n",
    "test_emb, test_softmax, test_ref_labels, test_pred_labels= extract_embeddings(test_eval_loader, \n",
    "                                                                              model,\n",
    "                                                                              multi_class=True, \n",
    "                                                                              softmax=True,\n",
    "                                                                              cuda=cuda)\n",
    "                                                                              \n",
    "print(classification_report(test_pred_labels, test_ref_labels))\n",
    "\n",
    "ood_eval_loader = data.DataLoader(ood_dataset, \n",
    "                                  batch_size=1, \n",
    "                                  shuffle=False,  \n",
    "                                  num_workers=2, \n",
    "                                  drop_last=True, \n",
    "                                  pin_memory=cuda)\n",
    "\n",
    "ood_emb, ood_softmax, ood_ref_labels, ood_pred_labels= extract_embeddings(ood_eval_loader, \n",
    "                                                                          model,multi_class=True, \n",
    "                                                                          softmax=True,\n",
    "                                                                          cuda=cuda)"
   ]
  },
  {
   "cell_type": "code",
   "execution_count": null,
   "metadata": {
    "colab": {
     "base_uri": "https://localhost:8080/"
    },
    "executionInfo": {
     "elapsed": 22,
     "status": "ok",
     "timestamp": 1658876979516,
     "user": {
      "displayName": "Madhu Hegde",
      "userId": "05863931517844431420"
     },
     "user_tz": 420
    },
    "id": "lvHgIRNmGem4",
    "outputId": "74d742e0-18d1-4e14-b44e-de0f1a880309"
   },
   "outputs": [
    {
     "name": "stdout",
     "output_type": "stream",
     "text": [
      "tensor(0.0312, device='cuda:0')\n",
      "tensor(0.1810, device='cuda:0')\n"
     ]
    }
   ],
   "source": [
    "from utils_triplet import centdist\n",
    "centroids = model.centroids.cuda()\n",
    "\n",
    "train_emb_dist = centdist(train_emb, centroids)\n",
    "train_emb_dist_sort, train_dist_indices = torch.sort(train_emb_dist, dim=1)\n",
    "#print(classification_report(train_dist_indices[:,0].cpu().numpy(), train_ref_labels))\n",
    "#print(sum(train_emb_dist_sort[:,0]<threshold)/train_emb_dist.size()[0])\n",
    "\n",
    "test_emb_dist = centdist(test_emb, centroids)\n",
    "test_emb_dist_ref = test_emb_dist[:, test_ref_labels] \n",
    "test_emb_dist_sort, test_dist_indices = torch.sort(test_emb_dist, dim=1)\n",
    "#print(classification_report(test_dist_indices[:,0].cpu().numpy(), test_ref_labels))\n",
    "\n",
    "test_softmax_sort, test_softmax_index = torch.sort(test_softmax, dim=1)\n",
    "#print(sum(test_emb_dist[:,0]<threshold)/test_emb_dist.size()[0])\n",
    "\n",
    "ood_emb_dist = centdist(ood_emb, centroids)\n",
    "ood_emb_dist, ood_indices = torch.sort(ood_emb_dist, dim=1)\n",
    "\n",
    "ood_softmax_sort, ood_softmax_index = torch.sort(ood_softmax, dim=1)\n",
    "#print(sum(ood_emb_dist[:,0]>threshold)/ood_emb_dist.size()[0])"
   ]
  },
  {
   "cell_type": "code",
   "execution_count": null,
   "metadata": {
    "colab": {
     "base_uri": "https://localhost:8080/",
     "height": 295
    },
    "executionInfo": {
     "elapsed": 544,
     "status": "ok",
     "timestamp": 1658876980047,
     "user": {
      "displayName": "Madhu Hegde",
      "userId": "05863931517844431420"
     },
     "user_tz": 420
    },
    "id": "u5mYy9J5WhMT",
    "outputId": "7d988b96-c147-49d5-a469-214f3371633c"
   },
   "outputs": [
    {
     "data": {
      "image/png": "[encoded data removed]",
      "text/plain": [
       "<Figure size 432x288 with 1 Axes>"
      ]
     },
     "metadata": {
      "needs_background": "light"
     },
     "output_type": "display_data"
    }
   ],
   "source": [
    "test_emb_tensor_index = torch.tensor(test_ref_labels).cuda()\n",
    "test_emb_dist_ref = test_emb_dist[range(test_emb_tensor_index.shape[0]), test_emb_tensor_index]\n",
    "train_emb_tensor_index = torch.tensor(train_ref_labels).cuda()\n",
    "train_emb_dist_ref = train_emb_dist[range(train_emb_tensor_index.shape[0]), train_emb_tensor_index]\n",
    "train_emb_dist_mean = torch.mean(train_emb_dist_ref)\n",
    "train_emb_dist_ref = train_emb_dist_ref - train_emb_dist_mean\n",
    "test_emb_dist_ref = test_emb_dist_ref - train_emb_dist_mean\n",
    "\n",
    "import matplotlib.pyplot as plt\n",
    "bins = numpy.linspace(0, 0.2, 4)\n",
    "plt.hist(train_emb_dist_ref.cpu().numpy(),  bins=20, alpha=0.5, label='Train')\n",
    "plt.hist(test_emb_dist_ref.cpu().numpy(), bins=20, alpha=0.5, label='Test')\n",
    "\n",
    "plt.hist((ood_emb_dist[:,0]-train_emb_dist_mean).cpu().numpy(), bins=20, alpha=0.5, label='OOD' )\n",
    "#plt.title(\"Histogram of Distance from the centroid\")\n",
    "plt.title(\"Softmax with Centroid Triplet\")\n",
    "plt.xlabel('Distance From Centroid')\n",
    "plt.ylabel('Probability')\n",
    "plt.legend(loc='upper right')\n",
    "plt.show()\n"
   ]
  },
  {
   "cell_type": "code",
   "execution_count": null,
   "metadata": {
    "colab": {
     "base_uri": "https://localhost:8080/"
    },
    "executionInfo": {
     "elapsed": 280,
     "status": "ok",
     "timestamp": 1658877571989,
     "user": {
      "displayName": "Madhu Hegde",
      "userId": "05863931517844431420"
     },
     "user_tz": 420
    },
    "id": "UhnvOAkGeK_U",
    "outputId": "69510e15-e492-4ab4-f88e-408e9e3983dd"
   },
   "outputs": [
    {
     "name": "stdout",
     "output_type": "stream",
     "text": [
      "tensor(0.5172, device='cuda:0') 0.6750000000000005\n"
     ]
    }
   ],
   "source": [
    "threshold = 0.1\n",
    "OOD_rejection_rate = 0.5\n",
    "\n",
    "while sum(ood_emb_dist[:,0]<threshold)/ood_emb_dist.size()[0] < OOD_rejection_rate:\n",
    "  threshold = threshold + 0.005\n",
    "\n",
    "#test_emb, test_softmax, test_ref_labels, test_pred_labels= extract_embeddings(test_eval_loader, model,multi_class=True, softmax=True)\n",
    "for i in range(len(test_pred_labels)):\n",
    "    if test_emb_dist_sort[i,0] > threshold and test_val[i,-1] < 0.5 :\n",
    "       test_pred_labels[i] = 100  \n",
    "         \n",
    "print(classification_report(test_pred_labels, test_ref_labels))\n",
    "print(sum(ood_emb_dist[:,0]<threshold)/ood_emb_dist.size()[0], threshold)"
   ]
  },
  {
   "cell_type": "code",
   "execution_count": null,
   "metadata": {
    "colab": {
     "base_uri": "https://localhost:8080/"
    },
    "executionInfo": {
     "elapsed": 946,
     "status": "ok",
     "timestamp": 1658785309521,
     "user": {
      "displayName": "Madhu Hegde",
      "userId": "05863931517844431420"
     },
     "user_tz": 420
    },
    "id": "FemSVYtSfXDZ",
    "outputId": "3aa30316-a81e-4290-eaf5-f7ed37ced175"
   },
   "outputs": [
    {
     "name": "stdout",
     "output_type": "stream",
     "text": [
      "Training Accuracy: 0.9964622641509434\n",
      "Testing Accuracy: 0.5580357142857143\n"
     ]
    }
   ],
   "source": [
    "from sklearn.svm import SVC\n",
    "from sklearn.pipeline import make_pipeline\n",
    "from sklearn.preprocessing import StandardScaler\n",
    "from sklearn.metrics import accuracy_score\n",
    "\n",
    "clf = make_pipeline(StandardScaler(), SVC(gamma='auto'))\n",
    "train_emb_cpu = train_emb.data.cpu().numpy()\n",
    "test_emb_cpu = test_emb.data.cpu().numpy()\n",
    "clf.fit(train_emb_cpu, train_ref_labels)\n",
    "\n",
    "y_pred = clf.predict(train_emb_cpu)\n",
    "train_acc = accuracy_score(train_ref_labels, y_pred)\n",
    "\n",
    "y_pred = clf.predict(test_emb_cpu)\n",
    "test_acc = accuracy_score(test_ref_labels, y_pred)\n",
    "\n",
    "print(\"Training Accuracy: \" + str(train_acc))\n",
    "print(\"Testing Accuracy: \" + str(test_acc))"
   ]
  }
 ],
 "metadata": {
  "accelerator": "GPU",
  "colab": {
   "background_execution": "on",
   "name": "leopard_identification.ipynb",
   "provenance": []
  },
  "kernelspec": {
   "display_name": "w251_project",
   "language": "python",
   "name": "w251_project"
  },
  "language_info": {
   "codemirror_mode": {
    "name": "ipython",
    "version": 3
   },
   "file_extension": ".py",
   "mimetype": "text/x-python",
   "name": "python",
   "nbconvert_exporter": "python",
   "pygments_lexer": "ipython3",
   "version": "3.9.7"
  },
  "widgets": {
   "application/vnd.jupyter.widget-state+json": {
    "04c4d292430e44858206d6969d2faeca": {
     "model_module": "@jupyter-widgets/base",
     "model_module_version": "1.2.0",
     "model_name": "LayoutModel",
     "state": {
      "_model_module": "@jupyter-widgets/base",
      "_model_module_version": "1.2.0",
      "_model_name": "LayoutModel",
      "_view_count": null,
      "_view_module": "@jupyter-widgets/base",
      "_view_module_version": "1.2.0",
      "_view_name": "LayoutView",
      "align_content": null,
      "align_items": null,
      "align_self": null,
      "border": null,
      "bottom": null,
      "display": null,
      "flex": null,
      "flex_flow": null,
      "grid_area": null,
      "grid_auto_columns": null,
      "grid_auto_flow": null,
      "grid_auto_rows": null,
      "grid_column": null,
      "grid_gap": null,
      "grid_row": null,
      "grid_template_areas": null,
      "grid_template_columns": null,
      "grid_template_rows": null,
      "height": null,
      "justify_content": null,
      "justify_items": null,
      "left": null,
      "margin": null,
      "max_height": null,
      "max_width": null,
      "min_height": null,
      "min_width": null,
      "object_fit": null,
      "object_position": null,
      "order": null,
      "overflow": null,
      "overflow_x": null,
      "overflow_y": null,
      "padding": null,
      "right": null,
      "top": null,
      "visibility": null,
      "width": null
     }
    },
    "26118d43b0aa46999846003373063a58": {
     "model_module": "@jupyter-widgets/controls",
     "model_module_version": "1.5.0",
     "model_name": "HTMLModel",
     "state": {
      "_dom_classes": [],
      "_model_module": "@jupyter-widgets/controls",
      "_model_module_version": "1.5.0",
      "_model_name": "HTMLModel",
      "_view_count": null,
      "_view_module": "@jupyter-widgets/controls",
      "_view_module_version": "1.5.0",
      "_view_name": "HTMLView",
      "description": "",
      "description_tooltip": null,
      "layout": "IPY_MODEL_a41d444425ed407a89493daa34ec0fc5",
      "placeholder": "​",
      "style": "IPY_MODEL_d7f7cd1e0ba041efb771707939664786",
      "value": " 44.7M/44.7M [00:00&lt;00:00, 65.9MB/s]"
     }
    },
    "3eeb4a10f98c4c528b8cb5e6c8706dd7": {
     "model_module": "@jupyter-widgets/base",
     "model_module_version": "1.2.0",
     "model_name": "LayoutModel",
     "state": {
      "_model_module": "@jupyter-widgets/base",
      "_model_module_version": "1.2.0",
      "_model_name": "LayoutModel",
      "_view_count": null,
      "_view_module": "@jupyter-widgets/base",
      "_view_module_version": "1.2.0",
      "_view_name": "LayoutView",
      "align_content": null,
      "align_items": null,
      "align_self": null,
      "border": null,
      "bottom": null,
      "display": null,
      "flex": null,
      "flex_flow": null,
      "grid_area": null,
      "grid_auto_columns": null,
      "grid_auto_flow": null,
      "grid_auto_rows": null,
      "grid_column": null,
      "grid_gap": null,
      "grid_row": null,
      "grid_template_areas": null,
      "grid_template_columns": null,
      "grid_template_rows": null,
      "height": null,
      "justify_content": null,
      "justify_items": null,
      "left": null,
      "margin": null,
      "max_height": null,
      "max_width": null,
      "min_height": null,
      "min_width": null,
      "object_fit": null,
      "object_position": null,
      "order": null,
      "overflow": null,
      "overflow_x": null,
      "overflow_y": null,
      "padding": null,
      "right": null,
      "top": null,
      "visibility": null,
      "width": null
     }
    },
    "4674a4bc91f142c285816a0b7fea3031": {
     "model_module": "@jupyter-widgets/base",
     "model_module_version": "1.2.0",
     "model_name": "LayoutModel",
     "state": {
      "_model_module": "@jupyter-widgets/base",
      "_model_module_version": "1.2.0",
      "_model_name": "LayoutModel",
      "_view_count": null,
      "_view_module": "@jupyter-widgets/base",
      "_view_module_version": "1.2.0",
      "_view_name": "LayoutView",
      "align_content": null,
      "align_items": null,
      "align_self": null,
      "border": null,
      "bottom": null,
      "display": null,
      "flex": null,
      "flex_flow": null,
      "grid_area": null,
      "grid_auto_columns": null,
      "grid_auto_flow": null,
      "grid_auto_rows": null,
      "grid_column": null,
      "grid_gap": null,
      "grid_row": null,
      "grid_template_areas": null,
      "grid_template_columns": null,
      "grid_template_rows": null,
      "height": null,
      "justify_content": null,
      "justify_items": null,
      "left": null,
      "margin": null,
      "max_height": null,
      "max_width": null,
      "min_height": null,
      "min_width": null,
      "object_fit": null,
      "object_position": null,
      "order": null,
      "overflow": null,
      "overflow_x": null,
      "overflow_y": null,
      "padding": null,
      "right": null,
      "top": null,
      "visibility": null,
      "width": null
     }
    },
    "777b64e062194a8389d3ec5c15128faa": {
     "model_module": "@jupyter-widgets/controls",
     "model_module_version": "1.5.0",
     "model_name": "HBoxModel",
     "state": {
      "_dom_classes": [],
      "_model_module": "@jupyter-widgets/controls",
      "_model_module_version": "1.5.0",
      "_model_name": "HBoxModel",
      "_view_count": null,
      "_view_module": "@jupyter-widgets/controls",
      "_view_module_version": "1.5.0",
      "_view_name": "HBoxView",
      "box_style": "",
      "children": [
       "IPY_MODEL_95f8d8c9db6542b8a0806fb8f589cbb9",
       "IPY_MODEL_b91cd4d5997743e790fd9a26a7d59246",
       "IPY_MODEL_26118d43b0aa46999846003373063a58"
      ],
      "layout": "IPY_MODEL_04c4d292430e44858206d6969d2faeca"
     }
    },
    "95f8d8c9db6542b8a0806fb8f589cbb9": {
     "model_module": "@jupyter-widgets/controls",
     "model_module_version": "1.5.0",
     "model_name": "HTMLModel",
     "state": {
      "_dom_classes": [],
      "_model_module": "@jupyter-widgets/controls",
      "_model_module_version": "1.5.0",
      "_model_name": "HTMLModel",
      "_view_count": null,
      "_view_module": "@jupyter-widgets/controls",
      "_view_module_version": "1.5.0",
      "_view_name": "HTMLView",
      "description": "",
      "description_tooltip": null,
      "layout": "IPY_MODEL_4674a4bc91f142c285816a0b7fea3031",
      "placeholder": "​",
      "style": "IPY_MODEL_e8369f34a28f4190bbe5340548483afe",
      "value": "100%"
     }
    },
    "a41d444425ed407a89493daa34ec0fc5": {
     "model_module": "@jupyter-widgets/base",
     "model_module_version": "1.2.0",
     "model_name": "LayoutModel",
     "state": {
      "_model_module": "@jupyter-widgets/base",
      "_model_module_version": "1.2.0",
      "_model_name": "LayoutModel",
      "_view_count": null,
      "_view_module": "@jupyter-widgets/base",
      "_view_module_version": "1.2.0",
      "_view_name": "LayoutView",
      "align_content": null,
      "align_items": null,
      "align_self": null,
      "border": null,
      "bottom": null,
      "display": null,
      "flex": null,
      "flex_flow": null,
      "grid_area": null,
      "grid_auto_columns": null,
      "grid_auto_flow": null,
      "grid_auto_rows": null,
      "grid_column": null,
      "grid_gap": null,
      "grid_row": null,
      "grid_template_areas": null,
      "grid_template_columns": null,
      "grid_template_rows": null,
      "height": null,
      "justify_content": null,
      "justify_items": null,
      "left": null,
      "margin": null,
      "max_height": null,
      "max_width": null,
      "min_height": null,
      "min_width": null,
      "object_fit": null,
      "object_position": null,
      "order": null,
      "overflow": null,
      "overflow_x": null,
      "overflow_y": null,
      "padding": null,
      "right": null,
      "top": null,
      "visibility": null,
      "width": null
     }
    },
    "b91cd4d5997743e790fd9a26a7d59246": {
     "model_module": "@jupyter-widgets/controls",
     "model_module_version": "1.5.0",
     "model_name": "FloatProgressModel",
     "state": {
      "_dom_classes": [],
      "_model_module": "@jupyter-widgets/controls",
      "_model_module_version": "1.5.0",
      "_model_name": "FloatProgressModel",
      "_view_count": null,
      "_view_module": "@jupyter-widgets/controls",
      "_view_module_version": "1.5.0",
      "_view_name": "ProgressView",
      "bar_style": "success",
      "description": "",
      "description_tooltip": null,
      "layout": "IPY_MODEL_3eeb4a10f98c4c528b8cb5e6c8706dd7",
      "max": 46830571,
      "min": 0,
      "orientation": "horizontal",
      "style": "IPY_MODEL_c4ed85e531ae4fcfa783ddf7c5f29372",
      "value": 46830571
     }
    },
    "c4ed85e531ae4fcfa783ddf7c5f29372": {
     "model_module": "@jupyter-widgets/controls",
     "model_module_version": "1.5.0",
     "model_name": "ProgressStyleModel",
     "state": {
      "_model_module": "@jupyter-widgets/controls",
      "_model_module_version": "1.5.0",
      "_model_name": "ProgressStyleModel",
      "_view_count": null,
      "_view_module": "@jupyter-widgets/base",
      "_view_module_version": "1.2.0",
      "_view_name": "StyleView",
      "bar_color": null,
      "description_width": ""
     }
    },
    "d7f7cd1e0ba041efb771707939664786": {
     "model_module": "@jupyter-widgets/controls",
     "model_module_version": "1.5.0",
     "model_name": "DescriptionStyleModel",
     "state": {
      "_model_module": "@jupyter-widgets/controls",
      "_model_module_version": "1.5.0",
      "_model_name": "DescriptionStyleModel",
      "_view_count": null,
      "_view_module": "@jupyter-widgets/base",
      "_view_module_version": "1.2.0",
      "_view_name": "StyleView",
      "description_width": ""
     }
    },
    "e8369f34a28f4190bbe5340548483afe": {
     "model_module": "@jupyter-widgets/controls",
     "model_module_version": "1.5.0",
     "model_name": "DescriptionStyleModel",
     "state": {
      "_model_module": "@jupyter-widgets/controls",
      "_model_module_version": "1.5.0",
      "_model_name": "DescriptionStyleModel",
      "_view_count": null,
      "_view_module": "@jupyter-widgets/base",
      "_view_module_version": "1.2.0",
      "_view_name": "StyleView",
      "description_width": ""
     }
    }
   }
  }
 },
 "nbformat": 4,
 "nbformat_minor": 1
}
