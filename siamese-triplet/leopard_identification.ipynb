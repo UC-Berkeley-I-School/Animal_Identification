{
 "cells": [
  {
   "cell_type": "code",
   "execution_count": 1,
   "metadata": {
    "id": "sx9e_pXlCuti"
   },
   "outputs": [],
   "source": [
    "%load_ext autoreload\n",
    "%autoreload 2"
   ]
  },
  {
   "cell_type": "markdown",
   "metadata": {
    "id": "MfJfYeZKW_G-"
   },
   "source": []
  },
  {
   "cell_type": "code",
   "execution_count": null,
   "metadata": {
    "colab": {
     "base_uri": "https://localhost:8080/"
    },
    "id": "nyfx8ErC7I87",
    "outputId": "8006bf7a-13e4-48f7-a5a0-df35a654321e"
   },
   "outputs": [
    {
     "name": "stdout",
     "output_type": "stream",
     "text": [
      "Mounted at /content/gdrive\n",
      "/content/gdrive/MyDrive\n"
     ]
    }
   ],
   "source": [
    "from google.colab import drive\n",
    "drive.mount('/content/gdrive')\n",
    "!ln -s /content/gdrive/MyDrive /mydrive\n",
    "%cd /mydrive/\n"
   ]
  },
  {
   "cell_type": "markdown",
   "metadata": {
    "id": "UMMut8UVCutt"
   },
   "source": [
    "# Experiments\n",
    "We'll go through learning feature embeddings using different loss functions on leopard  dataset. We are using 512-dimensional embeddings.\n",
    "\n",
    "For every experiment Resnet18() is used currently no  hyperparameter search is implemented."
   ]
  },
  {
   "cell_type": "markdown",
   "metadata": {
    "id": "BcmGBqXeCutw"
   },
   "source": [
    "# Prepare dataset\n",
    "We'll be working on leopard dataset"
   ]
  },
  {
   "cell_type": "code",
   "execution_count": 1,
   "metadata": {
    "id": "yWtk_bJJKKBR"
   },
   "outputs": [],
   "source": [
    "import torchvision\n",
    "from torchvision import transforms\n",
    "from torchvision.datasets import ImageFolder\n",
    "import torch.utils.data as data\n",
    "import torch\n",
    "transform_img = transforms.Compose([\n",
    "    transforms.Resize(size= (128, 128)),\n",
    "    transforms.ToTensor(),\n",
    "    transforms.Normalize(mean=[0.485, 0.456, 0.406],\n",
    "                         std=[0.229, 0.224, 0.225] )\n",
    "    ])"
   ]
  },
  {
   "cell_type": "code",
   "execution_count": null,
   "metadata": {
    "colab": {
     "base_uri": "https://localhost:8080/"
    },
    "id": "o8lLb7ZNMJ-M",
    "outputId": "f7edde0a-6012-45e9-adcd-bc79ace43e5c"
   },
   "outputs": [
    {
     "name": "stdout",
     "output_type": "stream",
     "text": [
      "/content/gdrive/MyDrive/siamese-triplet\n"
     ]
    }
   ],
   "source": [
    "%cd /mydrive/siamese-triplet/\n",
    "\n",
    "cuda = torch.cuda.is_available()\n",
    "TRAIN_DATA_PATH = '../datasets/leopard/crop/train'\n",
    "BATCH_SIZE = 8\n",
    "train_dataset = torchvision.datasets.ImageFolder(root=TRAIN_DATA_PATH, transform=transform_img)\n",
    "TEST_DATA_PATH = '../datasets/leopard/crop/test'\n",
    "test_dataset = torchvision.datasets.ImageFolder(root=TEST_DATA_PATH, transform=transform_img)"
   ]
  },
  {
   "cell_type": "markdown",
   "metadata": {
    "id": "TcZTFRnjCut3"
   },
   "source": [
    "## Common setup"
   ]
  },
  {
   "cell_type": "markdown",
   "metadata": {
    "id": "75moY8AyCut_"
   },
   "source": [
    "# Baseline: Classification with softmax\n",
    "We'll train the model for classification and use outputs of penultimate layer as embeddings"
   ]
  },
  {
   "cell_type": "markdown",
   "metadata": {
    "id": "x7C9H1_nCuvJ"
   },
   "source": [
    "# Online pair/triplet selection - negative mining\n",
    "There are couple of problems with siamese and triplet networks.\n",
    "1. The number of possible pairs/triplets grows **quadratically/cubically** with the number of examples. It's infeasible to process them all\n",
    "2. We generate pairs/triplets randomly. As the training continues, more and more pairs/triplets are easy to deal with (their loss value is very small or even 0), preventing the network from training. We need to provide the network with **hard examples**.\n",
    "3. Each image that is fed to the network is used only for computation of contrastive/triplet loss for only one pair/triplet. The computation is somewhat wasted; once the embedding is computed, it could be reused for many pairs/triplets.\n",
    "\n",
    "To deal with that efficiently, we'll feed a network with standard mini-batches as we did for classification. The loss function will be responsible for selection of hard pairs and triplets within mini-batch. In these case, if we feed the network with 16 images per 10 classes, we can process up to $159*160/2 = 12720$ pairs and $10*16*15/2*(9*16) = 172800$ triplets, compared to 80 pairs and 53 triplets in previous implementation.\n",
    "\n",
    "We can find some strategies on how to select triplets in [2] and [3] *Alexander Hermans, Lucas Beyer, Bastian Leibe, [In Defense of the Triplet Loss for Person Re-Identification](https://arxiv.org/pdf/1703.07737), 2017*"
   ]
  },
  {
   "cell_type": "markdown",
   "metadata": {
    "id": "k806qej9CuvL"
   },
   "source": [
    "## Online pair selection\n",
    "## Steps\n",
    "1. Create **BalancedBatchSampler** - samples $N$ classes and $M$ samples *datasets.py*\n",
    "2. Create data loaders with the batch sampler\n",
    "3. Define **embedding** *(mapping)* network $f(x)$ - **EmbeddingNet** from *networks.py*\n",
    "4. Define a **PairSelector** that takes embeddings and original labels and returns valid pairs within a minibatch\n",
    "5. Define **OnlineContrastiveLoss** that will use a *PairSelector* and compute *ContrastiveLoss* on such pairs\n",
    "6. Train the network!"
   ]
  },
  {
   "cell_type": "code",
   "execution_count": null,
   "metadata": {
    "id": "goVi1_-PCuvL"
   },
   "outputs": [],
   "source": [
    "#from datasets import BalancedBatchSampler\n",
    "import numpy\n",
    "from torch.optim import lr_scheduler\n",
    "import torch.optim as optim\n",
    "from torch.autograd import Variable\n",
    "\n",
    "from trainer import fit\n",
    "import numpy as np\n",
    "from datasets import BalancedBatchSampler\n",
    "train_labels = torch.tensor(train_dataset.targets)\n",
    "test_labels = torch.tensor(test_dataset.targets)\n",
    "\n",
    "# We'll create mini batches by sampling labels that will be present in the mini batch and number of examples from each class\n",
    "train_batch_sampler = BalancedBatchSampler(train_labels, n_classes=64, n_samples=8)\n",
    "test_batch_sampler = BalancedBatchSampler(test_labels, n_classes=64, n_samples=4)\n",
    "kwargs = {'num_workers': 1, 'pin_memory': True} if cuda else {}\n",
    "online_train_loader = torch.utils.data.DataLoader(train_dataset, batch_sampler=train_batch_sampler, **kwargs)\n",
    "online_test_loader = torch.utils.data.DataLoader(test_dataset, batch_sampler=test_batch_sampler, **kwargs)\n",
    "\n",
    "# Set up the network and training parameters\n",
    "from networks_mod import EmbeddingNet\n",
    "from losses import OnlineContrastiveLoss\n",
    "from utils import AllPositivePairSelector, HardNegativePairSelector # Strategies for selecting pairs within a minibatch\n",
    "\n",
    "margin = 1.\n",
    "embedding_net = EmbeddingNet()\n",
    "model = embedding_net\n",
    "if cuda:\n",
    "    model.cuda()\n",
    "loss_fn = OnlineContrastiveLoss(margin, HardNegativePairSelector())\n",
    "lr = 1e-3\n",
    "optimizer = optim.Adam(model.parameters(), lr=lr)\n",
    "scheduler = lr_scheduler.StepLR(optimizer, 8, gamma=0.1, last_epoch=-1)\n",
    "n_epochs = 20\n",
    "log_interval = 50"
   ]
  },
  {
   "cell_type": "code",
   "execution_count": null,
   "metadata": {
    "colab": {
     "background_save": true,
     "base_uri": "https://localhost:8080/"
    },
    "id": "SacMTqN6CuvO",
    "outputId": "a2374be8-c5c0-444f-faa6-5e3f00108fab"
   },
   "outputs": [
    {
     "name": "stdout",
     "output_type": "stream",
     "text": [
      "Train: [0/1337 (0%)]\tLoss: 183.808777\n",
      "Epoch: 1/20. Train set: Average loss: 23.3431\n",
      "Epoch: 1/20. Validation set: Average loss: 4.0485\n",
      "Train: [0/1337 (0%)]\tLoss: 1.080360\n",
      "Epoch: 2/20. Train set: Average loss: 0.5589\n",
      "Epoch: 2/20. Validation set: Average loss: 0.7523\n",
      "Train: [0/1337 (0%)]\tLoss: 0.522320\n",
      "Epoch: 3/20. Train set: Average loss: 0.3672\n",
      "Epoch: 3/20. Validation set: Average loss: 0.3205\n",
      "Train: [0/1337 (0%)]\tLoss: 0.421373\n",
      "Epoch: 4/20. Train set: Average loss: 0.3310\n",
      "Epoch: 4/20. Validation set: Average loss: 0.2751\n",
      "Train: [0/1337 (0%)]\tLoss: 0.354741\n",
      "Epoch: 5/20. Train set: Average loss: 0.3092\n",
      "Epoch: 5/20. Validation set: Average loss: 0.2671\n",
      "Train: [0/1337 (0%)]\tLoss: 0.322270\n",
      "Epoch: 6/20. Train set: Average loss: 0.2944\n",
      "Epoch: 6/20. Validation set: Average loss: 0.2592\n",
      "Train: [0/1337 (0%)]\tLoss: 0.311500\n",
      "Epoch: 7/20. Train set: Average loss: 0.2840\n",
      "Epoch: 7/20. Validation set: Average loss: 0.2524\n",
      "Train: [0/1337 (0%)]\tLoss: 0.303566\n",
      "Epoch: 8/20. Train set: Average loss: 0.2790\n",
      "Epoch: 8/20. Validation set: Average loss: 0.2497\n",
      "Train: [0/1337 (0%)]\tLoss: 0.302867\n",
      "Epoch: 9/20. Train set: Average loss: 0.2782\n",
      "Epoch: 9/20. Validation set: Average loss: 0.2488\n",
      "Train: [0/1337 (0%)]\tLoss: 0.302144\n",
      "Epoch: 10/20. Train set: Average loss: 0.2774\n",
      "Epoch: 10/20. Validation set: Average loss: 0.2482\n",
      "Train: [0/1337 (0%)]\tLoss: 0.301396\n",
      "Epoch: 11/20. Train set: Average loss: 0.2765\n",
      "Epoch: 11/20. Validation set: Average loss: 0.2476\n",
      "Train: [0/1337 (0%)]\tLoss: 0.300634\n",
      "Epoch: 12/20. Train set: Average loss: 0.2756\n",
      "Epoch: 12/20. Validation set: Average loss: 0.2471\n",
      "Train: [0/1337 (0%)]\tLoss: 0.299850\n",
      "Epoch: 13/20. Train set: Average loss: 0.2747\n",
      "Epoch: 13/20. Validation set: Average loss: 0.2466\n",
      "Train: [0/1337 (0%)]\tLoss: 0.299047\n",
      "Epoch: 14/20. Train set: Average loss: 0.2738\n",
      "Epoch: 14/20. Validation set: Average loss: 0.2460\n",
      "Train: [0/1337 (0%)]\tLoss: 0.298232\n",
      "Epoch: 15/20. Train set: Average loss: 0.2729\n",
      "Epoch: 15/20. Validation set: Average loss: 0.2454\n",
      "Train: [0/1337 (0%)]\tLoss: 0.297401\n",
      "Epoch: 16/20. Train set: Average loss: 0.2724\n",
      "Epoch: 16/20. Validation set: Average loss: 0.2452\n",
      "Train: [0/1337 (0%)]\tLoss: 0.297315\n",
      "Epoch: 17/20. Train set: Average loss: 0.2723\n",
      "Epoch: 17/20. Validation set: Average loss: 0.2451\n",
      "Train: [0/1337 (0%)]\tLoss: 0.297227\n",
      "Epoch: 18/20. Train set: Average loss: 0.2722\n",
      "Epoch: 18/20. Validation set: Average loss: 0.2450\n",
      "Train: [0/1337 (0%)]\tLoss: 0.297135\n",
      "Epoch: 19/20. Train set: Average loss: 0.2721\n",
      "Epoch: 19/20. Validation set: Average loss: 0.2449\n",
      "Train: [0/1337 (0%)]\tLoss: 0.297041\n",
      "Epoch: 20/20. Train set: Average loss: 0.2720\n",
      "Epoch: 20/20. Validation set: Average loss: 0.2449\n"
     ]
    }
   ],
   "source": [
    "# DO not run Contrastive loss yet\n",
    "#fit(online_train_loader, online_test_loader, model, loss_fn, optimizer, scheduler, n_epochs, cuda, log_interval)"
   ]
  },
  {
   "cell_type": "markdown",
   "metadata": {
    "id": "UgIGiMwICuvn"
   },
   "source": [
    "## Online triplet selection\n",
    "## Steps\n",
    "1. Create **BalancedBatchSampler** - samples $N$ classes and $M$ samples *datasets.py*\n",
    "2. Create data loaders with the batch sampler\n",
    "3. Define **embedding** *(mapping)* network $f(x)$ - **EmbeddingNet** from *networks.py*\n",
    "4. Define a **TripletSelector** that takes embeddings and original labels and returns valid triplets within a minibatch\n",
    "5. Define **OnlineTripletLoss** that will use a *TripletSelector* and compute *TripletLoss* on such pairs\n",
    "6. Train the network!"
   ]
  },
  {
   "cell_type": "code",
   "execution_count": null,
   "metadata": {
    "id": "_Z2k3EZpT3bB"
   },
   "outputs": [],
   "source": [
    "import numpy\n",
    "from torch.optim import lr_scheduler\n",
    "import torch.optim as optim\n",
    "from torch.autograd import Variable\n",
    "\n",
    "from trainer import fit\n",
    "import numpy as np\n",
    "from datasets import BalancedBatchSampler\n",
    "train_labels = torch.tensor(train_dataset.targets)\n",
    "test_labels = torch.tensor(test_dataset.targets)\n",
    "\n",
    "# We'll create mini batches by sampling labels that will be present in the mini batch and number of examples from each class\n",
    "train_batch_sampler = BalancedBatchSampler(train_labels, n_classes=64, n_samples=8)\n",
    "test_batch_sampler = BalancedBatchSampler(test_labels, n_classes=64, n_samples=4)\n",
    "kwargs = {'num_workers': 1, 'pin_memory': True} if cuda else {}\n",
    "\n",
    "online_train_loader = torch.utils.data.DataLoader(train_dataset, batch_sampler=train_batch_sampler, **kwargs)\n",
    "online_test_loader = torch.utils.data.DataLoader(test_dataset, batch_sampler=test_batch_sampler, **kwargs)\n",
    "\n",
    "# Set up the network and training parameters\n",
    "from networks_mod import EmbeddingNet\n",
    "from losses import OnlineTripletLoss\n",
    "from utils import AllTripletSelector,HardestNegativeTripletSelector, RandomNegativeTripletSelector, SemihardNegativeTripletSelector # Strategies for selecting triplets within a minibatch\n",
    "from metrics import AverageNonzeroTripletsMetric\n",
    "\n",
    "margin = 1.\n",
    "embedding_net = EmbeddingNet()\n",
    "model = embedding_net\n",
    "if cuda:\n",
    "    model.cuda()\n",
    "loss_fn = OnlineTripletLoss(margin, RandomNegativeTripletSelector(margin))\n",
    "lr = 1e-3\n",
    "optimizer = optim.Adam(model.parameters(), lr=lr, weight_decay=1e-4)\n",
    "scheduler = lr_scheduler.StepLR(optimizer, 8, gamma=0.1, last_epoch=-1)\n",
    "n_epochs = 20\n",
    "log_interval = 50"
   ]
  },
  {
   "cell_type": "code",
   "execution_count": null,
   "metadata": {
    "colab": {
     "base_uri": "https://localhost:8080/"
    },
    "id": "W-bDxqVJCuvs",
    "outputId": "09fb640e-d5d4-4f96-aa33-4ce8b606ebea"
   },
   "outputs": [
    {
     "name": "stdout",
     "output_type": "stream",
     "text": [
      "Train: [0/1337 (0%)]\tLoss: 0.917869\tAverage nonzero triplets: 1513.0\n",
      "Epoch: 1/20. Train set: Average loss: 0.8143\tAverage nonzero triplets: 1513.0\n",
      "Epoch: 1/20. Validation set: Average loss: 0.8925\tAverage nonzero triplets: 183.0\n",
      "Train: [0/1337 (0%)]\tLoss: 0.820511\tAverage nonzero triplets: 1513.0\n",
      "Epoch: 2/20. Train set: Average loss: 0.7932\tAverage nonzero triplets: 1513.0\n",
      "Epoch: 2/20. Validation set: Average loss: 0.9022\tAverage nonzero triplets: 183.0\n",
      "Train: [0/1337 (0%)]\tLoss: 0.726920\tAverage nonzero triplets: 1513.0\n",
      "Epoch: 3/20. Train set: Average loss: 0.7169\tAverage nonzero triplets: 1513.0\n",
      "Epoch: 3/20. Validation set: Average loss: 0.8005\tAverage nonzero triplets: 183.0\n",
      "Train: [0/1337 (0%)]\tLoss: 0.708016\tAverage nonzero triplets: 1513.0\n",
      "Epoch: 4/20. Train set: Average loss: 0.7177\tAverage nonzero triplets: 1513.0\n",
      "Epoch: 4/20. Validation set: Average loss: 0.7522\tAverage nonzero triplets: 183.0\n",
      "Train: [0/1337 (0%)]\tLoss: 0.719246\tAverage nonzero triplets: 1513.0\n",
      "Epoch: 5/20. Train set: Average loss: 0.7012\tAverage nonzero triplets: 1513.0\n",
      "Epoch: 5/20. Validation set: Average loss: 0.8055\tAverage nonzero triplets: 183.0\n",
      "Train: [0/1337 (0%)]\tLoss: 0.652790\tAverage nonzero triplets: 1513.0\n",
      "Epoch: 6/20. Train set: Average loss: 0.6347\tAverage nonzero triplets: 1513.0\n",
      "Epoch: 6/20. Validation set: Average loss: 0.6940\tAverage nonzero triplets: 183.0\n",
      "Train: [0/1337 (0%)]\tLoss: 0.576257\tAverage nonzero triplets: 1513.0\n",
      "Epoch: 7/20. Train set: Average loss: 0.5692\tAverage nonzero triplets: 1513.0\n",
      "Epoch: 7/20. Validation set: Average loss: 0.6745\tAverage nonzero triplets: 183.0\n",
      "Train: [0/1337 (0%)]\tLoss: 0.564624\tAverage nonzero triplets: 1513.0\n",
      "Epoch: 8/20. Train set: Average loss: 0.5576\tAverage nonzero triplets: 1513.0\n",
      "Epoch: 8/20. Validation set: Average loss: 0.7229\tAverage nonzero triplets: 183.0\n",
      "Train: [0/1337 (0%)]\tLoss: 0.547085\tAverage nonzero triplets: 1513.0\n",
      "Epoch: 9/20. Train set: Average loss: 0.5359\tAverage nonzero triplets: 1513.0\n",
      "Epoch: 9/20. Validation set: Average loss: 0.6795\tAverage nonzero triplets: 183.0\n",
      "Train: [0/1337 (0%)]\tLoss: 0.525493\tAverage nonzero triplets: 1513.0\n",
      "Epoch: 10/20. Train set: Average loss: 0.5276\tAverage nonzero triplets: 1513.0\n",
      "Epoch: 10/20. Validation set: Average loss: 0.6873\tAverage nonzero triplets: 183.0\n",
      "Train: [0/1337 (0%)]\tLoss: 0.514116\tAverage nonzero triplets: 1513.0\n",
      "Epoch: 11/20. Train set: Average loss: 0.5169\tAverage nonzero triplets: 1513.0\n",
      "Epoch: 11/20. Validation set: Average loss: 0.6229\tAverage nonzero triplets: 183.0\n",
      "Train: [0/1337 (0%)]\tLoss: 0.518250\tAverage nonzero triplets: 1513.0\n",
      "Epoch: 12/20. Train set: Average loss: 0.5108\tAverage nonzero triplets: 1513.0\n",
      "Epoch: 12/20. Validation set: Average loss: 0.6803\tAverage nonzero triplets: 183.0\n",
      "Train: [0/1337 (0%)]\tLoss: 0.497696\tAverage nonzero triplets: 1513.0\n",
      "Epoch: 13/20. Train set: Average loss: 0.4894\tAverage nonzero triplets: 1513.0\n",
      "Epoch: 13/20. Validation set: Average loss: 0.7016\tAverage nonzero triplets: 183.0\n",
      "Train: [0/1337 (0%)]\tLoss: 0.471774\tAverage nonzero triplets: 1513.0\n",
      "Epoch: 14/20. Train set: Average loss: 0.4813\tAverage nonzero triplets: 1513.0\n",
      "Epoch: 14/20. Validation set: Average loss: 0.5918\tAverage nonzero triplets: 183.0\n",
      "Train: [0/1337 (0%)]\tLoss: 0.469387\tAverage nonzero triplets: 1512.0\n",
      "Epoch: 15/20. Train set: Average loss: 0.4683\tAverage nonzero triplets: 1512.5\n",
      "Epoch: 15/20. Validation set: Average loss: 0.6646\tAverage nonzero triplets: 183.0\n",
      "Train: [0/1337 (0%)]\tLoss: 0.490643\tAverage nonzero triplets: 1509.0\n",
      "Epoch: 16/20. Train set: Average loss: 0.4846\tAverage nonzero triplets: 1511.0\n",
      "Epoch: 16/20. Validation set: Average loss: 0.6455\tAverage nonzero triplets: 183.0\n",
      "Train: [0/1337 (0%)]\tLoss: 0.487294\tAverage nonzero triplets: 1512.0\n",
      "Epoch: 17/20. Train set: Average loss: 0.4899\tAverage nonzero triplets: 1512.5\n",
      "Epoch: 17/20. Validation set: Average loss: 0.6821\tAverage nonzero triplets: 183.0\n",
      "Train: [0/1337 (0%)]\tLoss: 0.470076\tAverage nonzero triplets: 1512.0\n",
      "Epoch: 18/20. Train set: Average loss: 0.4699\tAverage nonzero triplets: 1512.5\n",
      "Epoch: 18/20. Validation set: Average loss: 0.6660\tAverage nonzero triplets: 183.0\n",
      "Train: [0/1337 (0%)]\tLoss: 0.470125\tAverage nonzero triplets: 1510.0\n",
      "Epoch: 19/20. Train set: Average loss: 0.4722\tAverage nonzero triplets: 1511.5\n",
      "Epoch: 19/20. Validation set: Average loss: 0.6569\tAverage nonzero triplets: 183.0\n",
      "Train: [0/1337 (0%)]\tLoss: 0.477340\tAverage nonzero triplets: 1513.0\n",
      "Epoch: 20/20. Train set: Average loss: 0.4761\tAverage nonzero triplets: 1513.0\n",
      "Epoch: 20/20. Validation set: Average loss: 0.6999\tAverage nonzero triplets: 183.0\n"
     ]
    }
   ],
   "source": [
    "fit(online_train_loader, online_test_loader, model, loss_fn, optimizer, scheduler, n_epochs, cuda, log_interval, metrics=[AverageNonzeroTripletsMetric()])"
   ]
  },
  {
   "cell_type": "code",
   "execution_count": null,
   "metadata": {
    "id": "smvUHdXOyt7r"
   },
   "outputs": [],
   "source": [
    "model_file_name = 'leopard_model_tr.pt'\n",
    "path = f\"/content/gdrive/MyDrive/siamese-triplet/{model_file_name}\" \n",
    "torch.save(model.state_dict(), path)"
   ]
  },
  {
   "cell_type": "code",
   "execution_count": null,
   "metadata": {
    "id": "I2Uv949SnoGo"
   },
   "outputs": [],
   "source": [
    "def extract_embeddings(dataloader, model):\n",
    "    with torch.no_grad():\n",
    "        model.eval()\n",
    "        embeddings = []\n",
    "        labels = []\n",
    "        for images, target in dataloader:\n",
    "            if cuda:\n",
    "                images = images.cuda()\n",
    "            embeddings.extend(model.get_embedding(images).data.cpu().numpy())\n",
    "            labels.extend(target.numpy().tolist())\n",
    "    return embeddings, labels"
   ]
  },
  {
   "cell_type": "code",
   "execution_count": null,
   "metadata": {
    "colab": {
     "base_uri": "https://localhost:8080/"
    },
    "id": "HoRFHZs2QHmI",
    "outputId": "6e5a455f-5abc-4eb9-cb52-b0bed3b75dd1"
   },
   "outputs": [
    {
     "name": "stderr",
     "output_type": "stream",
     "text": [
      "/usr/local/lib/python3.7/dist-packages/torch/utils/data/dataloader.py:490: UserWarning: This DataLoader will create 4 worker processes in total. Our suggested max number of worker in current system is 2, which is smaller than what this DataLoader is going to create. Please be aware that excessive worker creation might get DataLoader running slow or even freeze, lower the worker number to avoid potential slowness/freeze if necessary.\n",
      "  cpuset_checked))\n"
     ]
    }
   ],
   "source": [
    "train_eval_loader = data.DataLoader(train_dataset, batch_size=4, shuffle=False,  num_workers=2, drop_last=True, pin_memory=cuda)\n",
    "train_emb, train_ref_label = extract_embeddings(train_eval_loader, model)\n"
   ]
  },
  {
   "cell_type": "code",
   "execution_count": null,
   "metadata": {
    "colab": {
     "base_uri": "https://localhost:8080/"
    },
    "id": "JfDILo7xQp1T",
    "outputId": "f7edde0a-6012-45e9-adcd-bc79ace43e5c"
   },
   "outputs": [
    {
     "name": "stdout",
     "output_type": "stream",
     "text": [
      "/content/gdrive/MyDrive/siamese-triplet\n"
     ]
    }
   ],
   "source": [
    "\n",
    "test_eval_loader = data.DataLoader(test_dataset, batch_size=1, shuffle=False,  num_workers=2, drop_last=True, pin_memory=cuda)\n",
    "test_emb, test_ref_label = extract_embeddings(test_eval_loader, model)"
   ]
  }
 ],
 "metadata": {
  "accelerator": "GPU",
  "colab": {
   "background_execution": "on",
   "name": "Experiments_leopard.ipynb",
   "provenance": []
  },
  "kernelspec": {
   "display_name": "w251_project",
   "language": "python",
   "name": "w251_project"
  },
  "language_info": {
   "codemirror_mode": {
    "name": "ipython",
    "version": 3
   },
   "file_extension": ".py",
   "mimetype": "text/x-python",
   "name": "python",
   "nbconvert_exporter": "python",
   "pygments_lexer": "ipython3",
   "version": "3.9.7"
  },
  "widgets": {
   "application/vnd.jupyter.widget-state+json": {
    "0b67f25a65f64e8f86c49664483020ce": {
     "model_module": "@jupyter-widgets/controls",
     "model_module_version": "1.5.0",
     "model_name": "HBoxModel",
     "state": {
      "_dom_classes": [],
      "_model_module": "@jupyter-widgets/controls",
      "_model_module_version": "1.5.0",
      "_model_name": "HBoxModel",
      "_view_count": null,
      "_view_module": "@jupyter-widgets/controls",
      "_view_module_version": "1.5.0",
      "_view_name": "HBoxView",
      "box_style": "",
      "children": [
       "IPY_MODEL_1fede8ce447d42f5a57f5ad44af281e5",
       "IPY_MODEL_69100e117f8346b9ab6275598b6ddad4",
       "IPY_MODEL_721b12dc1f8140539e91f18c185b014e"
      ],
      "layout": "IPY_MODEL_94a381099b84401c80437b2f2d3c2316"
     }
    },
    "1fede8ce447d42f5a57f5ad44af281e5": {
     "model_module": "@jupyter-widgets/controls",
     "model_module_version": "1.5.0",
     "model_name": "HTMLModel",
     "state": {
      "_dom_classes": [],
      "_model_module": "@jupyter-widgets/controls",
      "_model_module_version": "1.5.0",
      "_model_name": "HTMLModel",
      "_view_count": null,
      "_view_module": "@jupyter-widgets/controls",
      "_view_module_version": "1.5.0",
      "_view_name": "HTMLView",
      "description": "",
      "description_tooltip": null,
      "layout": "IPY_MODEL_cefb48e909c243e9b67da383f140a936",
      "placeholder": "​",
      "style": "IPY_MODEL_a8dff44a095c4492bc306a3b2198f154",
      "value": "100%"
     }
    },
    "4023331bb7314fb3a61a83c5730e7ae8": {
     "model_module": "@jupyter-widgets/controls",
     "model_module_version": "1.5.0",
     "model_name": "DescriptionStyleModel",
     "state": {
      "_model_module": "@jupyter-widgets/controls",
      "_model_module_version": "1.5.0",
      "_model_name": "DescriptionStyleModel",
      "_view_count": null,
      "_view_module": "@jupyter-widgets/base",
      "_view_module_version": "1.2.0",
      "_view_name": "StyleView",
      "description_width": ""
     }
    },
    "66b1ab01ef474fcdafad404fb9231ae5": {
     "model_module": "@jupyter-widgets/base",
     "model_module_version": "1.2.0",
     "model_name": "LayoutModel",
     "state": {
      "_model_module": "@jupyter-widgets/base",
      "_model_module_version": "1.2.0",
      "_model_name": "LayoutModel",
      "_view_count": null,
      "_view_module": "@jupyter-widgets/base",
      "_view_module_version": "1.2.0",
      "_view_name": "LayoutView",
      "align_content": null,
      "align_items": null,
      "align_self": null,
      "border": null,
      "bottom": null,
      "display": null,
      "flex": null,
      "flex_flow": null,
      "grid_area": null,
      "grid_auto_columns": null,
      "grid_auto_flow": null,
      "grid_auto_rows": null,
      "grid_column": null,
      "grid_gap": null,
      "grid_row": null,
      "grid_template_areas": null,
      "grid_template_columns": null,
      "grid_template_rows": null,
      "height": null,
      "justify_content": null,
      "justify_items": null,
      "left": null,
      "margin": null,
      "max_height": null,
      "max_width": null,
      "min_height": null,
      "min_width": null,
      "object_fit": null,
      "object_position": null,
      "order": null,
      "overflow": null,
      "overflow_x": null,
      "overflow_y": null,
      "padding": null,
      "right": null,
      "top": null,
      "visibility": null,
      "width": null
     }
    },
    "69100e117f8346b9ab6275598b6ddad4": {
     "model_module": "@jupyter-widgets/controls",
     "model_module_version": "1.5.0",
     "model_name": "FloatProgressModel",
     "state": {
      "_dom_classes": [],
      "_model_module": "@jupyter-widgets/controls",
      "_model_module_version": "1.5.0",
      "_model_name": "FloatProgressModel",
      "_view_count": null,
      "_view_module": "@jupyter-widgets/controls",
      "_view_module_version": "1.5.0",
      "_view_name": "ProgressView",
      "bar_style": "success",
      "description": "",
      "description_tooltip": null,
      "layout": "IPY_MODEL_66b1ab01ef474fcdafad404fb9231ae5",
      "max": 46830571,
      "min": 0,
      "orientation": "horizontal",
      "style": "IPY_MODEL_9abf83fce1ed4da88f6148b9e16e5ece",
      "value": 46830571
     }
    },
    "721b12dc1f8140539e91f18c185b014e": {
     "model_module": "@jupyter-widgets/controls",
     "model_module_version": "1.5.0",
     "model_name": "HTMLModel",
     "state": {
      "_dom_classes": [],
      "_model_module": "@jupyter-widgets/controls",
      "_model_module_version": "1.5.0",
      "_model_name": "HTMLModel",
      "_view_count": null,
      "_view_module": "@jupyter-widgets/controls",
      "_view_module_version": "1.5.0",
      "_view_name": "HTMLView",
      "description": "",
      "description_tooltip": null,
      "layout": "IPY_MODEL_9e1065d3a2c6400095224a7e88e8e4c1",
      "placeholder": "​",
      "style": "IPY_MODEL_4023331bb7314fb3a61a83c5730e7ae8",
      "value": " 44.7M/44.7M [00:03&lt;00:00, 14.4MB/s]"
     }
    },
    "94a381099b84401c80437b2f2d3c2316": {
     "model_module": "@jupyter-widgets/base",
     "model_module_version": "1.2.0",
     "model_name": "LayoutModel",
     "state": {
      "_model_module": "@jupyter-widgets/base",
      "_model_module_version": "1.2.0",
      "_model_name": "LayoutModel",
      "_view_count": null,
      "_view_module": "@jupyter-widgets/base",
      "_view_module_version": "1.2.0",
      "_view_name": "LayoutView",
      "align_content": null,
      "align_items": null,
      "align_self": null,
      "border": null,
      "bottom": null,
      "display": null,
      "flex": null,
      "flex_flow": null,
      "grid_area": null,
      "grid_auto_columns": null,
      "grid_auto_flow": null,
      "grid_auto_rows": null,
      "grid_column": null,
      "grid_gap": null,
      "grid_row": null,
      "grid_template_areas": null,
      "grid_template_columns": null,
      "grid_template_rows": null,
      "height": null,
      "justify_content": null,
      "justify_items": null,
      "left": null,
      "margin": null,
      "max_height": null,
      "max_width": null,
      "min_height": null,
      "min_width": null,
      "object_fit": null,
      "object_position": null,
      "order": null,
      "overflow": null,
      "overflow_x": null,
      "overflow_y": null,
      "padding": null,
      "right": null,
      "top": null,
      "visibility": null,
      "width": null
     }
    },
    "9abf83fce1ed4da88f6148b9e16e5ece": {
     "model_module": "@jupyter-widgets/controls",
     "model_module_version": "1.5.0",
     "model_name": "ProgressStyleModel",
     "state": {
      "_model_module": "@jupyter-widgets/controls",
      "_model_module_version": "1.5.0",
      "_model_name": "ProgressStyleModel",
      "_view_count": null,
      "_view_module": "@jupyter-widgets/base",
      "_view_module_version": "1.2.0",
      "_view_name": "StyleView",
      "bar_color": null,
      "description_width": ""
     }
    },
    "9e1065d3a2c6400095224a7e88e8e4c1": {
     "model_module": "@jupyter-widgets/base",
     "model_module_version": "1.2.0",
     "model_name": "LayoutModel",
     "state": {
      "_model_module": "@jupyter-widgets/base",
      "_model_module_version": "1.2.0",
      "_model_name": "LayoutModel",
      "_view_count": null,
      "_view_module": "@jupyter-widgets/base",
      "_view_module_version": "1.2.0",
      "_view_name": "LayoutView",
      "align_content": null,
      "align_items": null,
      "align_self": null,
      "border": null,
      "bottom": null,
      "display": null,
      "flex": null,
      "flex_flow": null,
      "grid_area": null,
      "grid_auto_columns": null,
      "grid_auto_flow": null,
      "grid_auto_rows": null,
      "grid_column": null,
      "grid_gap": null,
      "grid_row": null,
      "grid_template_areas": null,
      "grid_template_columns": null,
      "grid_template_rows": null,
      "height": null,
      "justify_content": null,
      "justify_items": null,
      "left": null,
      "margin": null,
      "max_height": null,
      "max_width": null,
      "min_height": null,
      "min_width": null,
      "object_fit": null,
      "object_position": null,
      "order": null,
      "overflow": null,
      "overflow_x": null,
      "overflow_y": null,
      "padding": null,
      "right": null,
      "top": null,
      "visibility": null,
      "width": null
     }
    },
    "a8dff44a095c4492bc306a3b2198f154": {
     "model_module": "@jupyter-widgets/controls",
     "model_module_version": "1.5.0",
     "model_name": "DescriptionStyleModel",
     "state": {
      "_model_module": "@jupyter-widgets/controls",
      "_model_module_version": "1.5.0",
      "_model_name": "DescriptionStyleModel",
      "_view_count": null,
      "_view_module": "@jupyter-widgets/base",
      "_view_module_version": "1.2.0",
      "_view_name": "StyleView",
      "description_width": ""
     }
    },
    "cefb48e909c243e9b67da383f140a936": {
     "model_module": "@jupyter-widgets/base",
     "model_module_version": "1.2.0",
     "model_name": "LayoutModel",
     "state": {
      "_model_module": "@jupyter-widgets/base",
      "_model_module_version": "1.2.0",
      "_model_name": "LayoutModel",
      "_view_count": null,
      "_view_module": "@jupyter-widgets/base",
      "_view_module_version": "1.2.0",
      "_view_name": "LayoutView",
      "align_content": null,
      "align_items": null,
      "align_self": null,
      "border": null,
      "bottom": null,
      "display": null,
      "flex": null,
      "flex_flow": null,
      "grid_area": null,
      "grid_auto_columns": null,
      "grid_auto_flow": null,
      "grid_auto_rows": null,
      "grid_column": null,
      "grid_gap": null,
      "grid_row": null,
      "grid_template_areas": null,
      "grid_template_columns": null,
      "grid_template_rows": null,
      "height": null,
      "justify_content": null,
      "justify_items": null,
      "left": null,
      "margin": null,
      "max_height": null,
      "max_width": null,
      "min_height": null,
      "min_width": null,
      "object_fit": null,
      "object_position": null,
      "order": null,
      "overflow": null,
      "overflow_x": null,
      "overflow_y": null,
      "padding": null,
      "right": null,
      "top": null,
      "visibility": null,
      "width": null
     }
    }
   }
  }
 },
 "nbformat": 4,
 "nbformat_minor": 1
}
