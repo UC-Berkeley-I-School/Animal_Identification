{
  "nbformat": 4,
  "nbformat_minor": 0,
  "metadata": {
    "colab": {
      "name": "Exploratory Analysis.ipynb",
      "provenance": []
    },
    "kernelspec": {
      "name": "python3",
      "display_name": "Python 3"
    },
    "language_info": {
      "name": "python"
    }
  },
  "cells": [
    {
      "cell_type": "markdown",
      "source": [
        "# Install dependencies\n",
        "These are required to use fifty one."
      ],
      "metadata": {
        "id": "Ad5cAwhMfdm5"
      }
    },
    {
      "cell_type": "code",
      "execution_count": 1,
      "metadata": {
        "colab": {
          "base_uri": "https://localhost:8080/"
        },
        "id": "95hy0ZQDfWNs",
        "outputId": "2ab84515-7365-42a2-f47a-2c08d3fa47e6"
      },
      "outputs": [
        {
          "output_type": "stream",
          "name": "stdout",
          "text": [
            "Looking in indexes: https://pypi.org/simple, https://us-python.pkg.dev/colab-wheels/public/simple/\n",
            "Requirement already satisfied: Jinja2 in /usr/local/lib/python3.7/dist-packages (2.11.3)\n",
            "Collecting Jinja2\n",
            "  Downloading Jinja2-3.1.2-py3-none-any.whl (133 kB)\n",
            "\u001b[K     |████████████████████████████████| 133 kB 4.8 MB/s \n",
            "\u001b[?25hRequirement already satisfied: MarkupSafe>=2.0 in /usr/local/lib/python3.7/dist-packages (from Jinja2) (2.0.1)\n",
            "Installing collected packages: Jinja2\n",
            "  Attempting uninstall: Jinja2\n",
            "    Found existing installation: Jinja2 2.11.3\n",
            "    Uninstalling Jinja2-2.11.3:\n",
            "      Successfully uninstalled Jinja2-2.11.3\n",
            "\u001b[31mERROR: pip's dependency resolver does not currently take into account all the packages that are installed. This behaviour is the source of the following dependency conflicts.\n",
            "flask 1.1.4 requires Jinja2<3.0,>=2.10.1, but you have jinja2 3.1.2 which is incompatible.\n",
            "datascience 0.10.6 requires folium==0.2.1, but you have folium 0.8.3 which is incompatible.\u001b[0m\n",
            "Successfully installed Jinja2-3.1.2\n",
            "Looking in indexes: https://pypi.org/simple, https://us-python.pkg.dev/colab-wheels/public/simple/\n",
            "Collecting opencv-python-headless==4.1.2.30\n",
            "  Downloading opencv_python_headless-4.1.2.30-cp37-cp37m-manylinux1_x86_64.whl (21.8 MB)\n",
            "\u001b[K     |████████████████████████████████| 21.8 MB 1.7 MB/s \n",
            "\u001b[?25hRequirement already satisfied: numpy>=1.14.5 in /usr/local/lib/python3.7/dist-packages (from opencv-python-headless==4.1.2.30) (1.21.6)\n",
            "Installing collected packages: opencv-python-headless\n",
            "Successfully installed opencv-python-headless-4.1.2.30\n",
            "Looking in indexes: https://pypi.org/simple, https://us-python.pkg.dev/colab-wheels/public/simple/\n",
            "Collecting fiftyone\n",
            "  Downloading fiftyone-0.16.2-py3-none-any.whl (1.5 MB)\n",
            "\u001b[K     |████████████████████████████████| 1.5 MB 5.2 MB/s \n",
            "\u001b[?25hCollecting eventlet\n",
            "  Downloading eventlet-0.33.1-py2.py3-none-any.whl (226 kB)\n",
            "\u001b[K     |████████████████████████████████| 226 kB 59.6 MB/s \n",
            "\u001b[?25hRequirement already satisfied: scikit-learn in /usr/local/lib/python3.7/dist-packages (from fiftyone) (1.0.2)\n",
            "Requirement already satisfied: opencv-python-headless in /usr/local/lib/python3.7/dist-packages (from fiftyone) (4.1.2.30)\n",
            "Collecting boto3\n",
            "  Downloading boto3-1.24.2-py3-none-any.whl (132 kB)\n",
            "\u001b[K     |████████████████████████████████| 132 kB 57.8 MB/s \n",
            "\u001b[?25hCollecting sseclient-py<2,>=1.7.2\n",
            "  Downloading sseclient_py-1.7.2-py2.py3-none-any.whl (8.4 kB)\n",
            "Collecting starlette==0.16.0\n",
            "  Downloading starlette-0.16.0-py3-none-any.whl (61 kB)\n",
            "\u001b[K     |████████████████████████████████| 61 kB 260 kB/s \n",
            "\u001b[?25hCollecting dacite>=1.6.0\n",
            "  Downloading dacite-1.6.0-py3-none-any.whl (12 kB)\n",
            "Requirement already satisfied: tabulate in /usr/local/lib/python3.7/dist-packages (from fiftyone) (0.8.9)\n",
            "Collecting plotly<5,>=4.14\n",
            "  Downloading plotly-4.14.3-py2.py3-none-any.whl (13.2 MB)\n",
            "\u001b[K     |████████████████████████████████| 13.2 MB 29.2 MB/s \n",
            "\u001b[?25hCollecting aiofiles\n",
            "  Downloading aiofiles-0.8.0-py3-none-any.whl (13 kB)\n",
            "Collecting sse-starlette<1,>=0.10.3\n",
            "  Downloading sse_starlette-0.10.3-py3-none-any.whl (8.0 kB)\n",
            "Requirement already satisfied: numpy in /usr/local/lib/python3.7/dist-packages (from fiftyone) (1.21.6)\n",
            "Requirement already satisfied: packaging in /usr/local/lib/python3.7/dist-packages (from fiftyone) (21.3)\n",
            "Requirement already satisfied: matplotlib in /usr/local/lib/python3.7/dist-packages (from fiftyone) (3.2.2)\n",
            "Collecting pprintpp\n",
            "  Downloading pprintpp-0.4.0-py2.py3-none-any.whl (16 kB)\n",
            "Collecting hypercorn>=0.13.2\n",
            "  Downloading Hypercorn-0.13.2-py3-none-any.whl (56 kB)\n",
            "\u001b[K     |████████████████████████████████| 56 kB 5.4 MB/s \n",
            "\u001b[?25hCollecting kaleido\n",
            "  Downloading kaleido-0.2.1-py2.py3-none-manylinux1_x86_64.whl (79.9 MB)\n",
            "\u001b[K     |████████████████████████████████| 79.9 MB 121 kB/s \n",
            "\u001b[?25hRequirement already satisfied: PyYAML in /usr/local/lib/python3.7/dist-packages (from fiftyone) (3.13)\n",
            "Collecting universal-analytics-python3<2,>=1.0.1\n",
            "  Downloading universal_analytics_python3-1.1.1-py3-none-any.whl (10 kB)\n",
            "Requirement already satisfied: setuptools in /usr/local/lib/python3.7/dist-packages (from fiftyone) (57.4.0)\n",
            "Collecting mongoengine==0.20.0\n",
            "  Downloading mongoengine-0.20.0-py3-none-any.whl (106 kB)\n",
            "\u001b[K     |████████████████████████████████| 106 kB 60.5 MB/s \n",
            "\u001b[?25hCollecting argcomplete\n",
            "  Downloading argcomplete-2.0.0-py2.py3-none-any.whl (37 kB)\n",
            "Requirement already satisfied: Pillow>=6.2 in /usr/local/lib/python3.7/dist-packages (from fiftyone) (7.1.2)\n",
            "Collecting Deprecated\n",
            "  Downloading Deprecated-1.2.13-py2.py3-none-any.whl (9.6 kB)\n",
            "Collecting ndjson\n",
            "  Downloading ndjson-0.3.1-py2.py3-none-any.whl (5.3 kB)\n",
            "Requirement already satisfied: psutil in /usr/local/lib/python3.7/dist-packages (from fiftyone) (5.4.8)\n",
            "Requirement already satisfied: pytz in /usr/local/lib/python3.7/dist-packages (from fiftyone) (2022.1)\n",
            "Collecting motor<3,>=2.3\n",
            "  Downloading motor-2.5.1-py3-none-any.whl (55 kB)\n",
            "\u001b[K     |████████████████████████████████| 55 kB 3.9 MB/s \n",
            "\u001b[?25hRequirement already satisfied: scikit-image in /usr/local/lib/python3.7/dist-packages (from fiftyone) (0.18.3)\n",
            "Collecting pymongo<4,>=3.11\n",
            "  Downloading pymongo-3.12.3-cp37-cp37m-manylinux_2_17_x86_64.manylinux2014_x86_64.whl (508 kB)\n",
            "\u001b[K     |████████████████████████████████| 508 kB 51.9 MB/s \n",
            "\u001b[?25hCollecting voxel51-eta<0.8,>=0.7.0\n",
            "  Downloading voxel51_eta-0.7.0-py2.py3-none-any.whl (563 kB)\n",
            "\u001b[K     |████████████████████████████████| 563 kB 55.6 MB/s \n",
            "\u001b[?25hRequirement already satisfied: Jinja2>=3 in /usr/local/lib/python3.7/dist-packages (from fiftyone) (3.1.2)\n",
            "Requirement already satisfied: pandas in /usr/local/lib/python3.7/dist-packages (from fiftyone) (1.3.5)\n",
            "Collecting retrying\n",
            "  Downloading retrying-1.3.3.tar.gz (10 kB)\n",
            "Collecting fiftyone-db<0.4,>=0.3\n",
            "  Downloading fiftyone_db-0.3.0-py3-none-manylinux1_x86_64.whl (29.2 MB)\n",
            "\u001b[K     |████████████████████████████████| 29.2 MB 1.4 MB/s \n",
            "\u001b[?25hCollecting fiftyone-brain<0.9,>=0.8\n",
            "  Downloading fiftyone_brain-0.8.2-py3-none-any.whl (47 kB)\n",
            "\u001b[K     |████████████████████████████████| 47 kB 5.0 MB/s \n",
            "\u001b[?25hCollecting strawberry-graphql==0.96.0\n",
            "  Downloading strawberry_graphql-0.96.0-py3-none-any.whl (135 kB)\n",
            "\u001b[K     |████████████████████████████████| 135 kB 41.0 MB/s \n",
            "\u001b[?25hCollecting xmltodict\n",
            "  Downloading xmltodict-0.13.0-py2.py3-none-any.whl (10.0 kB)\n",
            "Requirement already satisfied: future in /usr/local/lib/python3.7/dist-packages (from fiftyone) (0.16.0)\n",
            "Collecting anyio<4,>=3.0.0\n",
            "  Downloading anyio-3.6.1-py3-none-any.whl (80 kB)\n",
            "\u001b[K     |████████████████████████████████| 80 kB 10.4 MB/s \n",
            "\u001b[?25hRequirement already satisfied: typing-extensions in /usr/local/lib/python3.7/dist-packages (from starlette==0.16.0->fiftyone) (4.2.0)\n",
            "Requirement already satisfied: click<9.0,>=7.0 in /usr/local/lib/python3.7/dist-packages (from strawberry-graphql==0.96.0->fiftyone) (7.1.2)\n",
            "Requirement already satisfied: python-dateutil<3.0.0,>=2.7.0 in /usr/local/lib/python3.7/dist-packages (from strawberry-graphql==0.96.0->fiftyone) (2.8.2)\n",
            "Collecting python-multipart<0.0.6,>=0.0.5\n",
            "  Downloading python-multipart-0.0.5.tar.gz (32 kB)\n",
            "Collecting sentinel<0.4.0,>=0.3.0\n",
            "  Downloading sentinel-0.3.0-py3-none-any.whl (6.0 kB)\n",
            "Requirement already satisfied: pygments<3.0,>=2.3 in /usr/local/lib/python3.7/dist-packages (from strawberry-graphql==0.96.0->fiftyone) (2.6.1)\n",
            "Collecting backports.cached-property<2.0.0,>=1.0.1\n",
            "  Downloading backports.cached_property-1.0.1-py3-none-any.whl (5.7 kB)\n",
            "Collecting graphql-core<3.2.0,>=3.1.0\n",
            "  Downloading graphql_core-3.1.7-py3-none-any.whl (189 kB)\n",
            "\u001b[K     |████████████████████████████████| 189 kB 45.8 MB/s \n",
            "\u001b[?25hRequirement already satisfied: idna>=2.8 in /usr/local/lib/python3.7/dist-packages (from anyio<4,>=3.0.0->starlette==0.16.0->fiftyone) (2.10)\n",
            "Collecting sniffio>=1.1\n",
            "  Downloading sniffio-1.2.0-py3-none-any.whl (10 kB)\n",
            "Requirement already satisfied: scipy>=1.2.0 in /usr/local/lib/python3.7/dist-packages (from fiftyone-brain<0.9,>=0.8->fiftyone) (1.4.1)\n",
            "Collecting h11\n",
            "  Downloading h11-0.13.0-py3-none-any.whl (58 kB)\n",
            "\u001b[K     |████████████████████████████████| 58 kB 6.2 MB/s \n",
            "\u001b[?25hCollecting wsproto>=0.14.0\n",
            "  Downloading wsproto-1.1.0-py3-none-any.whl (24 kB)\n",
            "Collecting toml\n",
            "  Downloading toml-0.10.2-py2.py3-none-any.whl (16 kB)\n",
            "Collecting priority\n",
            "  Downloading priority-2.0.0-py3-none-any.whl (8.9 kB)\n",
            "Collecting h2>=3.1.0\n",
            "  Downloading h2-4.1.0-py3-none-any.whl (57 kB)\n",
            "\u001b[K     |████████████████████████████████| 57 kB 6.0 MB/s \n",
            "\u001b[?25hCollecting hyperframe<7,>=6.0\n",
            "  Downloading hyperframe-6.0.1-py3-none-any.whl (12 kB)\n",
            "Collecting hpack<5,>=4.0\n",
            "  Downloading hpack-4.0.0-py3-none-any.whl (32 kB)\n",
            "Requirement already satisfied: MarkupSafe>=2.0 in /usr/local/lib/python3.7/dist-packages (from Jinja2>=3->fiftyone) (2.0.1)\n",
            "Requirement already satisfied: six in /usr/local/lib/python3.7/dist-packages (from plotly<5,>=4.14->fiftyone) (1.15.0)\n",
            "Collecting httpx>=0.10.0\n",
            "  Downloading httpx-0.23.0-py3-none-any.whl (84 kB)\n",
            "\u001b[K     |████████████████████████████████| 84 kB 4.0 MB/s \n",
            "\u001b[?25hCollecting httpcore<0.16.0,>=0.15.0\n",
            "  Downloading httpcore-0.15.0-py3-none-any.whl (68 kB)\n",
            "\u001b[K     |████████████████████████████████| 68 kB 7.8 MB/s \n",
            "\u001b[?25hCollecting rfc3986[idna2008]<2,>=1.3\n",
            "  Downloading rfc3986-1.5.0-py2.py3-none-any.whl (31 kB)\n",
            "Requirement already satisfied: certifi in /usr/local/lib/python3.7/dist-packages (from httpx>=0.10.0->universal-analytics-python3<2,>=1.0.1->fiftyone) (2022.5.18.1)\n",
            "Collecting h11\n",
            "  Downloading h11-0.12.0-py3-none-any.whl (54 kB)\n",
            "\u001b[K     |████████████████████████████████| 54 kB 3.8 MB/s \n",
            "\u001b[?25hRequirement already satisfied: requests in /usr/local/lib/python3.7/dist-packages (from voxel51-eta<0.8,>=0.7.0->fiftyone) (2.23.0)\n",
            "Collecting patool\n",
            "  Downloading patool-1.12-py2.py3-none-any.whl (77 kB)\n",
            "\u001b[K     |████████████████████████████████| 77 kB 6.6 MB/s \n",
            "\u001b[?25hRequirement already satisfied: urllib3 in /usr/local/lib/python3.7/dist-packages (from voxel51-eta<0.8,>=0.7.0->fiftyone) (1.24.3)\n",
            "Requirement already satisfied: glob2 in /usr/local/lib/python3.7/dist-packages (from voxel51-eta<0.8,>=0.7.0->fiftyone) (0.7)\n",
            "Requirement already satisfied: importlib-metadata in /usr/local/lib/python3.7/dist-packages (from voxel51-eta<0.8,>=0.7.0->fiftyone) (4.11.4)\n",
            "Requirement already satisfied: dill in /usr/local/lib/python3.7/dist-packages (from voxel51-eta<0.8,>=0.7.0->fiftyone) (0.3.5.1)\n",
            "Requirement already satisfied: tzlocal in /usr/local/lib/python3.7/dist-packages (from voxel51-eta<0.8,>=0.7.0->fiftyone) (1.5.1)\n",
            "Requirement already satisfied: sortedcontainers in /usr/local/lib/python3.7/dist-packages (from voxel51-eta<0.8,>=0.7.0->fiftyone) (2.4.0)\n",
            "Requirement already satisfied: zipp>=0.5 in /usr/local/lib/python3.7/dist-packages (from importlib-metadata->voxel51-eta<0.8,>=0.7.0->fiftyone) (3.8.0)\n",
            "Collecting s3transfer<0.7.0,>=0.6.0\n",
            "  Downloading s3transfer-0.6.0-py3-none-any.whl (79 kB)\n",
            "\u001b[K     |████████████████████████████████| 79 kB 9.9 MB/s \n",
            "\u001b[?25hCollecting jmespath<2.0.0,>=0.7.1\n",
            "  Downloading jmespath-1.0.0-py3-none-any.whl (23 kB)\n",
            "Collecting botocore<1.28.0,>=1.27.2\n",
            "  Downloading botocore-1.27.2-py3-none-any.whl (8.8 MB)\n",
            "\u001b[K     |████████████████████████████████| 8.8 MB 56.2 MB/s \n",
            "\u001b[?25hCollecting urllib3\n",
            "  Downloading urllib3-1.26.9-py2.py3-none-any.whl (138 kB)\n",
            "\u001b[K     |████████████████████████████████| 138 kB 69.6 MB/s \n",
            "\u001b[?25hRequirement already satisfied: wrapt<2,>=1.10 in /usr/local/lib/python3.7/dist-packages (from Deprecated->fiftyone) (1.14.1)\n",
            "Requirement already satisfied: greenlet>=0.3 in /usr/local/lib/python3.7/dist-packages (from eventlet->fiftyone) (1.1.2)\n",
            "Collecting dnspython>=1.15.0\n",
            "  Downloading dnspython-2.2.1-py3-none-any.whl (269 kB)\n",
            "\u001b[K     |████████████████████████████████| 269 kB 69.2 MB/s \n",
            "\u001b[?25hRequirement already satisfied: kiwisolver>=1.0.1 in /usr/local/lib/python3.7/dist-packages (from matplotlib->fiftyone) (1.4.2)\n",
            "Requirement already satisfied: pyparsing!=2.0.4,!=2.1.2,!=2.1.6,>=2.0.1 in /usr/local/lib/python3.7/dist-packages (from matplotlib->fiftyone) (3.0.9)\n",
            "Requirement already satisfied: cycler>=0.10 in /usr/local/lib/python3.7/dist-packages (from matplotlib->fiftyone) (0.11.0)\n",
            "Requirement already satisfied: chardet<4,>=3.0.2 in /usr/local/lib/python3.7/dist-packages (from requests->voxel51-eta<0.8,>=0.7.0->fiftyone) (3.0.4)\n",
            "Collecting urllib3\n",
            "  Downloading urllib3-1.25.11-py2.py3-none-any.whl (127 kB)\n",
            "\u001b[K     |████████████████████████████████| 127 kB 75.1 MB/s \n",
            "\u001b[?25hRequirement already satisfied: PyWavelets>=1.1.1 in /usr/local/lib/python3.7/dist-packages (from scikit-image->fiftyone) (1.3.0)\n",
            "Requirement already satisfied: imageio>=2.3.0 in /usr/local/lib/python3.7/dist-packages (from scikit-image->fiftyone) (2.4.1)\n",
            "Requirement already satisfied: tifffile>=2019.7.26 in /usr/local/lib/python3.7/dist-packages (from scikit-image->fiftyone) (2021.11.2)\n",
            "Requirement already satisfied: networkx>=2.0 in /usr/local/lib/python3.7/dist-packages (from scikit-image->fiftyone) (2.6.3)\n",
            "Requirement already satisfied: threadpoolctl>=2.0.0 in /usr/local/lib/python3.7/dist-packages (from scikit-learn->fiftyone) (3.1.0)\n",
            "Requirement already satisfied: joblib>=0.11 in /usr/local/lib/python3.7/dist-packages (from scikit-learn->fiftyone) (1.1.0)\n",
            "Building wheels for collected packages: python-multipart, retrying\n",
            "  Building wheel for python-multipart (setup.py) ... \u001b[?25l\u001b[?25hdone\n",
            "  Created wheel for python-multipart: filename=python_multipart-0.0.5-py3-none-any.whl size=31678 sha256=9767e045d52dbbc2954b60dad0cf0d2aed5c6a040ae15a74f3855a973802f429\n",
            "  Stored in directory: /root/.cache/pip/wheels/2c/41/7c/bfd1c180534ffdcc0972f78c5758f89881602175d48a8bcd2c\n",
            "  Building wheel for retrying (setup.py) ... \u001b[?25l\u001b[?25hdone\n",
            "  Created wheel for retrying: filename=retrying-1.3.3-py3-none-any.whl size=11447 sha256=65e08ee279eee3220ff00f0c34973aef9264096f4e9ccc22c5683c11536c7911\n",
            "  Stored in directory: /root/.cache/pip/wheels/f9/8d/8d/f6af3f7f9eea3553bc2fe6d53e4b287dad18b06a861ac56ddf\n",
            "Successfully built python-multipart retrying\n",
            "Installing collected packages: sniffio, urllib3, rfc3986, jmespath, h11, anyio, hyperframe, httpcore, hpack, botocore, wsproto, toml, starlette, sentinel, s3transfer, retrying, python-multipart, pymongo, priority, patool, ndjson, httpx, h2, graphql-core, dnspython, backports.cached-property, argcomplete, xmltodict, voxel51-eta, universal-analytics-python3, strawberry-graphql, sseclient-py, sse-starlette, pprintpp, plotly, motor, mongoengine, kaleido, hypercorn, fiftyone-db, fiftyone-brain, eventlet, Deprecated, dacite, boto3, aiofiles, fiftyone\n",
            "  Attempting uninstall: urllib3\n",
            "    Found existing installation: urllib3 1.24.3\n",
            "    Uninstalling urllib3-1.24.3:\n",
            "      Successfully uninstalled urllib3-1.24.3\n",
            "  Attempting uninstall: pymongo\n",
            "    Found existing installation: pymongo 4.1.1\n",
            "    Uninstalling pymongo-4.1.1:\n",
            "      Successfully uninstalled pymongo-4.1.1\n",
            "  Attempting uninstall: plotly\n",
            "    Found existing installation: plotly 5.5.0\n",
            "    Uninstalling plotly-5.5.0:\n",
            "      Successfully uninstalled plotly-5.5.0\n",
            "\u001b[31mERROR: pip's dependency resolver does not currently take into account all the packages that are installed. This behaviour is the source of the following dependency conflicts.\n",
            "datascience 0.10.6 requires folium==0.2.1, but you have folium 0.8.3 which is incompatible.\u001b[0m\n",
            "Successfully installed Deprecated-1.2.13 aiofiles-0.8.0 anyio-3.6.1 argcomplete-2.0.0 backports.cached-property-1.0.1 boto3-1.24.2 botocore-1.27.2 dacite-1.6.0 dnspython-2.2.1 eventlet-0.33.1 fiftyone-0.16.2 fiftyone-brain-0.8.2 fiftyone-db-0.3.0 graphql-core-3.1.7 h11-0.12.0 h2-4.1.0 hpack-4.0.0 httpcore-0.15.0 httpx-0.23.0 hypercorn-0.13.2 hyperframe-6.0.1 jmespath-1.0.0 kaleido-0.2.1 mongoengine-0.20.0 motor-2.5.1 ndjson-0.3.1 patool-1.12 plotly-4.14.3 pprintpp-0.4.0 priority-2.0.0 pymongo-3.12.3 python-multipart-0.0.5 retrying-1.3.3 rfc3986-1.5.0 s3transfer-0.6.0 sentinel-0.3.0 sniffio-1.2.0 sse-starlette-0.10.3 sseclient-py-1.7.2 starlette-0.16.0 strawberry-graphql-0.96.0 toml-0.10.2 universal-analytics-python3-1.1.1 urllib3-1.25.11 voxel51-eta-0.7.0 wsproto-1.1.0 xmltodict-0.13.0\n"
          ]
        }
      ],
      "source": [
        "!pip install -U Jinja2\n",
        "\n",
        "!pip install opencv-python-headless==4.1.2.30\n",
        "\n",
        "!pip install fiftyone"
      ]
    },
    {
      "cell_type": "code",
      "source": [
        "# Load the drive to access the images and annotations\n",
        "from google.colab import drive\n",
        "drive.mount('/content/gdrive')\n",
        "\n",
        "# reduce the path of the drive\n",
        "def driveSymboLink():\n",
        "  # this creates a symbolic link so that now the path /content/gdrive/My\\ Drive/ is equal to /mydrive\n",
        "  !ln -s /content/gdrive/My\\ Drive/ /mydrive\n",
        "  # !ls /mydrive\n",
        "\n",
        "driveSymboLink()"
      ],
      "metadata": {
        "colab": {
          "base_uri": "https://localhost:8080/"
        },
        "id": "_ZZvYbsefnqj",
        "outputId": "1885bf10-7d79-4729-a97a-6c0f0abac421"
      },
      "execution_count": 7,
      "outputs": [
        {
          "output_type": "stream",
          "name": "stdout",
          "text": [
            "Drive already mounted at /content/gdrive; to attempt to forcibly remount, call drive.mount(\"/content/gdrive\", force_remount=True).\n"
          ]
        }
      ]
    },
    {
      "cell_type": "code",
      "source": [
        "# Add the path of the repo to locate utils\n",
        "import sys\n",
        "sys.path.append('/content/gdrive/MyDrive/MIDS/W210/Animal_Identification')\n",
        "\n",
        "# Import libraries\n",
        "import fiftyone as fo\n",
        "import os\n",
        "import numpy as np\n",
        "from utils.utils import create_yolov4_dataset\n",
        "from utils.utils import create_yolov5_dataset\n",
        "\n",
        "# Other libraries\n",
        "import pandas as pd\n",
        "import json\n",
        "import matplotlib.pyplot as plt\n",
        "%matplotlib inline\n"
      ],
      "metadata": {
        "colab": {
          "base_uri": "https://localhost:8080/"
        },
        "id": "Al5WspuMfysW",
        "outputId": "719fc311-3931-4987-e74b-19225deebf84"
      },
      "execution_count": 3,
      "outputs": [
        {
          "output_type": "stream",
          "name": "stdout",
          "text": [
            "NumExpr defaulting to 2 threads.\n",
            "Migrating database to v0.16.2\n"
          ]
        }
      ]
    },
    {
      "cell_type": "markdown",
      "source": [
        "Let's load the json file to get some info"
      ],
      "metadata": {
        "id": "EIUe8OE7D4Ql"
      }
    },
    {
      "cell_type": "code",
      "source": [
        "f = open(\"/content/gdrive/MyDrive/MIDS/W210/leopard.coco/annotations/instances_train2022.json\")\n",
        "\n",
        "data = json.load(f)\n",
        "\n"
      ],
      "metadata": {
        "id": "I4LGj-B_irwI"
      },
      "execution_count": 13,
      "outputs": []
    },
    {
      "cell_type": "code",
      "source": [
        "print(f\"Total annotations: {len(data['annotations'])}\")"
      ],
      "metadata": {
        "colab": {
          "base_uri": "https://localhost:8080/"
        },
        "id": "rPGXeum0FWH3",
        "outputId": "ffdf631b-8bb2-4ed8-c36b-ca6b5f953b9b"
      },
      "execution_count": 17,
      "outputs": [
        {
          "output_type": "stream",
          "name": "stdout",
          "text": [
            "Total annotations: 6825\n"
          ]
        }
      ]
    },
    {
      "cell_type": "markdown",
      "source": [
        "## Create a dataframe\n",
        "We must create two tables for annotations and image data, then we will join them."
      ],
      "metadata": {
        "id": "haX-BX8gBRG4"
      }
    },
    {
      "cell_type": "code",
      "source": [
        "dfA=pd.DataFrame(data['annotations'])\n",
        "dfImg=pd.DataFrame(data['images'])\n",
        "dfCat=pd.DataFrame(data['categories'])\n",
        "df = dfA.merge(dfImg, on='id', how='left')\n",
        "df.head()"
      ],
      "metadata": {
        "colab": {
          "base_uri": "https://localhost:8080/",
          "height": 560
        },
        "id": "HrPpznh4BQhE",
        "outputId": "42f264c1-0dd1-4b84-9264-a093a0339fb0"
      },
      "execution_count": 18,
      "outputs": [
        {
          "output_type": "execute_result",
          "data": {
            "text/plain": [
              "                                                bbox  theta viewpoint  \\\n",
              "0  [163.02083333333334, 411.9791666666667, 2161.4...    0.0     front   \n",
              "1  [448.43750000000006, 301.0416666666667, 1794.2...    0.0     front   \n",
              "2  [476.0416666666667, 628.6458333333334, 1743.75...    0.0     front   \n",
              "3  [206.77083333333334, 255.20833333333334, 2193....    0.0     front   \n",
              "4  [296.3541666666667, 633.8541666666667, 1947.91...    0.0      back   \n",
              "\n",
              "                                        segmentation       segmentation_bbox  \\\n",
              "0  [[163, 412, 2324, 412, 2324, 1649, 163, 1649, ...  [163, 412, 2161, 1237]   \n",
              "1  [[448, 301, 2243, 301, 2243, 1389, 448, 1389, ...  [448, 301, 1795, 1088]   \n",
              "2  [[476, 629, 2220, 629, 2220, 1755, 476, 1755, ...  [476, 629, 1744, 1126]   \n",
              "3  [[207, 255, 2400, 255, 2400, 1660, 207, 1660, ...  [207, 255, 2192, 1405]   \n",
              "4  [[296, 634, 2244, 634, 2244, 1593, 296, 1593, ...   [296, 634, 1948, 959]   \n",
              "\n",
              "      area  iscrowd  id  image_id  category_id  ...         file_name  \\\n",
              "0  2673157        0   1         1            0  ...  000000000001.jpg   \n",
              "1  1952960        0   2         2            0  ...  000000000002.jpg   \n",
              "2  1963744        0   3         3            0  ...  000000000003.jpg   \n",
              "3  3079760        0   4         4            0  ...  000000000004.jpg   \n",
              "4  1868132        0   5         5            0  ...  000000000005.jpg   \n",
              "\n",
              "  photographer  coco_url  height   width date_captured gps_lat_captured  \\\n",
              "0                   None  1800.0  2400.0          None             None   \n",
              "1                   None  1800.0  2400.0          None             None   \n",
              "2                   None  1800.0  2400.0          None             None   \n",
              "3                   None  1800.0  2400.0          None             None   \n",
              "4                   None  1800.0  2400.0          None             None   \n",
              "\n",
              "  gps_lon_captured  flickr_url                                uuid_y  \n",
              "0             None        None  2fcbcdb2-1683-77b4-0b41-b6a2edd56189  \n",
              "1             None        None  327506d7-98c5-3261-3266-aba10b0615c8  \n",
              "2             None        None  a4b978c8-9949-5804-e3c1-ebe8bc7637ea  \n",
              "3             None        None  c6f35b63-c6c2-d93c-6906-3ae895d0afce  \n",
              "4             None        None  f2e2c56e-8574-b294-4500-438f3cbe0b7f  \n",
              "\n",
              "[5 rows x 25 columns]"
            ],
            "text/html": [
              "\n",
              "  <div id=\"df-b8493466-ee25-491c-9b87-772bd854e095\">\n",
              "    <div class=\"colab-df-container\">\n",
              "      <div>\n",
              "<style scoped>\n",
              "    .dataframe tbody tr th:only-of-type {\n",
              "        vertical-align: middle;\n",
              "    }\n",
              "\n",
              "    .dataframe tbody tr th {\n",
              "        vertical-align: top;\n",
              "    }\n",
              "\n",
              "    .dataframe thead th {\n",
              "        text-align: right;\n",
              "    }\n",
              "</style>\n",
              "<table border=\"1\" class=\"dataframe\">\n",
              "  <thead>\n",
              "    <tr style=\"text-align: right;\">\n",
              "      <th></th>\n",
              "      <th>bbox</th>\n",
              "      <th>theta</th>\n",
              "      <th>viewpoint</th>\n",
              "      <th>segmentation</th>\n",
              "      <th>segmentation_bbox</th>\n",
              "      <th>area</th>\n",
              "      <th>iscrowd</th>\n",
              "      <th>id</th>\n",
              "      <th>image_id</th>\n",
              "      <th>category_id</th>\n",
              "      <th>...</th>\n",
              "      <th>file_name</th>\n",
              "      <th>photographer</th>\n",
              "      <th>coco_url</th>\n",
              "      <th>height</th>\n",
              "      <th>width</th>\n",
              "      <th>date_captured</th>\n",
              "      <th>gps_lat_captured</th>\n",
              "      <th>gps_lon_captured</th>\n",
              "      <th>flickr_url</th>\n",
              "      <th>uuid_y</th>\n",
              "    </tr>\n",
              "  </thead>\n",
              "  <tbody>\n",
              "    <tr>\n",
              "      <th>0</th>\n",
              "      <td>[163.02083333333334, 411.9791666666667, 2161.4...</td>\n",
              "      <td>0.0</td>\n",
              "      <td>front</td>\n",
              "      <td>[[163, 412, 2324, 412, 2324, 1649, 163, 1649, ...</td>\n",
              "      <td>[163, 412, 2161, 1237]</td>\n",
              "      <td>2673157</td>\n",
              "      <td>0</td>\n",
              "      <td>1</td>\n",
              "      <td>1</td>\n",
              "      <td>0</td>\n",
              "      <td>...</td>\n",
              "      <td>000000000001.jpg</td>\n",
              "      <td></td>\n",
              "      <td>None</td>\n",
              "      <td>1800.0</td>\n",
              "      <td>2400.0</td>\n",
              "      <td>None</td>\n",
              "      <td>None</td>\n",
              "      <td>None</td>\n",
              "      <td>None</td>\n",
              "      <td>2fcbcdb2-1683-77b4-0b41-b6a2edd56189</td>\n",
              "    </tr>\n",
              "    <tr>\n",
              "      <th>1</th>\n",
              "      <td>[448.43750000000006, 301.0416666666667, 1794.2...</td>\n",
              "      <td>0.0</td>\n",
              "      <td>front</td>\n",
              "      <td>[[448, 301, 2243, 301, 2243, 1389, 448, 1389, ...</td>\n",
              "      <td>[448, 301, 1795, 1088]</td>\n",
              "      <td>1952960</td>\n",
              "      <td>0</td>\n",
              "      <td>2</td>\n",
              "      <td>2</td>\n",
              "      <td>0</td>\n",
              "      <td>...</td>\n",
              "      <td>000000000002.jpg</td>\n",
              "      <td></td>\n",
              "      <td>None</td>\n",
              "      <td>1800.0</td>\n",
              "      <td>2400.0</td>\n",
              "      <td>None</td>\n",
              "      <td>None</td>\n",
              "      <td>None</td>\n",
              "      <td>None</td>\n",
              "      <td>327506d7-98c5-3261-3266-aba10b0615c8</td>\n",
              "    </tr>\n",
              "    <tr>\n",
              "      <th>2</th>\n",
              "      <td>[476.0416666666667, 628.6458333333334, 1743.75...</td>\n",
              "      <td>0.0</td>\n",
              "      <td>front</td>\n",
              "      <td>[[476, 629, 2220, 629, 2220, 1755, 476, 1755, ...</td>\n",
              "      <td>[476, 629, 1744, 1126]</td>\n",
              "      <td>1963744</td>\n",
              "      <td>0</td>\n",
              "      <td>3</td>\n",
              "      <td>3</td>\n",
              "      <td>0</td>\n",
              "      <td>...</td>\n",
              "      <td>000000000003.jpg</td>\n",
              "      <td></td>\n",
              "      <td>None</td>\n",
              "      <td>1800.0</td>\n",
              "      <td>2400.0</td>\n",
              "      <td>None</td>\n",
              "      <td>None</td>\n",
              "      <td>None</td>\n",
              "      <td>None</td>\n",
              "      <td>a4b978c8-9949-5804-e3c1-ebe8bc7637ea</td>\n",
              "    </tr>\n",
              "    <tr>\n",
              "      <th>3</th>\n",
              "      <td>[206.77083333333334, 255.20833333333334, 2193....</td>\n",
              "      <td>0.0</td>\n",
              "      <td>front</td>\n",
              "      <td>[[207, 255, 2400, 255, 2400, 1660, 207, 1660, ...</td>\n",
              "      <td>[207, 255, 2192, 1405]</td>\n",
              "      <td>3079760</td>\n",
              "      <td>0</td>\n",
              "      <td>4</td>\n",
              "      <td>4</td>\n",
              "      <td>0</td>\n",
              "      <td>...</td>\n",
              "      <td>000000000004.jpg</td>\n",
              "      <td></td>\n",
              "      <td>None</td>\n",
              "      <td>1800.0</td>\n",
              "      <td>2400.0</td>\n",
              "      <td>None</td>\n",
              "      <td>None</td>\n",
              "      <td>None</td>\n",
              "      <td>None</td>\n",
              "      <td>c6f35b63-c6c2-d93c-6906-3ae895d0afce</td>\n",
              "    </tr>\n",
              "    <tr>\n",
              "      <th>4</th>\n",
              "      <td>[296.3541666666667, 633.8541666666667, 1947.91...</td>\n",
              "      <td>0.0</td>\n",
              "      <td>back</td>\n",
              "      <td>[[296, 634, 2244, 634, 2244, 1593, 296, 1593, ...</td>\n",
              "      <td>[296, 634, 1948, 959]</td>\n",
              "      <td>1868132</td>\n",
              "      <td>0</td>\n",
              "      <td>5</td>\n",
              "      <td>5</td>\n",
              "      <td>0</td>\n",
              "      <td>...</td>\n",
              "      <td>000000000005.jpg</td>\n",
              "      <td></td>\n",
              "      <td>None</td>\n",
              "      <td>1800.0</td>\n",
              "      <td>2400.0</td>\n",
              "      <td>None</td>\n",
              "      <td>None</td>\n",
              "      <td>None</td>\n",
              "      <td>None</td>\n",
              "      <td>f2e2c56e-8574-b294-4500-438f3cbe0b7f</td>\n",
              "    </tr>\n",
              "  </tbody>\n",
              "</table>\n",
              "<p>5 rows × 25 columns</p>\n",
              "</div>\n",
              "      <button class=\"colab-df-convert\" onclick=\"convertToInteractive('df-b8493466-ee25-491c-9b87-772bd854e095')\"\n",
              "              title=\"Convert this dataframe to an interactive table.\"\n",
              "              style=\"display:none;\">\n",
              "        \n",
              "  <svg xmlns=\"http://www.w3.org/2000/svg\" height=\"24px\"viewBox=\"0 0 24 24\"\n",
              "       width=\"24px\">\n",
              "    <path d=\"M0 0h24v24H0V0z\" fill=\"none\"/>\n",
              "    <path d=\"M18.56 5.44l.94 2.06.94-2.06 2.06-.94-2.06-.94-.94-2.06-.94 2.06-2.06.94zm-11 1L8.5 8.5l.94-2.06 2.06-.94-2.06-.94L8.5 2.5l-.94 2.06-2.06.94zm10 10l.94 2.06.94-2.06 2.06-.94-2.06-.94-.94-2.06-.94 2.06-2.06.94z\"/><path d=\"M17.41 7.96l-1.37-1.37c-.4-.4-.92-.59-1.43-.59-.52 0-1.04.2-1.43.59L10.3 9.45l-7.72 7.72c-.78.78-.78 2.05 0 2.83L4 21.41c.39.39.9.59 1.41.59.51 0 1.02-.2 1.41-.59l7.78-7.78 2.81-2.81c.8-.78.8-2.07 0-2.86zM5.41 20L4 18.59l7.72-7.72 1.47 1.35L5.41 20z\"/>\n",
              "  </svg>\n",
              "      </button>\n",
              "      \n",
              "  <style>\n",
              "    .colab-df-container {\n",
              "      display:flex;\n",
              "      flex-wrap:wrap;\n",
              "      gap: 12px;\n",
              "    }\n",
              "\n",
              "    .colab-df-convert {\n",
              "      background-color: #E8F0FE;\n",
              "      border: none;\n",
              "      border-radius: 50%;\n",
              "      cursor: pointer;\n",
              "      display: none;\n",
              "      fill: #1967D2;\n",
              "      height: 32px;\n",
              "      padding: 0 0 0 0;\n",
              "      width: 32px;\n",
              "    }\n",
              "\n",
              "    .colab-df-convert:hover {\n",
              "      background-color: #E2EBFA;\n",
              "      box-shadow: 0px 1px 2px rgba(60, 64, 67, 0.3), 0px 1px 3px 1px rgba(60, 64, 67, 0.15);\n",
              "      fill: #174EA6;\n",
              "    }\n",
              "\n",
              "    [theme=dark] .colab-df-convert {\n",
              "      background-color: #3B4455;\n",
              "      fill: #D2E3FC;\n",
              "    }\n",
              "\n",
              "    [theme=dark] .colab-df-convert:hover {\n",
              "      background-color: #434B5C;\n",
              "      box-shadow: 0px 1px 3px 1px rgba(0, 0, 0, 0.15);\n",
              "      filter: drop-shadow(0px 1px 2px rgba(0, 0, 0, 0.3));\n",
              "      fill: #FFFFFF;\n",
              "    }\n",
              "  </style>\n",
              "\n",
              "      <script>\n",
              "        const buttonEl =\n",
              "          document.querySelector('#df-b8493466-ee25-491c-9b87-772bd854e095 button.colab-df-convert');\n",
              "        buttonEl.style.display =\n",
              "          google.colab.kernel.accessAllowed ? 'block' : 'none';\n",
              "\n",
              "        async function convertToInteractive(key) {\n",
              "          const element = document.querySelector('#df-b8493466-ee25-491c-9b87-772bd854e095');\n",
              "          const dataTable =\n",
              "            await google.colab.kernel.invokeFunction('convertToInteractive',\n",
              "                                                     [key], {});\n",
              "          if (!dataTable) return;\n",
              "\n",
              "          const docLinkHtml = 'Like what you see? Visit the ' +\n",
              "            '<a target=\"_blank\" href=https://colab.research.google.com/notebooks/data_table.ipynb>data table notebook</a>'\n",
              "            + ' to learn more about interactive tables.';\n",
              "          element.innerHTML = '';\n",
              "          dataTable['output_type'] = 'display_data';\n",
              "          await google.colab.output.renderOutput(dataTable, element);\n",
              "          const docLink = document.createElement('div');\n",
              "          docLink.innerHTML = docLinkHtml;\n",
              "          element.appendChild(docLink);\n",
              "        }\n",
              "      </script>\n",
              "    </div>\n",
              "  </div>\n",
              "  "
            ]
          },
          "metadata": {},
          "execution_count": 18
        }
      ]
    },
    {
      "cell_type": "markdown",
      "source": [
        "## Missing data\n"
      ],
      "metadata": {
        "id": "Hbk1_R6IBk8_"
      }
    },
    {
      "cell_type": "code",
      "source": [
        "df.describe()"
      ],
      "metadata": {
        "colab": {
          "base_uri": "https://localhost:8080/",
          "height": 300
        },
        "id": "1s4J0qZRBrNF",
        "outputId": "88da91b4-0c18-485c-b316-06529b407396"
      },
      "execution_count": 19,
      "outputs": [
        {
          "output_type": "execute_result",
          "data": {
            "text/plain": [
              "        theta          area  iscrowd           id     image_id  category_id  \\\n",
              "count  6825.0  6.825000e+03   6825.0  6825.000000  6825.000000       6825.0   \n",
              "mean      0.0  1.089760e+06      0.0  3413.000000  3403.054799          0.0   \n",
              "std       0.0  1.082309e+06      0.0  1970.352126  1964.406726          0.0   \n",
              "min       0.0  1.027200e+04      0.0     1.000000     1.000000          0.0   \n",
              "25%       0.0  3.277620e+05      0.0  1707.000000  1703.000000          0.0   \n",
              "50%       0.0  6.460000e+05      0.0  3413.000000  3400.000000          0.0   \n",
              "75%       0.0  1.514739e+06      0.0  5119.000000  5105.000000          0.0   \n",
              "max       0.0  5.365900e+06      0.0  6825.000000  6795.000000          0.0   \n",
              "\n",
              "       isinterest  license       height       width  \n",
              "count      6825.0   6795.0  6795.000000  6795.00000  \n",
              "mean          0.0      3.0  1659.037675  2389.24312  \n",
              "std           0.0      0.0   232.864266    96.52857  \n",
              "min           0.0      3.0   741.000000   761.00000  \n",
              "25%           0.0      3.0  1399.500000  2400.00000  \n",
              "50%           0.0      3.0  1800.000000  2400.00000  \n",
              "75%           0.0      3.0  1800.000000  2400.00000  \n",
              "max           0.0      3.0  2400.000000  2400.00000  "
            ],
            "text/html": [
              "\n",
              "  <div id=\"df-ce2b4d75-762d-45b3-be77-cfb32bb80fbd\">\n",
              "    <div class=\"colab-df-container\">\n",
              "      <div>\n",
              "<style scoped>\n",
              "    .dataframe tbody tr th:only-of-type {\n",
              "        vertical-align: middle;\n",
              "    }\n",
              "\n",
              "    .dataframe tbody tr th {\n",
              "        vertical-align: top;\n",
              "    }\n",
              "\n",
              "    .dataframe thead th {\n",
              "        text-align: right;\n",
              "    }\n",
              "</style>\n",
              "<table border=\"1\" class=\"dataframe\">\n",
              "  <thead>\n",
              "    <tr style=\"text-align: right;\">\n",
              "      <th></th>\n",
              "      <th>theta</th>\n",
              "      <th>area</th>\n",
              "      <th>iscrowd</th>\n",
              "      <th>id</th>\n",
              "      <th>image_id</th>\n",
              "      <th>category_id</th>\n",
              "      <th>isinterest</th>\n",
              "      <th>license</th>\n",
              "      <th>height</th>\n",
              "      <th>width</th>\n",
              "    </tr>\n",
              "  </thead>\n",
              "  <tbody>\n",
              "    <tr>\n",
              "      <th>count</th>\n",
              "      <td>6825.0</td>\n",
              "      <td>6.825000e+03</td>\n",
              "      <td>6825.0</td>\n",
              "      <td>6825.000000</td>\n",
              "      <td>6825.000000</td>\n",
              "      <td>6825.0</td>\n",
              "      <td>6825.0</td>\n",
              "      <td>6795.0</td>\n",
              "      <td>6795.000000</td>\n",
              "      <td>6795.00000</td>\n",
              "    </tr>\n",
              "    <tr>\n",
              "      <th>mean</th>\n",
              "      <td>0.0</td>\n",
              "      <td>1.089760e+06</td>\n",
              "      <td>0.0</td>\n",
              "      <td>3413.000000</td>\n",
              "      <td>3403.054799</td>\n",
              "      <td>0.0</td>\n",
              "      <td>0.0</td>\n",
              "      <td>3.0</td>\n",
              "      <td>1659.037675</td>\n",
              "      <td>2389.24312</td>\n",
              "    </tr>\n",
              "    <tr>\n",
              "      <th>std</th>\n",
              "      <td>0.0</td>\n",
              "      <td>1.082309e+06</td>\n",
              "      <td>0.0</td>\n",
              "      <td>1970.352126</td>\n",
              "      <td>1964.406726</td>\n",
              "      <td>0.0</td>\n",
              "      <td>0.0</td>\n",
              "      <td>0.0</td>\n",
              "      <td>232.864266</td>\n",
              "      <td>96.52857</td>\n",
              "    </tr>\n",
              "    <tr>\n",
              "      <th>min</th>\n",
              "      <td>0.0</td>\n",
              "      <td>1.027200e+04</td>\n",
              "      <td>0.0</td>\n",
              "      <td>1.000000</td>\n",
              "      <td>1.000000</td>\n",
              "      <td>0.0</td>\n",
              "      <td>0.0</td>\n",
              "      <td>3.0</td>\n",
              "      <td>741.000000</td>\n",
              "      <td>761.00000</td>\n",
              "    </tr>\n",
              "    <tr>\n",
              "      <th>25%</th>\n",
              "      <td>0.0</td>\n",
              "      <td>3.277620e+05</td>\n",
              "      <td>0.0</td>\n",
              "      <td>1707.000000</td>\n",
              "      <td>1703.000000</td>\n",
              "      <td>0.0</td>\n",
              "      <td>0.0</td>\n",
              "      <td>3.0</td>\n",
              "      <td>1399.500000</td>\n",
              "      <td>2400.00000</td>\n",
              "    </tr>\n",
              "    <tr>\n",
              "      <th>50%</th>\n",
              "      <td>0.0</td>\n",
              "      <td>6.460000e+05</td>\n",
              "      <td>0.0</td>\n",
              "      <td>3413.000000</td>\n",
              "      <td>3400.000000</td>\n",
              "      <td>0.0</td>\n",
              "      <td>0.0</td>\n",
              "      <td>3.0</td>\n",
              "      <td>1800.000000</td>\n",
              "      <td>2400.00000</td>\n",
              "    </tr>\n",
              "    <tr>\n",
              "      <th>75%</th>\n",
              "      <td>0.0</td>\n",
              "      <td>1.514739e+06</td>\n",
              "      <td>0.0</td>\n",
              "      <td>5119.000000</td>\n",
              "      <td>5105.000000</td>\n",
              "      <td>0.0</td>\n",
              "      <td>0.0</td>\n",
              "      <td>3.0</td>\n",
              "      <td>1800.000000</td>\n",
              "      <td>2400.00000</td>\n",
              "    </tr>\n",
              "    <tr>\n",
              "      <th>max</th>\n",
              "      <td>0.0</td>\n",
              "      <td>5.365900e+06</td>\n",
              "      <td>0.0</td>\n",
              "      <td>6825.000000</td>\n",
              "      <td>6795.000000</td>\n",
              "      <td>0.0</td>\n",
              "      <td>0.0</td>\n",
              "      <td>3.0</td>\n",
              "      <td>2400.000000</td>\n",
              "      <td>2400.00000</td>\n",
              "    </tr>\n",
              "  </tbody>\n",
              "</table>\n",
              "</div>\n",
              "      <button class=\"colab-df-convert\" onclick=\"convertToInteractive('df-ce2b4d75-762d-45b3-be77-cfb32bb80fbd')\"\n",
              "              title=\"Convert this dataframe to an interactive table.\"\n",
              "              style=\"display:none;\">\n",
              "        \n",
              "  <svg xmlns=\"http://www.w3.org/2000/svg\" height=\"24px\"viewBox=\"0 0 24 24\"\n",
              "       width=\"24px\">\n",
              "    <path d=\"M0 0h24v24H0V0z\" fill=\"none\"/>\n",
              "    <path d=\"M18.56 5.44l.94 2.06.94-2.06 2.06-.94-2.06-.94-.94-2.06-.94 2.06-2.06.94zm-11 1L8.5 8.5l.94-2.06 2.06-.94-2.06-.94L8.5 2.5l-.94 2.06-2.06.94zm10 10l.94 2.06.94-2.06 2.06-.94-2.06-.94-.94-2.06-.94 2.06-2.06.94z\"/><path d=\"M17.41 7.96l-1.37-1.37c-.4-.4-.92-.59-1.43-.59-.52 0-1.04.2-1.43.59L10.3 9.45l-7.72 7.72c-.78.78-.78 2.05 0 2.83L4 21.41c.39.39.9.59 1.41.59.51 0 1.02-.2 1.41-.59l7.78-7.78 2.81-2.81c.8-.78.8-2.07 0-2.86zM5.41 20L4 18.59l7.72-7.72 1.47 1.35L5.41 20z\"/>\n",
              "  </svg>\n",
              "      </button>\n",
              "      \n",
              "  <style>\n",
              "    .colab-df-container {\n",
              "      display:flex;\n",
              "      flex-wrap:wrap;\n",
              "      gap: 12px;\n",
              "    }\n",
              "\n",
              "    .colab-df-convert {\n",
              "      background-color: #E8F0FE;\n",
              "      border: none;\n",
              "      border-radius: 50%;\n",
              "      cursor: pointer;\n",
              "      display: none;\n",
              "      fill: #1967D2;\n",
              "      height: 32px;\n",
              "      padding: 0 0 0 0;\n",
              "      width: 32px;\n",
              "    }\n",
              "\n",
              "    .colab-df-convert:hover {\n",
              "      background-color: #E2EBFA;\n",
              "      box-shadow: 0px 1px 2px rgba(60, 64, 67, 0.3), 0px 1px 3px 1px rgba(60, 64, 67, 0.15);\n",
              "      fill: #174EA6;\n",
              "    }\n",
              "\n",
              "    [theme=dark] .colab-df-convert {\n",
              "      background-color: #3B4455;\n",
              "      fill: #D2E3FC;\n",
              "    }\n",
              "\n",
              "    [theme=dark] .colab-df-convert:hover {\n",
              "      background-color: #434B5C;\n",
              "      box-shadow: 0px 1px 3px 1px rgba(0, 0, 0, 0.15);\n",
              "      filter: drop-shadow(0px 1px 2px rgba(0, 0, 0, 0.3));\n",
              "      fill: #FFFFFF;\n",
              "    }\n",
              "  </style>\n",
              "\n",
              "      <script>\n",
              "        const buttonEl =\n",
              "          document.querySelector('#df-ce2b4d75-762d-45b3-be77-cfb32bb80fbd button.colab-df-convert');\n",
              "        buttonEl.style.display =\n",
              "          google.colab.kernel.accessAllowed ? 'block' : 'none';\n",
              "\n",
              "        async function convertToInteractive(key) {\n",
              "          const element = document.querySelector('#df-ce2b4d75-762d-45b3-be77-cfb32bb80fbd');\n",
              "          const dataTable =\n",
              "            await google.colab.kernel.invokeFunction('convertToInteractive',\n",
              "                                                     [key], {});\n",
              "          if (!dataTable) return;\n",
              "\n",
              "          const docLinkHtml = 'Like what you see? Visit the ' +\n",
              "            '<a target=\"_blank\" href=https://colab.research.google.com/notebooks/data_table.ipynb>data table notebook</a>'\n",
              "            + ' to learn more about interactive tables.';\n",
              "          element.innerHTML = '';\n",
              "          dataTable['output_type'] = 'display_data';\n",
              "          await google.colab.output.renderOutput(dataTable, element);\n",
              "          const docLink = document.createElement('div');\n",
              "          docLink.innerHTML = docLinkHtml;\n",
              "          element.appendChild(docLink);\n",
              "        }\n",
              "      </script>\n",
              "    </div>\n",
              "  </div>\n",
              "  "
            ]
          },
          "metadata": {},
          "execution_count": 19
        }
      ]
    },
    {
      "cell_type": "markdown",
      "source": [
        "# How many different individual leopards are in the images?\n",
        "We know that the name is a unique identifier, so by checking how many times is repeated in the annotations we can deduct the total number of leopards."
      ],
      "metadata": {
        "id": "5_6j7pKQjBl3"
      }
    },
    {
      "cell_type": "code",
      "source": [
        "individuals={}\n",
        "leopards=0\n",
        "for record in data['annotations']:\n",
        "  if record['name'] not in individuals:\n",
        "    # print(\"Adding name\")\n",
        "    individuals.update(\n",
        "        {record['name']:{\n",
        "        'count':0, \n",
        "        'left':0, \n",
        "        'right':0, \n",
        "        'front':0, \n",
        "        'back':0, \n",
        "        'none':0,\n",
        "        'down':0}\n",
        "        })\n",
        "    leopards+=1\n",
        "  individuals[record['name']]['count'] +=1\n",
        "\n",
        "  if record['viewpoint']==None:\n",
        "     individuals[record['name']]['none'] +=1\n",
        "  else:\n",
        "     individuals[record['name']][record['viewpoint']] +=1\n",
        "\n",
        "print(individuals)\n",
        "print(leopards)"
      ],
      "metadata": {
        "colab": {
          "base_uri": "https://localhost:8080/"
        },
        "id": "nWdz__9Di2yX",
        "outputId": "fa1ab6c9-7e07-4eb5-89de-117416180721"
      },
      "execution_count": 20,
      "outputs": [
        {
          "output_type": "stream",
          "name": "stdout",
          "text": [
            "{'9ec659d2-2183-4f55-8882-1fe87e13d5f4': {'count': 298, 'left': 62, 'right': 80, 'front': 77, 'back': 57, 'none': 8, 'down': 14}, 'e19c3dc4-0122-4c0a-be99-fbdb3e4741ef': {'count': 120, 'left': 48, 'right': 37, 'front': 9, 'back': 13, 'none': 8, 'down': 5}, 'b29befd8-9bbb-4306-aacc-01ed8573810a': {'count': 4, 'left': 3, 'right': 1, 'front': 0, 'back': 0, 'none': 0, 'down': 0}, '2039c9dc-9b2d-41c0-9ffd-4bd5297813ed': {'count': 48, 'left': 11, 'right': 17, 'front': 11, 'back': 6, 'none': 0, 'down': 3}, 'ad886592-f2e1-4a83-84dd-aa9ca3b8763c': {'count': 40, 'left': 12, 'right': 15, 'front': 0, 'back': 13, 'none': 0, 'down': 0}, '39643a79-975c-45eb-9ca0-3cb835fa9145': {'count': 12, 'left': 8, 'right': 1, 'front': 2, 'back': 1, 'none': 0, 'down': 0}, 'f9fd85b1-e3bb-45a3-9cb4-06f0c04ec8c2': {'count': 9, 'left': 0, 'right': 5, 'front': 4, 'back': 0, 'none': 0, 'down': 0}, '1eec726a-99dd-403e-9cbb-aa4428fa3cf6': {'count': 43, 'left': 6, 'right': 24, 'front': 1, 'back': 8, 'none': 0, 'down': 4}, 'fe41dc85-e196-4e03-9cd2-156a49feaac4': {'count': 10, 'left': 8, 'right': 2, 'front': 0, 'back': 0, 'none': 0, 'down': 0}, '1662812e-a722-4e7c-b0e5-1a60da1775b4': {'count': 12, 'left': 0, 'right': 10, 'front': 2, 'back': 0, 'none': 0, 'down': 0}, '1e869eda-07c6-4f08-a932-d9a04c207dbf': {'count': 22, 'left': 4, 'right': 7, 'front': 10, 'back': 1, 'none': 0, 'down': 0}, '47f3f548-3392-42c2-82d9-2637301a2061': {'count': 14, 'left': 5, 'right': 5, 'front': 2, 'back': 1, 'none': 0, 'down': 1}, '8e37baa5-c486-4056-9db8-5d00863406bc': {'count': 395, 'left': 77, 'right': 85, 'front': 120, 'back': 56, 'none': 1, 'down': 56}, 'a9006d2d-1e9e-43c3-b6df-3762a504995f': {'count': 74, 'left': 28, 'right': 32, 'front': 7, 'back': 1, 'none': 1, 'down': 5}, '8ec2a1cc-fac7-4b7e-bcb0-4ce4d03be451': {'count': 92, 'left': 29, 'right': 28, 'front': 25, 'back': 5, 'none': 1, 'down': 4}, 'a566ddcd-8bf8-4f8e-9a61-f434b01b0799': {'count': 275, 'left': 32, 'right': 80, 'front': 73, 'back': 69, 'none': 4, 'down': 17}, 'e91455e2-1c59-4e24-ae02-de0cccf6c9eb': {'count': 7, 'left': 2, 'right': 3, 'front': 2, 'back': 0, 'none': 0, 'down': 0}, 'e9ffb750-5aa3-48e8-9390-3dfa1c2ae629': {'count': 11, 'left': 2, 'right': 5, 'front': 3, 'back': 1, 'none': 0, 'down': 0}, '____': {'count': 19, 'left': 4, 'right': 3, 'front': 0, 'back': 5, 'none': 7, 'down': 0}, 'd2fe7415-883d-4fac-9509-a5c3bf48393d': {'count': 21, 'left': 6, 'right': 6, 'front': 5, 'back': 3, 'none': 0, 'down': 1}, '089a4176-f8f9-42b7-82c3-3e3933c0f91f': {'count': 2, 'left': 1, 'right': 1, 'front': 0, 'back': 0, 'none': 0, 'down': 0}, '6884b482-7e06-461c-ab3e-42e3ac27511f': {'count': 6, 'left': 3, 'right': 2, 'front': 1, 'back': 0, 'none': 0, 'down': 0}, '96372678-43c8-42fd-b929-11dc9ba6f4e9': {'count': 6, 'left': 1, 'right': 5, 'front': 0, 'back': 0, 'none': 0, 'down': 0}, '72d1db85-7b88-402f-9326-29fb6f692dda': {'count': 19, 'left': 5, 'right': 4, 'front': 4, 'back': 6, 'none': 0, 'down': 0}, 'a9ef8555-2ebc-4345-b021-5082ffebdcb7': {'count': 8, 'left': 0, 'right': 0, 'front': 8, 'back': 0, 'none': 0, 'down': 0}, 'd01218f6-d32d-458a-8c08-6aca4c069869': {'count': 5, 'left': 1, 'right': 2, 'front': 2, 'back': 0, 'none': 0, 'down': 0}, '18ffc687-a6fc-4f53-b226-72eaf7f66ccc': {'count': 264, 'left': 90, 'right': 51, 'front': 60, 'back': 40, 'none': 4, 'down': 19}, '16ba6dc5-6ea0-47df-b912-53660db9e8cd': {'count': 28, 'left': 13, 'right': 9, 'front': 2, 'back': 2, 'none': 2, 'down': 0}, 'a2d573ca-efe0-4a20-b650-0926b14f1b5f': {'count': 2, 'left': 0, 'right': 1, 'front': 1, 'back': 0, 'none': 0, 'down': 0}, '7dde1f68-6041-4c1c-b735-5525b69f50ac': {'count': 22, 'left': 3, 'right': 3, 'front': 2, 'back': 14, 'none': 0, 'down': 0}, '0a0fe49c-6bc4-4a7f-acba-299be4dc3ca3': {'count': 18, 'left': 4, 'right': 6, 'front': 6, 'back': 2, 'none': 0, 'down': 0}, '48db559b-abfd-40fd-aa06-33f0e16c7423': {'count': 8, 'left': 1, 'right': 3, 'front': 3, 'back': 1, 'none': 0, 'down': 0}, 'b3cadf4e-6dc5-4d1a-bc0e-adc6805d9329': {'count': 5, 'left': 1, 'right': 0, 'front': 4, 'back': 0, 'none': 0, 'down': 0}, '81ad30d8-15c7-492e-918b-d9592d8f3f08': {'count': 232, 'left': 31, 'right': 96, 'front': 17, 'back': 32, 'none': 5, 'down': 51}, '29c88755-3609-47c8-81f1-d48ee826fc5e': {'count': 8, 'left': 2, 'right': 3, 'front': 0, 'back': 2, 'none': 1, 'down': 0}, '4b50b981-92fe-4e4f-8a00-3333efe792dd': {'count': 22, 'left': 12, 'right': 9, 'front': 1, 'back': 0, 'none': 0, 'down': 0}, '8a3563e1-e39f-4158-b4c5-3c7685f09bcb': {'count': 25, 'left': 6, 'right': 6, 'front': 5, 'back': 6, 'none': 2, 'down': 0}, '73ad3a4b-9195-48d4-804f-b1fd9df95790': {'count': 7, 'left': 4, 'right': 2, 'front': 0, 'back': 0, 'none': 1, 'down': 0}, 'f6195900-8fc6-4d89-a37c-f82a956d1086': {'count': 14, 'left': 7, 'right': 6, 'front': 1, 'back': 0, 'none': 0, 'down': 0}, 'ffc0fac2-c289-42d1-bb41-fbee88f942e4': {'count': 28, 'left': 10, 'right': 13, 'front': 1, 'back': 2, 'none': 2, 'down': 0}, '155a7289-83a9-45ca-933a-07460d4d48c3': {'count': 1, 'left': 1, 'right': 0, 'front': 0, 'back': 0, 'none': 0, 'down': 0}, '2fa78422-17ff-4e2f-9df0-9d2a1859c797': {'count': 20, 'left': 9, 'right': 5, 'front': 0, 'back': 2, 'none': 4, 'down': 0}, '3c117ea9-d8d2-4e41-b65a-317eea4d7650': {'count': 11, 'left': 5, 'right': 2, 'front': 3, 'back': 0, 'none': 1, 'down': 0}, 'e7df3972-704f-4f72-8417-cdd69dc52677': {'count': 3, 'left': 0, 'right': 2, 'front': 0, 'back': 0, 'none': 1, 'down': 0}, '09ddb320-0c6a-41c0-9f77-026e03dc8f81': {'count': 14, 'left': 3, 'right': 6, 'front': 1, 'back': 1, 'none': 3, 'down': 0}, '5f75d79d-1835-4da2-89e4-38f85c40cd34': {'count': 2, 'left': 2, 'right': 0, 'front': 0, 'back': 0, 'none': 0, 'down': 0}, '91f775df-2177-4ffa-90b6-f5a6a803963f': {'count': 1, 'left': 0, 'right': 1, 'front': 0, 'back': 0, 'none': 0, 'down': 0}, '079df424-a265-4af9-8a6f-66d2709af3e7': {'count': 4, 'left': 1, 'right': 2, 'front': 0, 'back': 1, 'none': 0, 'down': 0}, '72976e23-cf84-45cc-91bd-ab23f608c4d2': {'count': 5, 'left': 2, 'right': 3, 'front': 0, 'back': 0, 'none': 0, 'down': 0}, '84a2c56b-d51a-4883-8fde-33a11004fffc': {'count': 34, 'left': 11, 'right': 13, 'front': 0, 'back': 4, 'none': 6, 'down': 0}, '2fde65e4-96f3-4f4e-9cbd-807ccd3bf353': {'count': 2, 'left': 1, 'right': 1, 'front': 0, 'back': 0, 'none': 0, 'down': 0}, 'acf48be9-1b25-40c0-9c5f-5218ba5c3920': {'count': 10, 'left': 1, 'right': 4, 'front': 1, 'back': 4, 'none': 0, 'down': 0}, '98fef1c4-6ee8-4045-a782-bc833b43ea44': {'count': 2, 'left': 1, 'right': 0, 'front': 0, 'back': 1, 'none': 0, 'down': 0}, '81224356-83ce-49ab-b20d-e2c0d0edde27': {'count': 6, 'left': 3, 'right': 3, 'front': 0, 'back': 0, 'none': 0, 'down': 0}, 'adecac15-4317-4127-8654-f465fef8e733': {'count': 10, 'left': 3, 'right': 5, 'front': 1, 'back': 0, 'none': 1, 'down': 0}, '3cf1095b-0ea1-427c-89a8-1c34bbf104c1': {'count': 4, 'left': 2, 'right': 2, 'front': 0, 'back': 0, 'none': 0, 'down': 0}, 'd5a52fb1-ccd4-442c-a94d-54b264f77535': {'count': 4, 'left': 2, 'right': 2, 'front': 0, 'back': 0, 'none': 0, 'down': 0}, 'a0d7ff43-7153-4c0d-b010-5c28a9172c9e': {'count': 19, 'left': 3, 'right': 7, 'front': 3, 'back': 6, 'none': 0, 'down': 0}, '63b9cd1a-b09e-4b31-87cb-25957569c4c8': {'count': 11, 'left': 5, 'right': 6, 'front': 0, 'back': 0, 'none': 0, 'down': 0}, '5f3d29d1-e599-4676-8691-a593d3ba6f24': {'count': 2, 'left': 1, 'right': 0, 'front': 0, 'back': 1, 'none': 0, 'down': 0}, '38ffb7aa-3bd4-4e81-a293-8de67b50369c': {'count': 4, 'left': 0, 'right': 0, 'front': 3, 'back': 0, 'none': 1, 'down': 0}, '277d5b22-d689-48fc-9d02-ba9a3a39b322': {'count': 7, 'left': 3, 'right': 4, 'front': 0, 'back': 0, 'none': 0, 'down': 0}, '09cbe21a-f820-4db4-a314-cb3cc7fa17ff': {'count': 6, 'left': 4, 'right': 2, 'front': 0, 'back': 0, 'none': 0, 'down': 0}, '3c375f5a-0894-41a5-8af0-0e20ce760368': {'count': 18, 'left': 8, 'right': 7, 'front': 2, 'back': 0, 'none': 1, 'down': 0}, '001e71df-ed06-43b6-bfdc-6beac644b1de': {'count': 14, 'left': 8, 'right': 6, 'front': 0, 'back': 0, 'none': 0, 'down': 0}, 'f9f79350-ddae-4912-8e6a-d64e883ee17e': {'count': 3, 'left': 1, 'right': 1, 'front': 0, 'back': 1, 'none': 0, 'down': 0}, 'fed7544d-1138-4fde-91c2-ba323015fc64': {'count': 5, 'left': 3, 'right': 2, 'front': 0, 'back': 0, 'none': 0, 'down': 0}, '71705fda-1707-41ad-94fc-7b888d6354be': {'count': 3, 'left': 1, 'right': 1, 'front': 0, 'back': 1, 'none': 0, 'down': 0}, 'a8ef3b7e-9421-44b9-9da8-c9a74218a517': {'count': 3, 'left': 2, 'right': 1, 'front': 0, 'back': 0, 'none': 0, 'down': 0}, '19d388ba-111f-4b95-8b39-de07c9423b2d': {'count': 9, 'left': 1, 'right': 7, 'front': 1, 'back': 0, 'none': 0, 'down': 0}, '722b8c92-6bd8-4224-9079-332dbcab2e48': {'count': 6, 'left': 2, 'right': 3, 'front': 1, 'back': 0, 'none': 0, 'down': 0}, 'ba8ce8ba-6311-4250-95dd-5e5efa32ebd0': {'count': 23, 'left': 9, 'right': 5, 'front': 3, 'back': 3, 'none': 1, 'down': 2}, 'fc628bad-d8ce-4915-9cf1-29835d930e7c': {'count': 3, 'left': 0, 'right': 0, 'front': 1, 'back': 1, 'none': 1, 'down': 0}, 'c7fa3bc1-65ee-4028-86a7-a64b841d5dba': {'count': 10, 'left': 2, 'right': 3, 'front': 2, 'back': 1, 'none': 1, 'down': 1}, 'c3799f7d-5ba9-4266-beff-1cb38febbc86': {'count': 13, 'left': 0, 'right': 3, 'front': 6, 'back': 2, 'none': 1, 'down': 1}, 'ef22f161-9923-4e3a-adc5-d315576c157c': {'count': 5, 'left': 2, 'right': 0, 'front': 1, 'back': 2, 'none': 0, 'down': 0}, '888afda0-3b59-4117-a89f-d310da66032b': {'count': 52, 'left': 21, 'right': 24, 'front': 0, 'back': 7, 'none': 0, 'down': 0}, '8aeb0450-bd20-4521-8282-5b5703c348c4': {'count': 10, 'left': 4, 'right': 6, 'front': 0, 'back': 0, 'none': 0, 'down': 0}, '53378f50-0422-449b-8599-b47aba592476': {'count': 10, 'left': 3, 'right': 6, 'front': 1, 'back': 0, 'none': 0, 'down': 0}, '36463c1d-cc84-450e-aece-73613ae5c97b': {'count': 13, 'left': 6, 'right': 7, 'front': 0, 'back': 0, 'none': 0, 'down': 0}, 'f266e031-2645-45c5-bbb9-047797e37a4a': {'count': 10, 'left': 5, 'right': 5, 'front': 0, 'back': 0, 'none': 0, 'down': 0}, '1c938299-6ff9-4d8b-aaeb-4f8d372093c2': {'count': 19, 'left': 6, 'right': 12, 'front': 0, 'back': 1, 'none': 0, 'down': 0}, '8f0e6106-f58a-48c0-be8f-e300ba913c01': {'count': 8, 'left': 2, 'right': 6, 'front': 0, 'back': 0, 'none': 0, 'down': 0}, 'c300d862-2aba-42a1-8bb7-f992e1ea9dbd': {'count': 15, 'left': 10, 'right': 5, 'front': 0, 'back': 0, 'none': 0, 'down': 0}, '8a471b0c-46dc-4689-94eb-9b8cf77dc957': {'count': 3, 'left': 1, 'right': 2, 'front': 0, 'back': 0, 'none': 0, 'down': 0}, 'dab0a616-51e8-4b30-bd82-19bb69229e99': {'count': 3, 'left': 2, 'right': 1, 'front': 0, 'back': 0, 'none': 0, 'down': 0}, 'a58be6e6-9971-4774-ae07-996f321f6ff2': {'count': 2, 'left': 1, 'right': 1, 'front': 0, 'back': 0, 'none': 0, 'down': 0}, '79cf7589-f1b9-4c3d-886b-5e2f9b7903ac': {'count': 11, 'left': 7, 'right': 4, 'front': 0, 'back': 0, 'none': 0, 'down': 0}, '5833eda0-d461-490f-8d71-3db4587b6222': {'count': 5, 'left': 4, 'right': 1, 'front': 0, 'back': 0, 'none': 0, 'down': 0}, '728ef545-841a-4cd8-b7dd-292f338f687e': {'count': 2, 'left': 0, 'right': 2, 'front': 0, 'back': 0, 'none': 0, 'down': 0}, '5a49e71c-125f-4ca7-aaae-4d7eab110cc7': {'count': 10, 'left': 4, 'right': 4, 'front': 2, 'back': 0, 'none': 0, 'down': 0}, 'ec27531a-bb48-414f-9a96-6db82f04a74e': {'count': 10, 'left': 1, 'right': 7, 'front': 2, 'back': 0, 'none': 0, 'down': 0}, 'e630def4-c4c2-49fd-b0f4-87e34da60a1a': {'count': 7, 'left': 4, 'right': 3, 'front': 0, 'back': 0, 'none': 0, 'down': 0}, '19d5ddbd-4117-474e-b8b1-85bf71caf3ec': {'count': 2, 'left': 1, 'right': 1, 'front': 0, 'back': 0, 'none': 0, 'down': 0}, 'af12ef21-a35b-43e0-85e6-2403ddc35e4f': {'count': 2, 'left': 1, 'right': 1, 'front': 0, 'back': 0, 'none': 0, 'down': 0}, '7cd0e8a9-826f-4770-be7c-6d3f87dee9a1': {'count': 11, 'left': 5, 'right': 6, 'front': 0, 'back': 0, 'none': 0, 'down': 0}, 'bd67b977-888e-44cb-9008-a279e1acb8bf': {'count': 2, 'left': 1, 'right': 1, 'front': 0, 'back': 0, 'none': 0, 'down': 0}, '149720dd-294f-4f98-b3ad-8230cabbf9ee': {'count': 1, 'left': 1, 'right': 0, 'front': 0, 'back': 0, 'none': 0, 'down': 0}, '1f68f464-2c83-4a4b-9449-172d7b700d02': {'count': 1, 'left': 0, 'right': 1, 'front': 0, 'back': 0, 'none': 0, 'down': 0}, '3ebf6f31-dd6d-4da8-87b4-053065bd751c': {'count': 2, 'left': 1, 'right': 1, 'front': 0, 'back': 0, 'none': 0, 'down': 0}, '1aa72d47-3249-4746-8644-19e25341cfa7': {'count': 2, 'left': 2, 'right': 0, 'front': 0, 'back': 0, 'none': 0, 'down': 0}, '6ef1e021-1210-4ddd-a9ce-a64d8a8f50fe': {'count': 2, 'left': 1, 'right': 1, 'front': 0, 'back': 0, 'none': 0, 'down': 0}, '0c3d1595-2df7-4a38-9143-57ae1d7ef129': {'count': 2, 'left': 1, 'right': 1, 'front': 0, 'back': 0, 'none': 0, 'down': 0}, '7ea9b95c-66b7-4032-a478-1d460291f52d': {'count': 2, 'left': 1, 'right': 1, 'front': 0, 'back': 0, 'none': 0, 'down': 0}, 'c5eb51bb-5000-4155-8b3b-49a713a34eca': {'count': 2, 'left': 1, 'right': 1, 'front': 0, 'back': 0, 'none': 0, 'down': 0}, '16916b6e-6b7b-48a6-94f6-446c69761bc4': {'count': 2, 'left': 1, 'right': 1, 'front': 0, 'back': 0, 'none': 0, 'down': 0}, 'd34f5017-3a9d-455c-9245-c4d0c4572cd2': {'count': 2, 'left': 1, 'right': 1, 'front': 0, 'back': 0, 'none': 0, 'down': 0}, '13ed75ce-17fe-4e6b-aa82-cf2ff7a3473e': {'count': 6, 'left': 3, 'right': 3, 'front': 0, 'back': 0, 'none': 0, 'down': 0}, '6ea541bc-51a5-4acd-9d99-7ab00d5f9030': {'count': 4, 'left': 2, 'right': 2, 'front': 0, 'back': 0, 'none': 0, 'down': 0}, '05c49b4f-845d-4257-9005-fe14e9d389ce': {'count': 1, 'left': 1, 'right': 0, 'front': 0, 'back': 0, 'none': 0, 'down': 0}, 'a846f24d-3e23-4b6a-9e62-72cb01e548c9': {'count': 2, 'left': 1, 'right': 1, 'front': 0, 'back': 0, 'none': 0, 'down': 0}, '6b3c5f37-bdcf-4536-8e7b-9df42b4b9b2c': {'count': 4, 'left': 2, 'right': 2, 'front': 0, 'back': 0, 'none': 0, 'down': 0}, 'a68c2912-b443-4e34-bb15-b63644d88135': {'count': 2, 'left': 1, 'right': 1, 'front': 0, 'back': 0, 'none': 0, 'down': 0}, 'ad3f0d5b-de87-462c-b317-937b9babd283': {'count': 6, 'left': 2, 'right': 4, 'front': 0, 'back': 0, 'none': 0, 'down': 0}, '0d70f477-ea09-4cb9-8b4e-e15e706b40d0': {'count': 4, 'left': 1, 'right': 3, 'front': 0, 'back': 0, 'none': 0, 'down': 0}, 'cc0d3a18-c61a-4952-b2fd-4f1e701cca82': {'count': 1, 'left': 0, 'right': 0, 'front': 1, 'back': 0, 'none': 0, 'down': 0}, 'b0910c4d-00a5-4196-8b28-abe1cccc8e8b': {'count': 1, 'left': 1, 'right': 0, 'front': 0, 'back': 0, 'none': 0, 'down': 0}, 'cd1a0522-2a45-4bd1-a68f-dd1baa7bcd99': {'count': 6, 'left': 3, 'right': 3, 'front': 0, 'back': 0, 'none': 0, 'down': 0}, '7809ed60-598d-44b6-9899-d4e38f4c00c2': {'count': 2, 'left': 2, 'right': 0, 'front': 0, 'back': 0, 'none': 0, 'down': 0}, '0e347c89-c710-49e1-b706-0cb3be7210d7': {'count': 1, 'left': 1, 'right': 0, 'front': 0, 'back': 0, 'none': 0, 'down': 0}, '7e86ebd8-9625-40c3-98b3-d9b95752a876': {'count': 2, 'left': 1, 'right': 1, 'front': 0, 'back': 0, 'none': 0, 'down': 0}, '1ba98a30-cd71-4df8-ad1f-d96ed519ae36': {'count': 4, 'left': 2, 'right': 2, 'front': 0, 'back': 0, 'none': 0, 'down': 0}, '41c4f32a-6ede-4aab-95ab-13ec16610e51': {'count': 9, 'left': 3, 'right': 6, 'front': 0, 'back': 0, 'none': 0, 'down': 0}, 'aca994a2-1a92-43d9-a07a-2ef5b0f4a5f3': {'count': 2, 'left': 1, 'right': 1, 'front': 0, 'back': 0, 'none': 0, 'down': 0}, '808ae75e-5acb-440f-b97f-75197a706376': {'count': 3, 'left': 3, 'right': 0, 'front': 0, 'back': 0, 'none': 0, 'down': 0}, 'fb6b0c70-6f89-4c7b-a8b5-357fe4cfa3f4': {'count': 1, 'left': 1, 'right': 0, 'front': 0, 'back': 0, 'none': 0, 'down': 0}, '5fd4a74f-e304-4a47-9bb0-5f47c0a29642': {'count': 1, 'left': 1, 'right': 0, 'front': 0, 'back': 0, 'none': 0, 'down': 0}, 'a4a30593-08c3-43aa-a1be-acd403b511c9': {'count': 1, 'left': 1, 'right': 0, 'front': 0, 'back': 0, 'none': 0, 'down': 0}, '2011ae38-bab2-4f5a-b452-52126cd1748a': {'count': 1, 'left': 0, 'right': 1, 'front': 0, 'back': 0, 'none': 0, 'down': 0}, 'f4097c93-b951-415a-ad72-2a28fadffd5f': {'count': 1, 'left': 0, 'right': 0, 'front': 0, 'back': 1, 'none': 0, 'down': 0}, 'e803f72d-dadb-4cf3-b598-d0a79ea25e82': {'count': 1, 'left': 1, 'right': 0, 'front': 0, 'back': 0, 'none': 0, 'down': 0}, '2580e875-8a6d-48e5-aa55-f89d4df7ad8f': {'count': 1, 'left': 0, 'right': 1, 'front': 0, 'back': 0, 'none': 0, 'down': 0}, '86f2acec-a748-41d4-8da7-66ce785add5c': {'count': 1, 'left': 1, 'right': 0, 'front': 0, 'back': 0, 'none': 0, 'down': 0}, 'dfad3ca2-6a65-4805-9653-da8359595f0d': {'count': 1, 'left': 0, 'right': 1, 'front': 0, 'back': 0, 'none': 0, 'down': 0}, 'a00094fa-7300-40e4-bc80-9c13f376c31f': {'count': 24, 'left': 9, 'right': 10, 'front': 0, 'back': 5, 'none': 0, 'down': 0}, '502a3f8b-c867-49c7-854b-d2e20c9062d1': {'count': 2, 'left': 1, 'right': 1, 'front': 0, 'back': 0, 'none': 0, 'down': 0}, 'e560b0ca-2a69-48db-8653-3134578a60de': {'count': 2, 'left': 1, 'right': 1, 'front': 0, 'back': 0, 'none': 0, 'down': 0}, '73fba6b6-232c-4160-a46c-5f85a894a9db': {'count': 2, 'left': 1, 'right': 1, 'front': 0, 'back': 0, 'none': 0, 'down': 0}, 'bc3229ef-d26b-4cfc-8785-50316eb11232': {'count': 2, 'left': 1, 'right': 1, 'front': 0, 'back': 0, 'none': 0, 'down': 0}, 'cb6221e4-dd56-4b4c-b169-862cf02c1508': {'count': 1, 'left': 0, 'right': 1, 'front': 0, 'back': 0, 'none': 0, 'down': 0}, '22c9bed2-3698-4355-ba20-74c3ba2d80e3': {'count': 1, 'left': 1, 'right': 0, 'front': 0, 'back': 0, 'none': 0, 'down': 0}, 'bdd66298-65b2-4257-bd79-51ed8e448c21': {'count': 1, 'left': 1, 'right': 0, 'front': 0, 'back': 0, 'none': 0, 'down': 0}, 'b5bf8c9b-39d6-4b68-9d56-9a26a3b7de1e': {'count': 1, 'left': 1, 'right': 0, 'front': 0, 'back': 0, 'none': 0, 'down': 0}, '4086a094-f8d2-4952-915b-becfd2263c42': {'count': 2, 'left': 1, 'right': 1, 'front': 0, 'back': 0, 'none': 0, 'down': 0}, '785c2dfe-1cae-4f51-a1d1-b635a36a7efd': {'count': 2, 'left': 1, 'right': 1, 'front': 0, 'back': 0, 'none': 0, 'down': 0}, '559a4a0f-4fa5-46f6-af56-f7aa36bf35dd': {'count': 23, 'left': 11, 'right': 10, 'front': 1, 'back': 1, 'none': 0, 'down': 0}, '4f583226-f799-4639-8041-adc3731bb4b5': {'count': 6, 'left': 2, 'right': 0, 'front': 2, 'back': 2, 'none': 0, 'down': 0}, 'cb7e5202-3f7c-487e-b2ae-dd8f1fbde32d': {'count': 2, 'left': 0, 'right': 2, 'front': 0, 'back': 0, 'none': 0, 'down': 0}, '08a9d69d-d0df-45f7-8486-22558e375fad': {'count': 4, 'left': 2, 'right': 2, 'front': 0, 'back': 0, 'none': 0, 'down': 0}, 'ea2e13fe-4a24-4037-af1e-46efa289e901': {'count': 3, 'left': 1, 'right': 2, 'front': 0, 'back': 0, 'none': 0, 'down': 0}, '3b790a3b-f2a2-421a-b594-99198ce2a7c9': {'count': 2, 'left': 2, 'right': 0, 'front': 0, 'back': 0, 'none': 0, 'down': 0}, 'ab0c45d8-0ee5-4481-979c-259db9c1fc86': {'count': 2, 'left': 1, 'right': 1, 'front': 0, 'back': 0, 'none': 0, 'down': 0}, 'f999cf2a-c4e5-4f13-b3e4-d4ce1f8b356b': {'count': 2, 'left': 0, 'right': 2, 'front': 0, 'back': 0, 'none': 0, 'down': 0}, '8f6a7492-6d59-4218-8c3e-7ecdf310752c': {'count': 3, 'left': 1, 'right': 2, 'front': 0, 'back': 0, 'none': 0, 'down': 0}, 'e7d40588-ede3-4854-aee7-7423004fb23b': {'count': 5, 'left': 1, 'right': 4, 'front': 0, 'back': 0, 'none': 0, 'down': 0}, 'ae96d044-d0dc-4eeb-bfca-f1644b2d91f7': {'count': 3, 'left': 2, 'right': 1, 'front': 0, 'back': 0, 'none': 0, 'down': 0}, '557b5532-7117-40b8-b392-dac7f68da46c': {'count': 3, 'left': 2, 'right': 1, 'front': 0, 'back': 0, 'none': 0, 'down': 0}, 'ff88f9ab-31ce-4eba-a0d7-580320c62580': {'count': 5, 'left': 2, 'right': 3, 'front': 0, 'back': 0, 'none': 0, 'down': 0}, '6e7eec56-a2b2-41d1-a83e-dec0cd9f6dc3': {'count': 2, 'left': 1, 'right': 1, 'front': 0, 'back': 0, 'none': 0, 'down': 0}, '644ff593-0635-45d0-96e0-64f4a39d3ca1': {'count': 1, 'left': 0, 'right': 1, 'front': 0, 'back': 0, 'none': 0, 'down': 0}, '3fedbde7-4bdd-467f-ba70-f6c1013e873f': {'count': 3, 'left': 2, 'right': 1, 'front': 0, 'back': 0, 'none': 0, 'down': 0}, 'a8a4188d-54ed-416b-820b-20086e946524': {'count': 1, 'left': 1, 'right': 0, 'front': 0, 'back': 0, 'none': 0, 'down': 0}, 'b16ae6bb-a818-4700-9e2d-ecdc63751243': {'count': 1, 'left': 1, 'right': 0, 'front': 0, 'back': 0, 'none': 0, 'down': 0}, '7fc7dffd-3825-4881-b1eb-4fc5cbbcc6ed': {'count': 1, 'left': 0, 'right': 1, 'front': 0, 'back': 0, 'none': 0, 'down': 0}, '94f53d61-f681-4861-b8f9-a6d3a2721501': {'count': 4, 'left': 2, 'right': 2, 'front': 0, 'back': 0, 'none': 0, 'down': 0}, 'f830c415-8659-45ca-8426-ab5346ea4c60': {'count': 3, 'left': 1, 'right': 1, 'front': 0, 'back': 1, 'none': 0, 'down': 0}, '39664c93-f01c-4856-9b1b-33bc8bccc542': {'count': 2, 'left': 2, 'right': 0, 'front': 0, 'back': 0, 'none': 0, 'down': 0}, 'aba901ad-fec6-4a64-b477-eec337371236': {'count': 1, 'left': 1, 'right': 0, 'front': 0, 'back': 0, 'none': 0, 'down': 0}, '476a2372-0025-44b2-93a5-7b7ce7364ad9': {'count': 3, 'left': 2, 'right': 1, 'front': 0, 'back': 0, 'none': 0, 'down': 0}, '749f1776-65b1-466a-933d-850fb079ccdc': {'count': 3, 'left': 0, 'right': 2, 'front': 0, 'back': 1, 'none': 0, 'down': 0}, 'd197663a-8909-4f77-8481-cde9f00ad619': {'count': 4, 'left': 2, 'right': 2, 'front': 0, 'back': 0, 'none': 0, 'down': 0}, 'ccd07125-636d-4aa5-8d57-e5860a1ab9a3': {'count': 3, 'left': 2, 'right': 1, 'front': 0, 'back': 0, 'none': 0, 'down': 0}, '8e293d28-d648-41cb-84ae-35913e855c72': {'count': 3, 'left': 2, 'right': 1, 'front': 0, 'back': 0, 'none': 0, 'down': 0}, 'bb19ebc4-b8c9-4a03-8667-f60815eb6202': {'count': 1, 'left': 1, 'right': 0, 'front': 0, 'back': 0, 'none': 0, 'down': 0}, '5b3adb33-5ca4-4532-9de5-6b3ed0f50c68': {'count': 4, 'left': 2, 'right': 2, 'front': 0, 'back': 0, 'none': 0, 'down': 0}, '1a8f0efb-d26b-4441-8961-8221cda95262': {'count': 6, 'left': 4, 'right': 1, 'front': 0, 'back': 1, 'none': 0, 'down': 0}, 'c4f93074-0633-425f-96fb-52e6fcc885d8': {'count': 3, 'left': 2, 'right': 1, 'front': 0, 'back': 0, 'none': 0, 'down': 0}, 'ca672912-4a93-4fa4-be65-98b95dff7491': {'count': 5, 'left': 2, 'right': 3, 'front': 0, 'back': 0, 'none': 0, 'down': 0}, 'efa2cf9b-bc5d-4ba3-b291-85cfe759726c': {'count': 5, 'left': 3, 'right': 1, 'front': 1, 'back': 0, 'none': 0, 'down': 0}, '57e2c19c-23cc-4a01-b387-98aa5ebcf2ec': {'count': 3, 'left': 2, 'right': 1, 'front': 0, 'back': 0, 'none': 0, 'down': 0}, '85efa5e8-e730-4b21-9179-c5241cbc5cff': {'count': 4, 'left': 2, 'right': 2, 'front': 0, 'back': 0, 'none': 0, 'down': 0}, 'a5db5ae0-477f-41e6-9064-a30de3b6a275': {'count': 2, 'left': 1, 'right': 1, 'front': 0, 'back': 0, 'none': 0, 'down': 0}, '0af985b0-34f5-4648-a9c2-9d7a77788996': {'count': 1, 'left': 0, 'right': 1, 'front': 0, 'back': 0, 'none': 0, 'down': 0}, 'e05d23cc-6057-4c19-907b-cfbf712e2b7d': {'count': 3, 'left': 2, 'right': 0, 'front': 0, 'back': 1, 'none': 0, 'down': 0}, '8fe3c161-b0c1-4e40-b3ba-998b37272b23': {'count': 11, 'left': 6, 'right': 3, 'front': 0, 'back': 0, 'none': 2, 'down': 0}, 'd7c0272d-8fc0-49a0-9866-b9e6e7b17cf0': {'count': 1, 'left': 0, 'right': 0, 'front': 1, 'back': 0, 'none': 0, 'down': 0}, '69b85f85-50d6-4cc6-8f79-a555afeee830': {'count': 12, 'left': 6, 'right': 6, 'front': 0, 'back': 0, 'none': 0, 'down': 0}, 'e3c1078a-aaed-42f2-85ae-e1d3b618cdee': {'count': 11, 'left': 2, 'right': 4, 'front': 2, 'back': 2, 'none': 1, 'down': 0}, '4d8a2b2b-6045-4f0b-b979-cddb865c01b7': {'count': 1, 'left': 0, 'right': 1, 'front': 0, 'back': 0, 'none': 0, 'down': 0}, '8bbe7eee-ece7-4600-9347-8aabd899cb77': {'count': 15, 'left': 5, 'right': 7, 'front': 2, 'back': 0, 'none': 1, 'down': 0}, '21f9437d-0c1e-404f-a299-bb0b470f98fe': {'count': 4, 'left': 2, 'right': 1, 'front': 0, 'back': 1, 'none': 0, 'down': 0}, '0f38564b-babb-43bd-b8e1-3f653ec442bb': {'count': 11, 'left': 5, 'right': 4, 'front': 0, 'back': 0, 'none': 2, 'down': 0}, '7ff5036a-e948-4756-a63f-f0ba10f9e416': {'count': 3, 'left': 2, 'right': 0, 'front': 0, 'back': 0, 'none': 1, 'down': 0}, 'bb08514b-7f5e-4481-aeed-4d0d3a05716e': {'count': 3, 'left': 1, 'right': 1, 'front': 0, 'back': 0, 'none': 1, 'down': 0}, '2f19ecbf-5bea-470e-896d-86bc03702252': {'count': 5, 'left': 3, 'right': 2, 'front': 0, 'back': 0, 'none': 0, 'down': 0}, '0f35b112-f070-4f2b-b091-4aa57d70941e': {'count': 4, 'left': 1, 'right': 2, 'front': 0, 'back': 1, 'none': 0, 'down': 0}, 'e44cd531-93ca-478f-9c5f-845453f0656e': {'count': 12, 'left': 6, 'right': 6, 'front': 0, 'back': 0, 'none': 0, 'down': 0}, '89dc9164-8c29-4f6d-bbb9-747ba67fae60': {'count': 14, 'left': 7, 'right': 4, 'front': 1, 'back': 2, 'none': 0, 'down': 0}, '4800cde0-f078-4e54-9ef4-bfe77c22a2fa': {'count': 8, 'left': 4, 'right': 2, 'front': 0, 'back': 1, 'none': 1, 'down': 0}, '355c95e7-b36a-4cde-8496-fa0a2d78fa70': {'count': 2, 'left': 1, 'right': 1, 'front': 0, 'back': 0, 'none': 0, 'down': 0}, '8b1b355c-caac-4e10-8135-0f5132c70f47': {'count': 6, 'left': 1, 'right': 1, 'front': 0, 'back': 0, 'none': 4, 'down': 0}, '62c96d52-6426-4489-a669-3890f37c55ea': {'count': 3, 'left': 1, 'right': 2, 'front': 0, 'back': 0, 'none': 0, 'down': 0}, '5f9e6723-6dd0-4ba1-bbce-936fc6e70e90': {'count': 14, 'left': 7, 'right': 5, 'front': 1, 'back': 1, 'none': 0, 'down': 0}, 'cd0dee0e-de4f-430b-9d69-7e8f28a69bba': {'count': 3, 'left': 0, 'right': 3, 'front': 0, 'back': 0, 'none': 0, 'down': 0}, '87427ec4-0f68-49b0-b2ed-a817c88f1ece': {'count': 7, 'left': 3, 'right': 4, 'front': 0, 'back': 0, 'none': 0, 'down': 0}, '2437244a-dd85-470e-802d-f04123b2b290': {'count': 2, 'left': 1, 'right': 1, 'front': 0, 'back': 0, 'none': 0, 'down': 0}, '1ba4a787-80e1-4915-97da-06ae1f4c3588': {'count': 19, 'left': 8, 'right': 11, 'front': 0, 'back': 0, 'none': 0, 'down': 0}, '9170ae5b-fd20-48da-9bb1-cee515714e68': {'count': 26, 'left': 13, 'right': 11, 'front': 2, 'back': 0, 'none': 0, 'down': 0}, '33d21d59-7567-4c17-9073-6d2b99859621': {'count': 2, 'left': 1, 'right': 1, 'front': 0, 'back': 0, 'none': 0, 'down': 0}, 'c4877fdb-0612-4fb3-90f7-4ec508ada445': {'count': 12, 'left': 5, 'right': 3, 'front': 0, 'back': 3, 'none': 1, 'down': 0}, '19b5a37a-ae79-4c7a-94f9-08f0970498ee': {'count': 1, 'left': 1, 'right': 0, 'front': 0, 'back': 0, 'none': 0, 'down': 0}, 'ae7f4344-cbf0-4296-ab36-fa96d9305e80': {'count': 4, 'left': 1, 'right': 3, 'front': 0, 'back': 0, 'none': 0, 'down': 0}, '092dd05b-af5a-474c-9039-48117fed348c': {'count': 6, 'left': 3, 'right': 3, 'front': 0, 'back': 0, 'none': 0, 'down': 0}, '93628969-5284-4115-b362-137abf93aacb': {'count': 39, 'left': 21, 'right': 15, 'front': 3, 'back': 0, 'none': 0, 'down': 0}, '88890026-3c8a-4749-b247-f87739a9eb91': {'count': 2, 'left': 0, 'right': 0, 'front': 0, 'back': 2, 'none': 0, 'down': 0}, '83ee0238-0989-4dc0-ba47-8cbb1aa54b88': {'count': 2, 'left': 1, 'right': 1, 'front': 0, 'back': 0, 'none': 0, 'down': 0}, '5828f7cc-0fd0-4348-94f9-77844676247c': {'count': 8, 'left': 3, 'right': 4, 'front': 0, 'back': 0, 'none': 1, 'down': 0}, '224ad9fa-99cc-498b-8a5a-cdb301e44f9d': {'count': 4, 'left': 2, 'right': 1, 'front': 1, 'back': 0, 'none': 0, 'down': 0}, 'f783fc6c-f22a-4b35-a37b-b814ca4cc68e': {'count': 19, 'left': 5, 'right': 6, 'front': 3, 'back': 2, 'none': 3, 'down': 0}, '3eaaec86-a19a-40f8-b954-f062a0b34979': {'count': 2, 'left': 0, 'right': 0, 'front': 0, 'back': 1, 'none': 1, 'down': 0}, 'b3add45e-75fc-460f-ab47-aa4b5268ce8f': {'count': 2, 'left': 1, 'right': 1, 'front': 0, 'back': 0, 'none': 0, 'down': 0}, '59e30bdf-a8e4-4f2f-b003-2a84e2cd7384': {'count': 6, 'left': 3, 'right': 3, 'front': 0, 'back': 0, 'none': 0, 'down': 0}, '370883d8-ed6b-4f85-81b2-493ba08e6e5d': {'count': 3, 'left': 1, 'right': 1, 'front': 0, 'back': 1, 'none': 0, 'down': 0}, '9ca22065-7688-44a9-b7a4-2731b791c169': {'count': 1, 'left': 0, 'right': 0, 'front': 1, 'back': 0, 'none': 0, 'down': 0}, '5aab9fb1-2edd-4ab2-934c-5b6fd782d496': {'count': 1, 'left': 0, 'right': 1, 'front': 0, 'back': 0, 'none': 0, 'down': 0}, '89304cca-2107-4be4-9e89-1446d2a6f165': {'count': 9, 'left': 0, 'right': 6, 'front': 0, 'back': 3, 'none': 0, 'down': 0}, 'a8acd24e-546b-4e61-a1cc-9043a843a9a2': {'count': 6, 'left': 1, 'right': 4, 'front': 1, 'back': 0, 'none': 0, 'down': 0}, '04b263b2-90cf-40a6-bbbc-172824b130f0': {'count': 12, 'left': 5, 'right': 7, 'front': 0, 'back': 0, 'none': 0, 'down': 0}, 'f1120b0e-e58a-4b04-96a9-2351cba3546a': {'count': 16, 'left': 6, 'right': 9, 'front': 0, 'back': 0, 'none': 1, 'down': 0}, 'b522fd7e-831d-4a1d-b0e2-d269c39b4e35': {'count': 5, 'left': 2, 'right': 2, 'front': 0, 'back': 1, 'none': 0, 'down': 0}, '08cb52f5-570c-468d-bc68-610d75421588': {'count': 6, 'left': 3, 'right': 3, 'front': 0, 'back': 0, 'none': 0, 'down': 0}, '7a86c9e2-259e-45f6-b12f-44fb5158f664': {'count': 2, 'left': 0, 'right': 1, 'front': 0, 'back': 0, 'none': 1, 'down': 0}, 'f93fcac6-affb-4909-acfe-8ff354ce6c01': {'count': 1, 'left': 0, 'right': 1, 'front': 0, 'back': 0, 'none': 0, 'down': 0}, '7b9f88b7-e323-4e7c-ae1d-0938ec0a0073': {'count': 19, 'left': 9, 'right': 10, 'front': 0, 'back': 0, 'none': 0, 'down': 0}, '55614ab7-ed25-4d54-8b20-fd234cbfdfe4': {'count': 3, 'left': 1, 'right': 0, 'front': 0, 'back': 0, 'none': 2, 'down': 0}, '4f8ff8ad-8782-4a1c-be11-4aa4021a3706': {'count': 6, 'left': 5, 'right': 1, 'front': 0, 'back': 0, 'none': 0, 'down': 0}, '61797f62-5ccf-4895-9c2c-7463d51fc58e': {'count': 1, 'left': 0, 'right': 0, 'front': 0, 'back': 1, 'none': 0, 'down': 0}, '915312fb-1d70-484a-9862-1d0aca47df1c': {'count': 4, 'left': 2, 'right': 2, 'front': 0, 'back': 0, 'none': 0, 'down': 0}, '3ba279e7-a85f-4973-a050-f6870b51bf7b': {'count': 3, 'left': 2, 'right': 1, 'front': 0, 'back': 0, 'none': 0, 'down': 0}, 'ed4251de-87c7-4e5d-88dc-7463b24bd950': {'count': 4, 'left': 2, 'right': 0, 'front': 0, 'back': 0, 'none': 2, 'down': 0}, 'aeb70d70-19b6-4900-b178-8853de58a2c0': {'count': 4, 'left': 2, 'right': 1, 'front': 1, 'back': 0, 'none': 0, 'down': 0}, 'fb1ee710-dcba-4201-b8b1-4fa5412ad5ad': {'count': 5, 'left': 1, 'right': 2, 'front': 2, 'back': 0, 'none': 0, 'down': 0}, 'fc254aa5-d0d8-4dac-85a7-aa9d75b2331b': {'count': 2, 'left': 2, 'right': 0, 'front': 0, 'back': 0, 'none': 0, 'down': 0}, '6c3d8c29-725b-4a3d-9b7e-84fcd0b320eb': {'count': 3, 'left': 1, 'right': 2, 'front': 0, 'back': 0, 'none': 0, 'down': 0}, '710a60d9-9510-46f5-8171-28ceeefd9c14': {'count': 2, 'left': 0, 'right': 2, 'front': 0, 'back': 0, 'none': 0, 'down': 0}, '2f237c9c-7967-4db0-a509-c0a6ecdba5b6': {'count': 2, 'left': 1, 'right': 1, 'front': 0, 'back': 0, 'none': 0, 'down': 0}, '77ac4522-b120-44d3-a930-040d13f3257e': {'count': 2, 'left': 1, 'right': 1, 'front': 0, 'back': 0, 'none': 0, 'down': 0}, '1f1803f4-f92d-459c-9662-c3e2c558be0b': {'count': 2, 'left': 2, 'right': 0, 'front': 0, 'back': 0, 'none': 0, 'down': 0}, '271c8bfa-8dff-44d5-9d4e-72007d7ba700': {'count': 173, 'left': 48, 'right': 48, 'front': 22, 'back': 31, 'none': 23, 'down': 1}, '3be270aa-bd51-4e25-b09f-1eb2d15838cc': {'count': 58, 'left': 32, 'right': 19, 'front': 1, 'back': 4, 'none': 2, 'down': 0}, '3b4882e7-1b66-4c8d-8786-be8f5cc69ee8': {'count': 10, 'left': 8, 'right': 0, 'front': 0, 'back': 2, 'none': 0, 'down': 0}, '96d393be-7d3b-429f-8e51-6048a8593b47': {'count': 62, 'left': 22, 'right': 11, 'front': 8, 'back': 14, 'none': 7, 'down': 0}, 'c3a937f1-f565-46c5-affb-4f6070efc3e0': {'count': 55, 'left': 18, 'right': 27, 'front': 0, 'back': 7, 'none': 3, 'down': 0}, 'd797dc02-2bcd-4c82-9e1a-0a6a63a4ed4e': {'count': 28, 'left': 8, 'right': 7, 'front': 5, 'back': 7, 'none': 1, 'down': 0}, '60fcc979-17ea-4807-bbe3-781e72b45396': {'count': 25, 'left': 14, 'right': 1, 'front': 4, 'back': 6, 'none': 0, 'down': 0}, '4959533c-be2b-418f-8510-92fd01c92358': {'count': 5, 'left': 4, 'right': 1, 'front': 0, 'back': 0, 'none': 0, 'down': 0}, '1e8a6ed0-37f1-4c7e-ae83-3fba62a9af49': {'count': 9, 'left': 5, 'right': 0, 'front': 0, 'back': 4, 'none': 0, 'down': 0}, 'bf159a20-d4d1-45a0-bf61-b04abfee1a32': {'count': 27, 'left': 10, 'right': 13, 'front': 0, 'back': 4, 'none': 0, 'down': 0}, 'e954fd06-34b9-442f-99da-833d701216ec': {'count': 13, 'left': 5, 'right': 7, 'front': 0, 'back': 1, 'none': 0, 'down': 0}, '92979236-b885-4aa2-8f22-da447159f85a': {'count': 156, 'left': 48, 'right': 32, 'front': 26, 'back': 42, 'none': 7, 'down': 1}, '5f3ce145-3b75-4e42-a66c-1c545c657b8b': {'count': 43, 'left': 17, 'right': 15, 'front': 4, 'back': 7, 'none': 0, 'down': 0}, '39903d3f-8620-4256-999f-edfe188039a9': {'count': 3, 'left': 1, 'right': 2, 'front': 0, 'back': 0, 'none': 0, 'down': 0}, '863f2925-6037-4ce5-b1c6-7aeb88bbf48d': {'count': 10, 'left': 4, 'right': 0, 'front': 1, 'back': 5, 'none': 0, 'down': 0}, 'b3fe3b6b-b045-4153-9611-041b87a680a2': {'count': 17, 'left': 12, 'right': 4, 'front': 0, 'back': 1, 'none': 0, 'down': 0}, 'e35ea3e3-08b2-48e3-bdee-caa6a60e403f': {'count': 2, 'left': 1, 'right': 0, 'front': 0, 'back': 1, 'none': 0, 'down': 0}, '2e0d0629-af46-40d0-bb63-922a27af5ab6': {'count': 124, 'left': 48, 'right': 34, 'front': 3, 'back': 31, 'none': 8, 'down': 0}, 'f39b36c5-c265-4825-ba79-87f998ed6746': {'count': 34, 'left': 19, 'right': 12, 'front': 2, 'back': 0, 'none': 1, 'down': 0}, '5677ac0a-9e2c-4650-9b91-73fe817c31ac': {'count': 16, 'left': 12, 'right': 1, 'front': 0, 'back': 3, 'none': 0, 'down': 0}, '0756c24d-5857-466b-bf2b-4238bab60902': {'count': 5, 'left': 1, 'right': 2, 'front': 0, 'back': 1, 'none': 1, 'down': 0}, 'f1116150-8ea6-4a26-a0b8-90208a8a2248': {'count': 23, 'left': 3, 'right': 9, 'front': 1, 'back': 2, 'none': 8, 'down': 0}, '9d23970d-9b7e-40e2-813f-85cb59c7aafe': {'count': 3, 'left': 3, 'right': 0, 'front': 0, 'back': 0, 'none': 0, 'down': 0}, 'c9f40dfb-0a95-4038-a148-d4ba180b91e2': {'count': 98, 'left': 25, 'right': 49, 'front': 2, 'back': 19, 'none': 3, 'down': 0}, '8b295791-aaf6-4caf-a32a-2d4785098e87': {'count': 411, 'left': 105, 'right': 106, 'front': 46, 'back': 149, 'none': 4, 'down': 1}, '9dce1bc1-361d-45d7-9db1-2a143c732b66': {'count': 222, 'left': 97, 'right': 59, 'front': 27, 'back': 38, 'none': 1, 'down': 0}, 'f54eeeb1-cab5-454a-adf3-fcd8c4a2b4a5': {'count': 169, 'left': 63, 'right': 64, 'front': 4, 'back': 38, 'none': 0, 'down': 0}, '63824a69-3a5d-4713-81af-d2aee97abeec': {'count': 65, 'left': 18, 'right': 33, 'front': 0, 'back': 14, 'none': 0, 'down': 0}, 'ab07eaed-765a-4faa-b4ce-43992596395a': {'count': 7, 'left': 4, 'right': 3, 'front': 0, 'back': 0, 'none': 0, 'down': 0}, '2112bdfc-4c7c-4c2a-8cfa-28ea45bf1599': {'count': 214, 'left': 78, 'right': 82, 'front': 36, 'back': 13, 'none': 3, 'down': 2}, '9ddbb669-6b61-4171-8255-b7b9b7a67db1': {'count': 66, 'left': 26, 'right': 25, 'front': 3, 'back': 12, 'none': 0, 'down': 0}, '2a171d14-e10a-44d2-97cc-14865f315bb4': {'count': 2, 'left': 2, 'right': 0, 'front': 0, 'back': 0, 'none': 0, 'down': 0}, 'a1d0fd59-883e-4e53-a313-6264f2f247fa': {'count': 129, 'left': 72, 'right': 32, 'front': 1, 'back': 23, 'none': 0, 'down': 1}, '951f3bbf-f9f1-4ace-ab20-ef153169384f': {'count': 107, 'left': 43, 'right': 27, 'front': 16, 'back': 18, 'none': 3, 'down': 0}, '48586dfd-d491-4c06-91b9-2fbfcf5c6cdd': {'count': 37, 'left': 17, 'right': 11, 'front': 4, 'back': 5, 'none': 0, 'down': 0}, '63c5ceae-dd9d-4d51-83da-8dc4953530b4': {'count': 9, 'left': 1, 'right': 6, 'front': 0, 'back': 2, 'none': 0, 'down': 0}, 'bddd9524-d4a1-4ac2-877b-459211f7acc5': {'count': 34, 'left': 18, 'right': 5, 'front': 2, 'back': 4, 'none': 0, 'down': 5}, '1bdfbe29-6b69-48e9-8c8b-d8d145bdeef3': {'count': 18, 'left': 8, 'right': 6, 'front': 3, 'back': 1, 'none': 0, 'down': 0}, '69a226bb-64a0-4357-9f62-dcc80f403579': {'count': 33, 'left': 14, 'right': 11, 'front': 2, 'back': 6, 'none': 0, 'down': 0}, '1cb4c51e-e61d-4c4f-9bca-fd08c9164883': {'count': 6, 'left': 2, 'right': 1, 'front': 0, 'back': 3, 'none': 0, 'down': 0}, '220e6e43-0723-4068-9d2b-08c125017361': {'count': 41, 'left': 17, 'right': 8, 'front': 5, 'back': 11, 'none': 0, 'down': 0}, '6948d96b-0b5c-422b-a65d-e5098b613b81': {'count': 53, 'left': 11, 'right': 17, 'front': 9, 'back': 13, 'none': 3, 'down': 0}, '0d3642d3-39fd-452a-8fe5-b0daa2f623e0': {'count': 19, 'left': 2, 'right': 12, 'front': 1, 'back': 4, 'none': 0, 'down': 0}, 'ced5c9fe-098d-40e9-aa0f-01d3b7ad856c': {'count': 60, 'left': 21, 'right': 19, 'front': 1, 'back': 19, 'none': 0, 'down': 0}, '8f76acd2-f3ba-4c7a-a00f-bb71343d2356': {'count': 6, 'left': 3, 'right': 2, 'front': 0, 'back': 1, 'none': 0, 'down': 0}, '4093e559-3154-43d3-938e-d251b69b42e9': {'count': 6, 'left': 0, 'right': 4, 'front': 1, 'back': 1, 'none': 0, 'down': 0}, '2c6dbe37-c4cf-41e4-a2b3-e435ea9eb046': {'count': 67, 'left': 15, 'right': 27, 'front': 11, 'back': 13, 'none': 0, 'down': 1}, '9568025e-d634-45bb-ba9e-96a3dde71895': {'count': 7, 'left': 0, 'right': 5, 'front': 0, 'back': 2, 'none': 0, 'down': 0}, '9013c3db-3a8b-4f33-9fdb-fe4e7e5d454e': {'count': 45, 'left': 14, 'right': 13, 'front': 3, 'back': 14, 'none': 1, 'down': 0}, '64bf337a-87a2-4a45-bd38-7ad66da3a95e': {'count': 19, 'left': 11, 'right': 3, 'front': 3, 'back': 1, 'none': 1, 'down': 0}, '2bf7957c-ef92-416e-a15c-1b1066663757': {'count': 6, 'left': 3, 'right': 2, 'front': 0, 'back': 1, 'none': 0, 'down': 0}, 'af4751b7-46e6-44eb-8b5a-7042f4605b2f': {'count': 3, 'left': 1, 'right': 2, 'front': 0, 'back': 0, 'none': 0, 'down': 0}, '915f40d8-70cf-4d7b-b1d7-4f0444c2e0f2': {'count': 3, 'left': 3, 'right': 0, 'front': 0, 'back': 0, 'none': 0, 'down': 0}, '838f7692-b42f-4f95-8894-e3269bc8d100': {'count': 5, 'left': 2, 'right': 2, 'front': 0, 'back': 1, 'none': 0, 'down': 0}, 'd3a5ea11-3653-4941-9c80-0e2d8abc340e': {'count': 3, 'left': 3, 'right': 0, 'front': 0, 'back': 0, 'none': 0, 'down': 0}, '4795f419-53e7-45bf-9d9f-01a991725d3c': {'count': 1, 'left': 1, 'right': 0, 'front': 0, 'back': 0, 'none': 0, 'down': 0}, '24d62502-5218-47c3-9ee7-a14b08856b33': {'count': 4, 'left': 2, 'right': 1, 'front': 1, 'back': 0, 'none': 0, 'down': 0}, '4766ff73-1ab1-49fd-8596-444d2d496dbc': {'count': 1, 'left': 1, 'right': 0, 'front': 0, 'back': 0, 'none': 0, 'down': 0}, 'ff8bd094-ea5c-4d97-9eac-9797e41d3ae7': {'count': 2, 'left': 1, 'right': 1, 'front': 0, 'back': 0, 'none': 0, 'down': 0}, '1c7fb4a2-a946-4693-bb8d-2443f838801b': {'count': 4, 'left': 2, 'right': 2, 'front': 0, 'back': 0, 'none': 0, 'down': 0}, 'ab10f39d-32f7-4806-9eba-fe81edb4c51a': {'count': 3, 'left': 0, 'right': 3, 'front': 0, 'back': 0, 'none': 0, 'down': 0}, '9f82dbee-20d9-47e4-96cb-3291cb5dfc27': {'count': 5, 'left': 2, 'right': 2, 'front': 1, 'back': 0, 'none': 0, 'down': 0}, '2f4ba86e-c462-44fe-9fe4-3f598ba11579': {'count': 4, 'left': 2, 'right': 2, 'front': 0, 'back': 0, 'none': 0, 'down': 0}, 'f4626dd4-34ce-407e-822c-507da1fcefa1': {'count': 3, 'left': 0, 'right': 2, 'front': 1, 'back': 0, 'none': 0, 'down': 0}, '9354aeb2-adb2-4470-ba31-ee4cbbc97ef2': {'count': 5, 'left': 2, 'right': 2, 'front': 1, 'back': 0, 'none': 0, 'down': 0}, '9e9ec9f9-926f-443c-b1b4-6fe6f08d5a8d': {'count': 3, 'left': 1, 'right': 0, 'front': 2, 'back': 0, 'none': 0, 'down': 0}, 'cbd32aaf-6b5c-419a-8f73-29e54550cbb4': {'count': 5, 'left': 1, 'right': 1, 'front': 3, 'back': 0, 'none': 0, 'down': 0}, '9529feef-a4af-4783-bc46-3b8c317a3da6': {'count': 2, 'left': 1, 'right': 1, 'front': 0, 'back': 0, 'none': 0, 'down': 0}, '6f7a8ad0-c1b0-4e0a-8a56-73b51cc8d633': {'count': 4, 'left': 2, 'right': 1, 'front': 1, 'back': 0, 'none': 0, 'down': 0}, '5eedc512-4c33-4a4f-b4f7-2315c210486b': {'count': 3, 'left': 1, 'right': 1, 'front': 0, 'back': 1, 'none': 0, 'down': 0}, 'ff1e64f5-2adf-4b06-b8c6-30e9dd6f13c6': {'count': 3, 'left': 1, 'right': 2, 'front': 0, 'back': 0, 'none': 0, 'down': 0}, '336836bc-24bd-4f44-94e3-18fc1ab503c8': {'count': 4, 'left': 2, 'right': 2, 'front': 0, 'back': 0, 'none': 0, 'down': 0}, '5533422e-8ec4-4ab9-ad56-a54fe1b5e9a4': {'count': 1, 'left': 1, 'right': 0, 'front': 0, 'back': 0, 'none': 0, 'down': 0}, '951cc55f-b0b9-474b-a65f-8c5af4395ed5': {'count': 3, 'left': 1, 'right': 0, 'front': 2, 'back': 0, 'none': 0, 'down': 0}, 'e1ec53ca-55e3-4db1-943d-b26ff57e4820': {'count': 2, 'left': 2, 'right': 0, 'front': 0, 'back': 0, 'none': 0, 'down': 0}, '21e54501-a5cc-437b-9dad-169993de5878': {'count': 4, 'left': 2, 'right': 2, 'front': 0, 'back': 0, 'none': 0, 'down': 0}, '6d626199-276e-4e30-9fcc-09de694be6f1': {'count': 5, 'left': 3, 'right': 0, 'front': 2, 'back': 0, 'none': 0, 'down': 0}, '567348ed-b380-4c26-9993-53bfd0301e73': {'count': 2, 'left': 2, 'right': 0, 'front': 0, 'back': 0, 'none': 0, 'down': 0}, 'cc291eb6-5a7f-4123-bac4-1a71fa752906': {'count': 4, 'left': 1, 'right': 1, 'front': 2, 'back': 0, 'none': 0, 'down': 0}, 'd2e54dbb-5353-463a-8db3-749139ad6409': {'count': 7, 'left': 3, 'right': 2, 'front': 2, 'back': 0, 'none': 0, 'down': 0}, 'd4b4cbc9-90b3-4f76-a615-75ac01eca88a': {'count': 5, 'left': 2, 'right': 1, 'front': 2, 'back': 0, 'none': 0, 'down': 0}, 'e89de0b2-1f3b-4ac3-8a1a-480595aac494': {'count': 5, 'left': 2, 'right': 1, 'front': 2, 'back': 0, 'none': 0, 'down': 0}, '5c4148f1-d035-4c6f-acf9-702c84d906fc': {'count': 8, 'left': 2, 'right': 4, 'front': 2, 'back': 0, 'none': 0, 'down': 0}, 'f2abff83-5163-4560-be53-9421cac22d71': {'count': 9, 'left': 2, 'right': 5, 'front': 2, 'back': 0, 'none': 0, 'down': 0}, '17e9ef4d-a6f7-4a2c-8df5-04218deadd2a': {'count': 4, 'left': 3, 'right': 1, 'front': 0, 'back': 0, 'none': 0, 'down': 0}, 'db072d71-080e-4e66-bb90-f9da43e3d6f2': {'count': 4, 'left': 2, 'right': 2, 'front': 0, 'back': 0, 'none': 0, 'down': 0}, '81ec3fac-002e-46ef-85c6-b59d338797ef': {'count': 5, 'left': 2, 'right': 1, 'front': 2, 'back': 0, 'none': 0, 'down': 0}, '9fe80e80-aa35-43e2-96c7-74335517fb74': {'count': 5, 'left': 2, 'right': 1, 'front': 2, 'back': 0, 'none': 0, 'down': 0}, '49d72f88-6862-4861-9d0b-114b5216d757': {'count': 4, 'left': 2, 'right': 2, 'front': 0, 'back': 0, 'none': 0, 'down': 0}, '5dc95b47-9f6e-4119-bb52-8e592ccf559f': {'count': 3, 'left': 0, 'right': 0, 'front': 3, 'back': 0, 'none': 0, 'down': 0}, '5d4eb46f-f5f8-418f-bbf9-00007edae5c8': {'count': 14, 'left': 3, 'right': 4, 'front': 7, 'back': 0, 'none': 0, 'down': 0}, '1941c161-d169-4f94-b341-6b2fd551fca7': {'count': 4, 'left': 0, 'right': 1, 'front': 2, 'back': 1, 'none': 0, 'down': 0}, 'b0511113-f158-4703-83b9-0b37e92e44f5': {'count': 3, 'left': 2, 'right': 1, 'front': 0, 'back': 0, 'none': 0, 'down': 0}, '557919a5-c7a1-4948-becb-df90e3ff0130': {'count': 4, 'left': 3, 'right': 1, 'front': 0, 'back': 0, 'none': 0, 'down': 0}, '9a3319f8-f480-4cf0-b917-32bb8998f81b': {'count': 7, 'left': 3, 'right': 3, 'front': 1, 'back': 0, 'none': 0, 'down': 0}, '477e93c4-bdb6-4c83-ae6b-eb38407e7e8a': {'count': 2, 'left': 0, 'right': 2, 'front': 0, 'back': 0, 'none': 0, 'down': 0}, '61777572-7b2b-4b22-a937-cced3dde05ea': {'count': 2, 'left': 1, 'right': 1, 'front': 0, 'back': 0, 'none': 0, 'down': 0}, '1678608b-cca7-46fb-a2ea-0c63ca199df1': {'count': 2, 'left': 2, 'right': 0, 'front': 0, 'back': 0, 'none': 0, 'down': 0}, '809104ee-efb2-4e01-93b5-368340f145e8': {'count': 5, 'left': 0, 'right': 2, 'front': 2, 'back': 0, 'none': 0, 'down': 1}, '21b29681-f0d4-4aa0-bcea-949d08eac27b': {'count': 4, 'left': 3, 'right': 1, 'front': 0, 'back': 0, 'none': 0, 'down': 0}, '4d7d2dcc-1cad-4800-a84c-9d87d44206a0': {'count': 4, 'left': 1, 'right': 2, 'front': 1, 'back': 0, 'none': 0, 'down': 0}, '4e7236e5-32ea-4782-ac57-ee8cb7d2adf6': {'count': 4, 'left': 2, 'right': 2, 'front': 0, 'back': 0, 'none': 0, 'down': 0}, '1a93779a-14ac-4d13-a18e-2517c5a2e0fa': {'count': 8, 'left': 1, 'right': 3, 'front': 4, 'back': 0, 'none': 0, 'down': 0}, '8f083705-655b-4a17-a983-a0742d75dcb0': {'count': 5, 'left': 2, 'right': 1, 'front': 2, 'back': 0, 'none': 0, 'down': 0}, '071c39d9-7b77-4201-8ed4-d31e04e15cca': {'count': 3, 'left': 0, 'right': 1, 'front': 2, 'back': 0, 'none': 0, 'down': 0}, 'e7994de0-d045-4f97-bb9e-79cf8109ea79': {'count': 9, 'left': 4, 'right': 3, 'front': 2, 'back': 0, 'none': 0, 'down': 0}, '53f919ac-1f76-4aab-9377-74369acf831f': {'count': 1, 'left': 0, 'right': 1, 'front': 0, 'back': 0, 'none': 0, 'down': 0}, '3de10760-2a56-4499-92f9-003673aa62b2': {'count': 5, 'left': 1, 'right': 1, 'front': 3, 'back': 0, 'none': 0, 'down': 0}, 'fc5bbb6f-e7c2-475c-b0a3-8cb814d3dade': {'count': 2, 'left': 0, 'right': 2, 'front': 0, 'back': 0, 'none': 0, 'down': 0}, '9467c306-61bd-4754-af87-abb2e1c2fd7e': {'count': 4, 'left': 1, 'right': 3, 'front': 0, 'back': 0, 'none': 0, 'down': 0}, '54271604-e08e-4b3e-b249-19a0b023be0b': {'count': 2, 'left': 0, 'right': 2, 'front': 0, 'back': 0, 'none': 0, 'down': 0}, '1265fe94-c093-4beb-9cf2-28b7eb458cab': {'count': 5, 'left': 3, 'right': 1, 'front': 1, 'back': 0, 'none': 0, 'down': 0}, '1e4941f3-fd74-4119-8dc7-120249cb9e76': {'count': 4, 'left': 1, 'right': 2, 'front': 1, 'back': 0, 'none': 0, 'down': 0}, '1c020824-cb20-4b7c-b436-fc9050507fd7': {'count': 2, 'left': 1, 'right': 0, 'front': 1, 'back': 0, 'none': 0, 'down': 0}, '84d4d409-cb79-48d0-8bb6-7f58e0e0bca6': {'count': 2, 'left': 2, 'right': 0, 'front': 0, 'back': 0, 'none': 0, 'down': 0}, '5f7ddd9d-c995-4e52-b3f2-2bd2a4ef553e': {'count': 5, 'left': 1, 'right': 2, 'front': 2, 'back': 0, 'none': 0, 'down': 0}, '5e495810-8fc1-4ee9-837c-ed82e265c9b0': {'count': 2, 'left': 1, 'right': 0, 'front': 1, 'back': 0, 'none': 0, 'down': 0}, '4c83a378-7e4d-457f-a85b-b31299263e92': {'count': 3, 'left': 0, 'right': 0, 'front': 2, 'back': 0, 'none': 0, 'down': 1}, '3db15604-e774-4cce-a094-e5e4a5d24725': {'count': 5, 'left': 1, 'right': 2, 'front': 2, 'back': 0, 'none': 0, 'down': 0}, 'e69874d5-a4d2-467d-ac3a-8ad186e3d5da': {'count': 3, 'left': 0, 'right': 2, 'front': 1, 'back': 0, 'none': 0, 'down': 0}, '41029c04-959f-48b9-8799-d01ad35035eb': {'count': 2, 'left': 0, 'right': 1, 'front': 1, 'back': 0, 'none': 0, 'down': 0}, 'e4cfde9b-5759-4f64-8727-e36e117601e4': {'count': 4, 'left': 1, 'right': 1, 'front': 2, 'back': 0, 'none': 0, 'down': 0}, '466d7a84-5ea7-4555-9396-2c7c4a4a6100': {'count': 2, 'left': 0, 'right': 0, 'front': 2, 'back': 0, 'none': 0, 'down': 0}, 'a7253722-9f97-49e9-b70c-f23b1370fd0e': {'count': 4, 'left': 2, 'right': 2, 'front': 0, 'back': 0, 'none': 0, 'down': 0}, '7e45f749-bead-43d1-ac64-e1771738d038': {'count': 4, 'left': 0, 'right': 2, 'front': 0, 'back': 0, 'none': 0, 'down': 2}, 'ae7c662c-8e9c-4bf1-af81-548afc4bcb84': {'count': 4, 'left': 2, 'right': 2, 'front': 0, 'back': 0, 'none': 0, 'down': 0}, 'ac2ad6cd-b235-44c0-bee9-d3067e2c5495': {'count': 3, 'left': 2, 'right': 1, 'front': 0, 'back': 0, 'none': 0, 'down': 0}, '622a4be5-6182-470f-8050-603e804004b4': {'count': 5, 'left': 2, 'right': 1, 'front': 2, 'back': 0, 'none': 0, 'down': 0}, '3737de68-0b0a-44bd-b108-45737956d45a': {'count': 5, 'left': 1, 'right': 1, 'front': 3, 'back': 0, 'none': 0, 'down': 0}, '76a53f14-2656-4e16-9516-0b7d6599874c': {'count': 4, 'left': 2, 'right': 2, 'front': 0, 'back': 0, 'none': 0, 'down': 0}, '228513fe-c81d-4546-b58f-4cf3fdf45d12': {'count': 2, 'left': 2, 'right': 0, 'front': 0, 'back': 0, 'none': 0, 'down': 0}, '3d90cdb8-60a2-43b4-8e0f-9492f1692516': {'count': 3, 'left': 2, 'right': 1, 'front': 0, 'back': 0, 'none': 0, 'down': 0}, '7be3b63c-b52a-4881-b520-3b03fb457195': {'count': 4, 'left': 2, 'right': 1, 'front': 1, 'back': 0, 'none': 0, 'down': 0}, '69a21035-4822-4ac4-9fff-8ddd6454cf06': {'count': 3, 'left': 1, 'right': 1, 'front': 1, 'back': 0, 'none': 0, 'down': 0}, '8d17ee79-32d0-49dd-9697-8c49d01f2ce9': {'count': 1, 'left': 1, 'right': 0, 'front': 0, 'back': 0, 'none': 0, 'down': 0}, '05acf123-ed55-421c-88d1-1bc9b8ebd191': {'count': 4, 'left': 2, 'right': 1, 'front': 1, 'back': 0, 'none': 0, 'down': 0}, '8d0dea45-6b6b-4a17-b9a6-4442f3dd7c53': {'count': 3, 'left': 3, 'right': 0, 'front': 0, 'back': 0, 'none': 0, 'down': 0}, 'b6be1873-94bd-4763-b852-78057f2cd99f': {'count': 3, 'left': 2, 'right': 1, 'front': 0, 'back': 0, 'none': 0, 'down': 0}, 'c8ee0581-850c-445a-8e25-6b64687eae27': {'count': 2, 'left': 1, 'right': 1, 'front': 0, 'back': 0, 'none': 0, 'down': 0}, 'a3761156-b138-488b-9dd7-b29986082ad0': {'count': 3, 'left': 1, 'right': 1, 'front': 0, 'back': 1, 'none': 0, 'down': 0}, 'c37fda4d-25b4-4b23-82c2-3b2d03c36576': {'count': 2, 'left': 2, 'right': 0, 'front': 0, 'back': 0, 'none': 0, 'down': 0}, '32bfbc5d-48e8-4fa6-9501-3403820c8999': {'count': 4, 'left': 2, 'right': 2, 'front': 0, 'back': 0, 'none': 0, 'down': 0}, '4621f3e7-410e-4536-9b6d-c8ad48b7c0c8': {'count': 5, 'left': 1, 'right': 1, 'front': 3, 'back': 0, 'none': 0, 'down': 0}, 'e1d19002-e6b7-4ec0-9011-8f6272225d89': {'count': 2, 'left': 1, 'right': 0, 'front': 1, 'back': 0, 'none': 0, 'down': 0}, 'fe0d7380-1d87-48c5-851a-24e6484f0094': {'count': 1, 'left': 1, 'right': 0, 'front': 0, 'back': 0, 'none': 0, 'down': 0}, '23078cd2-337a-4f60-b5d1-31cff51b9c47': {'count': 23, 'left': 8, 'right': 7, 'front': 6, 'back': 1, 'none': 1, 'down': 0}, '14a1f572-2a8a-4f98-b740-0d6fb9b458e6': {'count': 5, 'left': 0, 'right': 3, 'front': 2, 'back': 0, 'none': 0, 'down': 0}, 'd0d433a6-750c-441d-b6a1-4f54cdda3222': {'count': 2, 'left': 0, 'right': 0, 'front': 2, 'back': 0, 'none': 0, 'down': 0}, '731cfe98-79ff-4126-97c7-6d1268fd4efc': {'count': 16, 'left': 6, 'right': 5, 'front': 3, 'back': 1, 'none': 1, 'down': 0}, '320977e1-df5a-4c15-9c29-7bdde7c0934a': {'count': 2, 'left': 0, 'right': 1, 'front': 1, 'back': 0, 'none': 0, 'down': 0}, '4e207775-46eb-421c-8e74-680caba7c14b': {'count': 1, 'left': 1, 'right': 0, 'front': 0, 'back': 0, 'none': 0, 'down': 0}, 'be2a9ca9-e59e-405d-8ec8-6049ccf359f2': {'count': 4, 'left': 4, 'right': 0, 'front': 0, 'back': 0, 'none': 0, 'down': 0}, '59ee3bc6-07e6-4341-873b-5f8108c10827': {'count': 2, 'left': 1, 'right': 1, 'front': 0, 'back': 0, 'none': 0, 'down': 0}, '3ebcdf68-d7b5-4bf6-a62b-53196b35fb62': {'count': 2, 'left': 1, 'right': 0, 'front': 0, 'back': 1, 'none': 0, 'down': 0}, 'e042a62a-3a5f-421f-aaa6-cbe5f15b528a': {'count': 1, 'left': 1, 'right': 0, 'front': 0, 'back': 0, 'none': 0, 'down': 0}, 'ac29702e-335e-42c5-898a-a2cd8c944a1e': {'count': 1, 'left': 0, 'right': 1, 'front': 0, 'back': 0, 'none': 0, 'down': 0}, 'afa56b39-b6dd-4bbd-99b5-33d75e4d7767': {'count': 1, 'left': 1, 'right': 0, 'front': 0, 'back': 0, 'none': 0, 'down': 0}, '227f0796-1099-4eca-b504-e1252df57cd4': {'count': 3, 'left': 2, 'right': 0, 'front': 0, 'back': 1, 'none': 0, 'down': 0}, 'c295572c-78f0-4b3e-bd73-3f6880e1324f': {'count': 5, 'left': 4, 'right': 1, 'front': 0, 'back': 0, 'none': 0, 'down': 0}, '924bdc19-a3cd-467d-abcb-36702d12f270': {'count': 20, 'left': 7, 'right': 4, 'front': 2, 'back': 7, 'none': 0, 'down': 0}, 'a59a54c2-b125-461a-9d3a-ad9d8946831a': {'count': 2, 'left': 2, 'right': 0, 'front': 0, 'back': 0, 'none': 0, 'down': 0}, '3d8b57b0-4a3d-462f-b49b-eccc67b11565': {'count': 9, 'left': 2, 'right': 2, 'front': 3, 'back': 2, 'none': 0, 'down': 0}, '00e079c2-dc1a-4ffa-916d-6cfe90c24dc5': {'count': 4, 'left': 2, 'right': 2, 'front': 0, 'back': 0, 'none': 0, 'down': 0}, '7f76fbe1-6dbf-47dd-9a1e-e858a7b6482a': {'count': 1, 'left': 1, 'right': 0, 'front': 0, 'back': 0, 'none': 0, 'down': 0}, '155d9edd-4783-41c6-9c88-db680c503c67': {'count': 2, 'left': 0, 'right': 2, 'front': 0, 'back': 0, 'none': 0, 'down': 0}, 'ea56c938-925e-435c-a50c-7d5e95fcad34': {'count': 3, 'left': 0, 'right': 0, 'front': 3, 'back': 0, 'none': 0, 'down': 0}, '2d485e36-2fc2-4d89-815f-c904b7d5ca7d': {'count': 2, 'left': 1, 'right': 1, 'front': 0, 'back': 0, 'none': 0, 'down': 0}, '42508668-124b-43b9-8638-80edf76bab8e': {'count': 4, 'left': 2, 'right': 1, 'front': 0, 'back': 1, 'none': 0, 'down': 0}, '92437da8-2675-48f5-9c85-16710baa0eef': {'count': 3, 'left': 1, 'right': 1, 'front': 0, 'back': 1, 'none': 0, 'down': 0}, 'ba80db55-8aeb-4a61-a170-f44a4d6befe5': {'count': 4, 'left': 1, 'right': 1, 'front': 1, 'back': 1, 'none': 0, 'down': 0}, 'edecc397-ed15-4851-82f5-b187f67111a3': {'count': 2, 'left': 1, 'right': 0, 'front': 1, 'back': 0, 'none': 0, 'down': 0}, '274d8888-7603-441d-90ba-c2fd266e108a': {'count': 1, 'left': 1, 'right': 0, 'front': 0, 'back': 0, 'none': 0, 'down': 0}, '706f8ab7-d03b-49e2-8926-46a9525f9c58': {'count': 2, 'left': 0, 'right': 0, 'front': 2, 'back': 0, 'none': 0, 'down': 0}, '159886bb-f624-4e29-b59a-100c5741beef': {'count': 9, 'left': 5, 'right': 0, 'front': 0, 'back': 3, 'none': 1, 'down': 0}, 'b4ba6753-bb00-4b50-b1fd-05e48e5472b8': {'count': 9, 'left': 3, 'right': 6, 'front': 0, 'back': 0, 'none': 0, 'down': 0}, '4f4f93a5-cdc9-4fdb-901e-18d9228dd6fa': {'count': 2, 'left': 2, 'right': 0, 'front': 0, 'back': 0, 'none': 0, 'down': 0}, '88509951-0d31-4405-aa75-e85a071e94a6': {'count': 2, 'left': 0, 'right': 1, 'front': 1, 'back': 0, 'none': 0, 'down': 0}, '18bae73b-3a3f-4328-8023-38941ac56c98': {'count': 2, 'left': 1, 'right': 1, 'front': 0, 'back': 0, 'none': 0, 'down': 0}, 'a41e17ba-38d9-4680-b822-4e0e6b0ccaf7': {'count': 3, 'left': 0, 'right': 3, 'front': 0, 'back': 0, 'none': 0, 'down': 0}, '7236933a-a356-4fd3-bcb9-9eef2c01a340': {'count': 1, 'left': 0, 'right': 0, 'front': 0, 'back': 0, 'none': 1, 'down': 0}, '8b743217-9b38-4ee1-acc9-a666e126ecc1': {'count': 1, 'left': 0, 'right': 1, 'front': 0, 'back': 0, 'none': 0, 'down': 0}, 'd0bb7df8-1f9b-4132-9275-618713a9dcfb': {'count': 1, 'left': 1, 'right': 0, 'front': 0, 'back': 0, 'none': 0, 'down': 0}, '3e7c7443-f123-4181-aeb2-3668d36211b8': {'count': 6, 'left': 4, 'right': 1, 'front': 0, 'back': 1, 'none': 0, 'down': 0}}\n",
            "431\n"
          ]
        }
      ]
    },
    {
      "cell_type": "code",
      "source": [
        "# Get individual leopard counts\n",
        "lep_count=[individuals[leopard]['count'] for leopard in dict(list(individuals.items()))]\n",
        "\n",
        "# Plot the histogram of images per individual leopard\n",
        "fig, ax = plt.subplots(1, 1)\n",
        "fig.set_size_inches(12, 9, forward=True)\n",
        "ax.hist(lep_count, bins=50)\n",
        "ax.set_title(\"Histogram of individual leopards\")\n",
        "ax.set_xlabel(\"images\")\n",
        "ax.set_ylabel(\"count of individuals\")"
      ],
      "metadata": {
        "colab": {
          "base_uri": "https://localhost:8080/",
          "height": 584
        },
        "id": "4tPamJ_Ni6ol",
        "outputId": "96f99f2c-7fa2-41e9-84e8-34e4676df43c"
      },
      "execution_count": 21,
      "outputs": [
        {
          "output_type": "execute_result",
          "data": {
            "text/plain": [
              "Text(0, 0.5, 'count of individuals')"
            ]
          },
          "metadata": {},
          "execution_count": 21
        },
        {
          "output_type": "display_data",
          "data": {
            "text/plain": [
              "<Figure size 864x648 with 1 Axes>"
            ],
            "image/png": "[encoded data removed]"
          },
          "metadata": {
            "needs_background": "light"
          }
        }
      ]
    },
    {
      "cell_type": "markdown",
      "source": [
        "## How balanced are the images based on the viewpoint?\n",
        "We are trying to identify leopards based on their spots. We know that the pattern differ based on the flank or other body parts. For this reason, having a balanced set of orientations would help the model identify a specific leopard."
      ],
      "metadata": {
        "id": "7-G7L9dIjPyi"
      }
    },
    {
      "cell_type": "code",
      "source": [
        "# Get all the viewpoints given an individual leopard\n",
        "lep_left=[individuals[leopard]['left'] for leopard in dict(list(individuals.items()))]\n",
        "lep_right=[individuals[leopard]['right'] for leopard in dict(list(individuals.items()))]\n",
        "lep_front=[individuals[leopard]['front'] for leopard in dict(list(individuals.items()))]\n",
        "lep_back=[individuals[leopard]['back'] for leopard in dict(list(individuals.items()))]\n",
        "lep_down=[individuals[leopard]['down'] for leopard in dict(list(individuals.items()))]\n",
        "lep_none=[individuals[leopard]['none'] for leopard in dict(list(individuals.items()))]\n",
        "\n",
        "totalImgByView=[sum(lep_left), sum(lep_right),sum(lep_front),sum(lep_back),sum(lep_down),sum(lep_none)]\n",
        "\n",
        "viewnames=['Left', 'Right', 'Front', 'Back', 'Down', \"None\"]"
      ],
      "metadata": {
        "id": "U_C-dwyl3IEy"
      },
      "execution_count": 22,
      "outputs": []
    },
    {
      "cell_type": "code",
      "source": [
        "# plot the viewpoints\n",
        "fig, ax = plt.subplots(1, 1)\n",
        "fig.set_size_inches(12, 9, forward=True)\n",
        "ax.bar(x=viewnames,height=totalImgByView)\n",
        "ax.set_title(\"Images by viewpoint\")\n",
        "ax.set_xlabel(\"Viewpoint\")\n",
        "ax.set_ylabel(\"count of images\")"
      ],
      "metadata": {
        "colab": {
          "base_uri": "https://localhost:8080/",
          "height": 584
        },
        "id": "I84vTqNbjtwq",
        "outputId": "8c596be1-0517-4383-a26f-e1b01dd6928e"
      },
      "execution_count": 24,
      "outputs": [
        {
          "output_type": "execute_result",
          "data": {
            "text/plain": [
              "Text(0, 0.5, 'count of images')"
            ]
          },
          "metadata": {},
          "execution_count": 24
        },
        {
          "output_type": "display_data",
          "data": {
            "text/plain": [
              "<Figure size 864x648 with 1 Axes>"
            ],
            "image/png": "[encoded data removed]"
          },
          "metadata": {
            "needs_background": "light"
          }
        }
      ]
    },
    {
      "cell_type": "markdown",
      "source": [
        "## How imbalanced are the viewpoints by individual leopard?\n",
        "Now we're plotting the viewpoints given each of the 431 individual leopards."
      ],
      "metadata": {
        "id": "sL2SbWKUG3rq"
      }
    },
    {
      "cell_type": "code",
      "source": [
        "# function for setting the colors of the box plots pairs\n",
        "def setBoxColors(bp):\n",
        "    plt.setp(bp['boxes'][0], color='blue')\n",
        "    plt.setp(bp['caps'][0], color='blue')\n",
        "    plt.setp(bp['whiskers'][0], color='blue')\n",
        "    plt.setp(bp['fliers'][0], color='blue')\n",
        "    plt.setp(bp['medians'][0], color='blue')\n",
        "\n",
        "# Some fake data to plot\n",
        "A = lep_left\n",
        "B = lep_right\n",
        "C = lep_front\n",
        "D = lep_back\n",
        "E = lep_down\n",
        "F = lep_none\n",
        "\n",
        "fig = plt.figure()\n",
        "fig.set_size_inches(12, 9, forward=True)\n",
        "ax = plt.axes()\n",
        "# hold(True)\n",
        "\n",
        "# first boxplot pair\n",
        "bp = plt.boxplot(A\n",
        "             , positions = [1]\n",
        "             , widths = 0.6)\n",
        "setBoxColors(bp)\n",
        "\n",
        "# second boxplot pair\n",
        "bp = plt.boxplot(B\n",
        "             , positions = [3]\n",
        "             , widths = 0.6)\n",
        "setBoxColors(bp)\n",
        "\n",
        "# thrid boxplot pair\n",
        "bp = plt.boxplot(C\n",
        "             , positions = [5]\n",
        "             , widths = 0.6)\n",
        "setBoxColors(bp)\n",
        "\n",
        "# fourth boxplot pair\n",
        "bp = plt.boxplot(D\n",
        "             , positions = [7]\n",
        "             , widths = 0.6)\n",
        "setBoxColors(bp)\n",
        "\n",
        "# fifth boxplot pair\n",
        "bp = plt.boxplot(E\n",
        "             , positions = [9]\n",
        "             , widths = 0.6)\n",
        "setBoxColors(bp)\n",
        "\n",
        "# Sixth boxplot pair\n",
        "bp = plt.boxplot(F\n",
        "             , positions = [11]\n",
        "             , widths = 0.6)\n",
        "setBoxColors(bp)\n",
        "\n",
        "# set axes limits and labels\n",
        "ax.set_xlim(0,12)\n",
        "ax.set_ylim(-1,10)\n",
        "ax.set_xticklabels(viewnames)\n",
        "ax.set_xticks([1,3,5,7,9,11])\n",
        "ax.set_ylabel(\"Images by individual leopard\")\n",
        "\n",
        "plt.title(\"Image count by viewpoint\")\n",
        "plt.show()"
      ],
      "metadata": {
        "colab": {
          "base_uri": "https://localhost:8080/",
          "height": 553
        },
        "id": "V-GNRNBs3Pbg",
        "outputId": "4fee8f96-7b68-4581-bd90-3880900c1fbd"
      },
      "execution_count": 23,
      "outputs": [
        {
          "output_type": "display_data",
          "data": {
            "text/plain": [
              "<Figure size 864x648 with 1 Axes>"
            ],
            "image/png": "[encoded data removed]"
          },
          "metadata": {
            "needs_background": "light"
          }
        }
      ]
    },
    {
      "cell_type": "markdown",
      "source": [
        "We can see how most of the leopards have between two to four images from the left and right flank. While images from the front and back are scarce. About 25% of the individuals have only one from the front and back. There are some rare images with images from down. We also have some outlier classes which we would need to undersample."
      ],
      "metadata": {
        "id": "35EiZqAxHCMa"
      }
    },
    {
      "cell_type": "markdown",
      "source": [
        "# What is the image size distribution?"
      ],
      "metadata": {
        "id": "ES3YjrpBIFeY"
      }
    },
    {
      "cell_type": "code",
      "source": [
        "fig, ax = plt.subplots(1, 2)\n",
        "fig.set_size_inches(16, 9, forward=True)\n",
        "\n",
        "ax[0].hist(df.width, bins=20)\n",
        "ax[0].set_title(\"Width distribution\")\n",
        "ax[1].hist(df.height, bins=20)\n",
        "ax[1].set_title(\"Height distribution\")"
      ],
      "metadata": {
        "colab": {
          "base_uri": "https://localhost:8080/",
          "height": 570
        },
        "id": "Sww8-I4Ii-ww",
        "outputId": "ab01b2ba-ef8f-439f-f3e1-655ab005d883"
      },
      "execution_count": 52,
      "outputs": [
        {
          "output_type": "execute_result",
          "data": {
            "text/plain": [
              "Text(0.5, 1.0, 'Height distribution')"
            ]
          },
          "metadata": {},
          "execution_count": 52
        },
        {
          "output_type": "display_data",
          "data": {
            "text/plain": [
              "<Figure size 1152x648 with 2 Axes>"
            ],
            "image/png": "[encoded data removed]"
          },
          "metadata": {
            "needs_background": "light"
          }
        }
      ]
    },
    {
      "cell_type": "markdown",
      "source": [
        "# What is the aspect ratio distribution?"
      ],
      "metadata": {
        "id": "bqFqxLqqIW15"
      }
    },
    {
      "cell_type": "code",
      "source": [
        "# Plot aspect ratio\n",
        "fig, ax = plt.subplots(1, 1)\n",
        "fig.set_size_inches(12, 9, forward=True)\n",
        "\n",
        "plt.hist(df.height/df.width, bins=20)\n",
        "plt.title(\"Aspect Ratio Distribution (Height/Width)\")"
      ],
      "metadata": {
        "colab": {
          "base_uri": "https://localhost:8080/",
          "height": 570
        },
        "id": "0TTozEopIdUM",
        "outputId": "a44020dc-19f8-4180-8ff5-807eb8c21215"
      },
      "execution_count": 53,
      "outputs": [
        {
          "output_type": "execute_result",
          "data": {
            "text/plain": [
              "Text(0.5, 1.0, 'Aspect Ratio Distribution (Height/Width)')"
            ]
          },
          "metadata": {},
          "execution_count": 53
        },
        {
          "output_type": "display_data",
          "data": {
            "text/plain": [
              "<Figure size 864x648 with 1 Axes>"
            ],
            "image/png": "[encoded data removed]"
          },
          "metadata": {
            "needs_background": "light"
          }
        }
      ]
    },
    {
      "cell_type": "markdown",
      "source": [
        "# Fifty one dataset\n",
        "Let's create a dataset on fifty one using the coco format (original)"
      ],
      "metadata": {
        "id": "APae2XZRDwXN"
      }
    },
    {
      "cell_type": "code",
      "source": [
        "# The directory containing the source images\n",
        "data_path = \"/mydrive/MIDS/W210/leopard.coco/images/train2022/\"\n",
        "\n",
        "# The path to the COCO labels JSON file\n",
        "labels_path = \"/mydrive/MIDS/W210/leopard.coco/annotations/instances_train2022.json\"\n",
        "\n",
        "# The path of train, test splits\n",
        "output_path=\"/mydrive/MIDS/W210/Animal_Identification/datasets/leopard\"\n"
      ],
      "metadata": {
        "id": "iyXl-HiNgCKw"
      },
      "execution_count": 5,
      "outputs": []
    },
    {
      "cell_type": "code",
      "source": [
        "# Import the dataset\n",
        "dataset = fo.Dataset.from_dir(\n",
        "    dataset_type=fo.types.COCODetectionDataset,\n",
        "    data_path=data_path,\n",
        "    labels_path=labels_path,\n",
        "    # label_types=\"detections\",\n",
        "    include_id=True,\n",
        "    extra_attrs=['viewpoint']\n",
        ")"
      ],
      "metadata": {
        "colab": {
          "base_uri": "https://localhost:8080/"
        },
        "id": "WcynacznEwDV",
        "outputId": "9e53cd19-6adf-4a04-d59b-1408763e24ab"
      },
      "execution_count": 6,
      "outputs": [
        {
          "output_type": "stream",
          "name": "stdout",
          "text": [
            " 100% |███████████████| 6795/6795 [12.6s elapsed, 0s remaining, 561.8 samples/s]      \n"
          ]
        }
      ]
    },
    {
      "cell_type": "code",
      "source": [
        "dataset.first()"
      ],
      "metadata": {
        "colab": {
          "base_uri": "https://localhost:8080/"
        },
        "id": "G3LEnISugiA8",
        "outputId": "04bd0e38-7621-40dd-98e0-58743e7fe42d"
      },
      "execution_count": 8,
      "outputs": [
        {
          "output_type": "execute_result",
          "data": {
            "text/plain": [
              "<Sample: {\n",
              "    'id': '629bec4b00147e0131403b7b',\n",
              "    'media_type': 'image',\n",
              "    'filepath': '/mydrive/MIDS/W210/leopard.coco/images/train2022/000000000001.jpg',\n",
              "    'tags': BaseList([]),\n",
              "    'metadata': <ImageMetadata: {\n",
              "        'size_bytes': None,\n",
              "        'mime_type': None,\n",
              "        'width': 2400,\n",
              "        'height': 1800,\n",
              "        'num_channels': None,\n",
              "    }>,\n",
              "    'detections': <Detections: {\n",
              "        'detections': BaseList([\n",
              "            <Detection: {\n",
              "                'id': '629bec4b00147e0131403b7a',\n",
              "                'attributes': BaseDict({}),\n",
              "                'tags': BaseList([]),\n",
              "                'label': 'leopard',\n",
              "                'bounding_box': BaseList([\n",
              "                    0.06792534722222222,\n",
              "                    0.22887731481481483,\n",
              "                    0.900607638888889,\n",
              "                    0.6875,\n",
              "                ]),\n",
              "                'mask': None,\n",
              "                'confidence': None,\n",
              "                'index': None,\n",
              "                'supercategory': 'animal',\n",
              "                'iscrowd': 0,\n",
              "                'viewpoint': 'front',\n",
              "            }>,\n",
              "        ]),\n",
              "    }>,\n",
              "    'coco_id': 1,\n",
              "}>"
            ]
          },
          "metadata": {},
          "execution_count": 8
        }
      ]
    },
    {
      "cell_type": "code",
      "source": [
        "# Run Fifty One session\n",
        "session = fo.launch_app(dataset)"
      ],
      "metadata": {
        "id": "SUY01UCxgWSx"
      },
      "execution_count": null,
      "outputs": []
    }
  ]
}