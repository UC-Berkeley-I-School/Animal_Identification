{
 "cells": [
  {
   "cell_type": "code",
   "execution_count": null,
   "metadata": {
    "id": "sx9e_pXlCuti"
   },
   "outputs": [],
   "source": [
    "%load_ext autoreload\n",
    "%autoreload 2"
   ]
  },
  {
   "cell_type": "markdown",
   "metadata": {
    "id": "MfJfYeZKW_G-"
   },
   "source": []
  },
  {
   "cell_type": "code",
   "execution_count": null,
   "metadata": {
    "colab": {
     "base_uri": "https://localhost:8080/"
    },
    "executionInfo": {
     "elapsed": 20434,
     "status": "ok",
     "timestamp": 1658883131868,
     "user": {
      "displayName": "Madhu Hegde",
      "userId": "05863931517844431420"
     },
     "user_tz": 420
    },
    "id": "nyfx8ErC7I87",
    "outputId": "a58acf80-1e52-4585-e656-61b17dc26637"
   },
   "outputs": [],
   "source": [
    "from google.colab import drive\n",
    "drive.mount('/content/gdrive')\n",
    "!ln -s /content/gdrive/MyDrive /mydrive\n",
    "%cd /mydrive/\n"
   ]
  },
  {
   "cell_type": "markdown",
   "metadata": {
    "id": "UMMut8UVCutt"
   },
   "source": [
    "# Experiments\n",
    "We'll go through learning feature embeddings using different loss functions on leopard  dataset. We are using 512-dimensional embeddings.\n",
    "\n",
    "For every experiment Resnet18() is used currently no  hyperparameter search is implemented."
   ]
  },
  {
   "cell_type": "markdown",
   "metadata": {
    "id": "BcmGBqXeCutw"
   },
   "source": [
    "# Prepare dataset\n",
    "We'll be working on leopard dataset"
   ]
  },
  {
   "cell_type": "code",
   "execution_count": 1,
   "metadata": {
    "executionInfo": {
     "elapsed": 2608,
     "status": "ok",
     "timestamp": 1658883146373,
     "user": {
      "displayName": "Madhu Hegde",
      "userId": "05863931517844431420"
     },
     "user_tz": 420
    },
    "id": "yWtk_bJJKKBR"
   },
   "outputs": [],
   "source": [
    "import torchvision\n",
    "from torchvision import transforms\n",
    "from torchvision.datasets import ImageFolder\n",
    "import torch.utils.data as data\n",
    "import torch\n",
    "transform_img = transforms.Compose([\n",
    "    #transforms.Resize(size= (128, 128)),\n",
    "    transforms.ToTensor(),\n",
    "    transforms.Normalize(mean=[0.485, 0.456, 0.406],\n",
    "                         std=[0.229, 0.224, 0.225] )\n",
    "    ])"
   ]
  },
  {
   "cell_type": "code",
   "execution_count": 2,
   "metadata": {
    "colab": {
     "base_uri": "https://localhost:8080/"
    },
    "executionInfo": {
     "elapsed": 103703,
     "status": "ok",
     "timestamp": 1658883252833,
     "user": {
      "displayName": "Madhu Hegde",
      "userId": "05863931517844431420"
     },
     "user_tz": 420
    },
    "id": "o8lLb7ZNMJ-M",
    "outputId": "b9fd9ff1-890d-4b25-d7cb-6fafe33b1767"
   },
   "outputs": [],
   "source": [
    "#%cd /mydrive/W210/Animal_Identification/siamese-triplet/\n",
    "\n",
    "from siamese_triplet.datasets import LeopardDataset\n",
    "\n",
    "MULTI_EMBEDDING = True\n",
    "cuda = torch.cuda.is_available()\n",
    "\n",
    "if MULTI_EMBEDDING:\n",
    "    TRAIN_DATA_PATH = '../datasets/leopard/classes_64/resize_256/train'\n",
    "    train_dataset = LeopardDataset(image_dir=TRAIN_DATA_PATH,transform=transform_img)\n",
    "    TEST_DATA_PATH = '../datasets/leopard/classes_64/resize_256/test'\n",
    "    test_dataset = LeopardDataset(image_dir=TEST_DATA_PATH,transform=transform_img)\n",
    "\n",
    "else:\n",
    "    TRAIN_DATA_PATH = '../../datasets/temp'\n",
    "    train_dataset = torchvision.datasets.ImageFolder(root=TRAIN_DATA_PATH, transform=transform_img)\n",
    "    TEST_DATA_PATH = '../../datasets/temp'\n",
    "    test_dataset = torchvision.datasets.ImageFolder(root=TEST_DATA_PATH, transform=transform_img)"
   ]
  },
  {
   "cell_type": "markdown",
   "metadata": {
    "id": "TcZTFRnjCut3"
   },
   "source": [
    "## Common setup"
   ]
  },
  {
   "cell_type": "markdown",
   "metadata": {
    "id": "75moY8AyCut_"
   },
   "source": [
    "# Baseline: Classification with softmax\n",
    "We'll train the model for classification and use outputs of penultimate layer as embeddings"
   ]
  },
  {
   "cell_type": "markdown",
   "metadata": {
    "id": "x7C9H1_nCuvJ"
   },
   "source": [
    "# Online pair/triplet selection - negative mining\n",
    "There are couple of problems with siamese and triplet networks.\n",
    "1. The number of possible pairs/triplets grows **quadratically/cubically** with the number of examples. It's infeasible to process them all\n",
    "2. We generate pairs/triplets randomly. As the training continues, more and more pairs/triplets are easy to deal with (their loss value is very small or even 0), preventing the network from training. We need to provide the network with **hard examples**.\n",
    "3. Each image that is fed to the network is used only for computation of contrastive/triplet loss for only one pair/triplet. The computation is somewhat wasted; once the embedding is computed, it could be reused for many pairs/triplets.\n",
    "\n",
    "To deal with that efficiently, we'll feed a network with standard mini-batches as we did for classification. The loss function will be responsible for selection of hard pairs and triplets within mini-batch. In these case, if we feed the network with 16 images per 10 classes, we can process up to $159*160/2 = 12720$ pairs and $10*16*15/2*(9*16) = 172800$ triplets, compared to 80 pairs and 53 triplets in previous implementation.\n",
    "\n",
    "We can find some strategies on how to select triplets in [2] and [3] *Alexander Hermans, Lucas Beyer, Bastian Leibe, [In Defense of the Triplet Loss for Person Re-Identification](https://arxiv.org/pdf/1703.07737), 2017*"
   ]
  },
  {
   "cell_type": "markdown",
   "metadata": {
    "id": "UgIGiMwICuvn"
   },
   "source": [
    "## Online triplet selection\n",
    "## Steps\n",
    "1. Create **BalancedBatchSampler** - samples $N$ classes and $M$ samples *datasets.py*\n",
    "2. Create data loaders with the batch sampler\n",
    "3. Define **embedding** *(mapping)* network $f(x)$ - **EmbeddingNet** from *networks.py*\n",
    "4. Define a **TripletSelector** that takes embeddings and original labels and returns valid triplets within a minibatch\n",
    "5. Define **OnlineTripletLoss** that will use a *TripletSelector* and compute *TripletLoss* on such pairs\n",
    "6. Train the network!"
   ]
  },
  {
   "cell_type": "code",
   "execution_count": 3,
   "metadata": {
    "colab": {
     "base_uri": "https://localhost:8080/",
     "height": 176,
     "referenced_widgets": [
      "777b64e062194a8389d3ec5c15128faa",
      "95f8d8c9db6542b8a0806fb8f589cbb9",
      "b91cd4d5997743e790fd9a26a7d59246",
      "26118d43b0aa46999846003373063a58",
      "04c4d292430e44858206d6969d2faeca",
      "4674a4bc91f142c285816a0b7fea3031",
      "e8369f34a28f4190bbe5340548483afe",
      "3eeb4a10f98c4c528b8cb5e6c8706dd7",
      "c4ed85e531ae4fcfa783ddf7c5f29372",
      "a41d444425ed407a89493daa34ec0fc5",
      "d7f7cd1e0ba041efb771707939664786"
     ]
    },
    "executionInfo": {
     "elapsed": 7414,
     "status": "ok",
     "timestamp": 1658883260234,
     "user": {
      "displayName": "Madhu Hegde",
      "userId": "05863931517844431420"
     },
     "user_tz": 420
    },
    "id": "_Z2k3EZpT3bB",
    "outputId": "30038cb8-9bdf-4187-c00b-2c21f946273a"
   },
   "outputs": [
    {
     "name": "stdout",
     "output_type": "stream",
     "text": [
      "Model does not exist\n"
     ]
    }
   ],
   "source": [
    "import numpy\n",
    "from torch.optim import lr_scheduler\n",
    "import torch.optim as optim\n",
    "from torch.autograd import Variable\n",
    "\n",
    "from siamese_triplet.trainer import fit\n",
    "import numpy as np\n",
    "from siamese_triplet.datasets import BalancedBatchSampler\n",
    "import torch.nn as nn\n",
    "\n",
    "    \n",
    "train_labels = torch.tensor(train_dataset.targets)\n",
    "test_labels = torch.tensor(test_dataset.targets)\n",
    "# We'll create mini batches by sampling labels that will be present in the mini batch and number of examples from each class\n",
    "train_batch_sampler = BalancedBatchSampler(train_labels, n_classes=64, n_samples=8)\n",
    "test_batch_sampler = BalancedBatchSampler(test_labels, n_classes=64, n_samples=2)\n",
    "kwargs = {'num_workers': 1, 'pin_memory': True} if cuda else {}\n",
    "online_train_loader = torch.utils.data.DataLoader(train_dataset, batch_sampler=train_batch_sampler, **kwargs)\n",
    "online_test_loader = torch.utils.data.DataLoader(test_dataset, batch_sampler=test_batch_sampler, **kwargs)\n",
    "\n",
    "# Set up the network and training parameters\n",
    "from siamese_triplet.networks import EmbeddingNet\n",
    "\n",
    "from siamese_triplet.losses import OnlineTripletLoss\n",
    "from siamese_triplet.losses import OnlineSymTripletLoss\n",
    "from siamese_triplet.losses import OnlineModTripletLoss\n",
    "\n",
    "from siamese_triplet.utils_triplet import AllTripletSelector\n",
    "from siamese_triplet.utils_triplet import HardestNegativeTripletSelector\n",
    "from siamese_triplet.utils_triplet import RandomNegativeTripletSelector\n",
    "from siamese_triplet.utils_triplet import SemihardNegativeTripletSelector\n",
    "from siamese_triplet.utils_triplet import SemihardNegativeCentroidTripletSelector # Strategies for selecting triplets within a minibatch\n",
    "\n",
    "from siamese_triplet.metrics import AverageNonzeroTripletsMetric\n",
    "from sklearn.metrics import f1_score, classification_report \n",
    "\n",
    "margin = 0.25\n",
    "\n",
    "try:\n",
    "    model\n",
    "    del model\n",
    "except NameError:\n",
    "    print('Model does not exist')\n",
    "\n",
    "softmax = False\n",
    "embedding_net = EmbeddingNet()        \n",
    "model = embedding_net\n",
    "\n",
    "if cuda:\n",
    "    model.cuda()\n",
    "loss_fn = OnlineTripletLoss(margin, SemihardNegativeTripletSelector(margin))\n",
    "lr = 1e-3\n",
    "optimizer = optim.Adam(model.parameters(), lr=lr, weight_decay=1e-4)\n",
    "scheduler = lr_scheduler.StepLR(optimizer, 8, gamma=0.1, last_epoch=-1)\n",
    "n_epochs = 20\n",
    "log_interval = 50\n",
    "softmax_loss_fn = nn.CrossEntropyLoss()"
   ]
  },
  {
   "cell_type": "code",
   "execution_count": 4,
   "metadata": {
    "colab": {
     "base_uri": "https://localhost:8080/"
    },
    "executionInfo": {
     "elapsed": 750674,
     "status": "ok",
     "timestamp": 1658884013352,
     "user": {
      "displayName": "Madhu Hegde",
      "userId": "05863931517844431420"
     },
     "user_tz": 420
    },
    "id": "W-bDxqVJCuvs",
    "outputId": "5d98e57c-2530-4839-ad35-cb43449a9658"
   },
   "outputs": [
    {
     "name": "stdout",
     "output_type": "stream",
     "text": [
      "Train: [0/853 (0%)]\tLoss: 0.145757\tAverage nonzero triplets: 1691.0\n",
      "Model Saved\n",
      "Epoch: 1/20. Train set: Average loss: 0.1458\tAverage nonzero triplets: 1691.0\n",
      "Epoch: 1/20. Validation set: Average loss: 0.1427\tAverage nonzero triplets: 53.0\n",
      "Train: [0/853 (0%)]\tLoss: 0.119253\tAverage nonzero triplets: 1689.0\n",
      "Epoch: 2/20. Train set: Average loss: 0.1193\tAverage nonzero triplets: 1689.0\n",
      "Epoch: 2/20. Validation set: Average loss: 0.1465\tAverage nonzero triplets: 53.0\n",
      "Train: [0/853 (0%)]\tLoss: 0.116187\tAverage nonzero triplets: 1691.0\n",
      "Epoch: 3/20. Train set: Average loss: 0.1162\tAverage nonzero triplets: 1691.0\n",
      "Epoch: 3/20. Validation set: Average loss: 0.1244\tAverage nonzero triplets: 53.0\n",
      "Train: [0/853 (0%)]\tLoss: 0.114621\tAverage nonzero triplets: 1666.0\n",
      "Epoch: 4/20. Train set: Average loss: 0.1146\tAverage nonzero triplets: 1666.0\n",
      "Epoch: 4/20. Validation set: Average loss: 0.1316\tAverage nonzero triplets: 53.0\n",
      "Train: [0/853 (0%)]\tLoss: 0.111527\tAverage nonzero triplets: 1672.0\n",
      "Epoch: 5/20. Train set: Average loss: 0.1115\tAverage nonzero triplets: 1672.0\n",
      "Epoch: 5/20. Validation set: Average loss: 0.1237\tAverage nonzero triplets: 53.0\n",
      "Train: [0/853 (0%)]\tLoss: 0.112791\tAverage nonzero triplets: 1649.0\n",
      "Model Saved\n",
      "Epoch: 6/20. Train set: Average loss: 0.1128\tAverage nonzero triplets: 1649.0\n",
      "Epoch: 6/20. Validation set: Average loss: 0.1273\tAverage nonzero triplets: 52.0\n",
      "Train: [0/853 (0%)]\tLoss: 0.109847\tAverage nonzero triplets: 1616.0\n",
      "Epoch: 7/20. Train set: Average loss: 0.1098\tAverage nonzero triplets: 1616.0\n",
      "Epoch: 7/20. Validation set: Average loss: 0.1139\tAverage nonzero triplets: 52.0\n",
      "Train: [0/853 (0%)]\tLoss: 0.103970\tAverage nonzero triplets: 1566.0\n",
      "Epoch: 8/20. Train set: Average loss: 0.1040\tAverage nonzero triplets: 1566.0\n",
      "Epoch: 8/20. Validation set: Average loss: 0.1077\tAverage nonzero triplets: 53.0\n",
      "Train: [0/853 (0%)]\tLoss: 0.109150\tAverage nonzero triplets: 1535.0\n",
      "Epoch: 9/20. Train set: Average loss: 0.1091\tAverage nonzero triplets: 1535.0\n",
      "Epoch: 9/20. Validation set: Average loss: 0.1137\tAverage nonzero triplets: 52.0\n",
      "Train: [0/853 (0%)]\tLoss: 0.104675\tAverage nonzero triplets: 1529.0\n",
      "Epoch: 10/20. Train set: Average loss: 0.1047\tAverage nonzero triplets: 1529.0\n",
      "Epoch: 10/20. Validation set: Average loss: 0.1109\tAverage nonzero triplets: 52.0\n",
      "Train: [0/853 (0%)]\tLoss: 0.102737\tAverage nonzero triplets: 1512.0\n",
      "Epoch: 11/20. Train set: Average loss: 0.1027\tAverage nonzero triplets: 1512.0\n",
      "Epoch: 11/20. Validation set: Average loss: 0.1355\tAverage nonzero triplets: 49.0\n",
      "Train: [0/853 (0%)]\tLoss: 0.100042\tAverage nonzero triplets: 1527.0\n",
      "Model Saved\n",
      "Epoch: 12/20. Train set: Average loss: 0.1000\tAverage nonzero triplets: 1527.0\n",
      "Epoch: 12/20. Validation set: Average loss: 0.1192\tAverage nonzero triplets: 51.0\n",
      "Train: [0/853 (0%)]\tLoss: 0.104996\tAverage nonzero triplets: 1471.0\n",
      "Epoch: 13/20. Train set: Average loss: 0.1050\tAverage nonzero triplets: 1471.0\n",
      "Epoch: 13/20. Validation set: Average loss: 0.1074\tAverage nonzero triplets: 52.0\n",
      "Train: [0/853 (0%)]\tLoss: 0.103144\tAverage nonzero triplets: 1502.0\n",
      "Epoch: 14/20. Train set: Average loss: 0.1031\tAverage nonzero triplets: 1502.0\n",
      "Epoch: 14/20. Validation set: Average loss: 0.1080\tAverage nonzero triplets: 53.0\n",
      "Train: [0/853 (0%)]\tLoss: 0.100717\tAverage nonzero triplets: 1424.0\n",
      "Epoch: 15/20. Train set: Average loss: 0.1007\tAverage nonzero triplets: 1424.0\n",
      "Epoch: 15/20. Validation set: Average loss: 0.1182\tAverage nonzero triplets: 51.0\n",
      "Train: [0/853 (0%)]\tLoss: 0.099261\tAverage nonzero triplets: 1405.0\n",
      "Model Saved\n",
      "Epoch: 16/20. Train set: Average loss: 0.0993\tAverage nonzero triplets: 1405.0\n",
      "Epoch: 16/20. Validation set: Average loss: 0.1047\tAverage nonzero triplets: 49.0\n",
      "Train: [0/853 (0%)]\tLoss: 0.101872\tAverage nonzero triplets: 1353.0\n",
      "Epoch: 17/20. Train set: Average loss: 0.1019\tAverage nonzero triplets: 1353.0\n",
      "Epoch: 17/20. Validation set: Average loss: 0.1259\tAverage nonzero triplets: 51.0\n",
      "Train: [0/853 (0%)]\tLoss: 0.099365\tAverage nonzero triplets: 1383.0\n",
      "Epoch: 18/20. Train set: Average loss: 0.0994\tAverage nonzero triplets: 1383.0\n",
      "Epoch: 18/20. Validation set: Average loss: 0.1114\tAverage nonzero triplets: 52.0\n",
      "Train: [0/853 (0%)]\tLoss: 0.094854\tAverage nonzero triplets: 1389.0\n",
      "Epoch: 19/20. Train set: Average loss: 0.0949\tAverage nonzero triplets: 1389.0\n",
      "Epoch: 19/20. Validation set: Average loss: 0.1027\tAverage nonzero triplets: 49.0\n",
      "Train: [0/853 (0%)]\tLoss: 0.098147\tAverage nonzero triplets: 1378.0\n",
      "Epoch: 20/20. Train set: Average loss: 0.0981\tAverage nonzero triplets: 1378.0\n",
      "Epoch: 20/20. Validation set: Average loss: 0.1013\tAverage nonzero triplets: 52.0\n"
     ]
    }
   ],
   "source": [
    "fit(online_train_loader, \n",
    "    online_test_loader, \n",
    "    model, loss_fn, \n",
    "    softmax_loss_fn, \n",
    "    optimizer, \n",
    "    scheduler, \n",
    "    n_epochs, \n",
    "    cuda, \n",
    "    log_interval, \n",
    "    metrics=[AverageNonzeroTripletsMetric()], \n",
    "    multi_class=False, #MULTI_EMBEDDING,\n",
    "    softmax=softmax)"
   ]
  },
  {
   "cell_type": "markdown",
   "metadata": {
    "id": "iOMT9Pj0iYUk"
   },
   "source": []
  },
  {
   "cell_type": "code",
   "execution_count": 5,
   "metadata": {
    "colab": {
     "base_uri": "https://localhost:8080/"
    },
    "executionInfo": {
     "elapsed": 38096,
     "status": "ok",
     "timestamp": 1658887344756,
     "user": {
      "displayName": "Madhu Hegde",
      "userId": "05863931517844431420"
     },
     "user_tz": 420
    },
    "id": "HoRFHZs2QHmI",
    "outputId": "0614cd76-6b56-403a-e0dc-cb629641c72b"
   },
   "outputs": [],
   "source": [
    "train_eval_loader = data.DataLoader(train_dataset, \n",
    "                                    batch_size=16, \n",
    "                                    shuffle=False,  \n",
    "                                    num_workers=2, \n",
    "                                    drop_last=True, \n",
    "                                    pin_memory=cuda)\n",
    "\n",
    "train_emb, train_softmax, train_ref_labels, train_pred_labels = extract_embeddings(train_eval_loader, \n",
    "                                                                                   model, \n",
    "                                                                                   multi_class=False, \n",
    "                                                                                   softmax=softmax,\n",
    "                                                                                   cuda=cuda)\n",
    "\n",
    "\n",
    "test_eval_loader = data.DataLoader(test_dataset, \n",
    "                                   batch_size=16, \n",
    "                                   shuffle=False,  \n",
    "                                   num_workers=2, \n",
    "                                   drop_last=True, \n",
    "                                   pin_memory=cuda)\n",
    "\n",
    "test_emb, test_softmax, test_ref_labels, test_pred_labels= extract_embeddings(test_eval_loader, \n",
    "                                                                              model,\n",
    "                                                                              multi_class=False, \n",
    "                                                                              softmax=softmax,\n",
    "                                                                              cuda=cuda)\n",
    "                                                                              \n"
   ]
  },
  {
   "cell_type": "code",
   "execution_count": 7,
   "metadata": {
    "colab": {
     "base_uri": "https://localhost:8080/"
    },
    "executionInfo": {
     "elapsed": 946,
     "status": "ok",
     "timestamp": 1658785309521,
     "user": {
      "displayName": "Madhu Hegde",
      "userId": "05863931517844431420"
     },
     "user_tz": 420
    },
    "id": "FemSVYtSfXDZ",
    "outputId": "3aa30316-a81e-4290-eaf5-f7ed37ced175"
   },
   "outputs": [
    {
     "name": "stdout",
     "output_type": "stream",
     "text": [
      "Training Accuracy: 0.9481132075471698\n",
      "Testing Accuracy: 0.40625\n"
     ]
    }
   ],
   "source": [
    "from sklearn.svm import SVC\n",
    "from sklearn.pipeline import make_pipeline\n",
    "from sklearn.preprocessing import StandardScaler\n",
    "from sklearn.metrics import accuracy_score\n",
    "\n",
    "clf = make_pipeline(StandardScaler(), SVC(gamma='auto'))\n",
    "train_emb_cpu = train_emb.data.cpu().numpy()\n",
    "test_emb_cpu = test_emb.data.cpu().numpy()\n",
    "clf.fit(train_emb_cpu, train_ref_labels)\n",
    "\n",
    "train_pred_labels = clf.predict(train_emb_cpu)\n",
    "train_acc = accuracy_score(train_ref_labels, train_pred_labels)\n",
    "\n",
    "test_pred_labels = clf.predict(test_emb_cpu)\n",
    "test_acc = accuracy_score(test_ref_labels, test_pred_labels)\n",
    "\n",
    "print(\"Training Accuracy: \" + str(train_acc))\n",
    "print(\"Testing Accuracy: \" + str(test_acc))"
   ]
  },
  {
   "cell_type": "code",
   "execution_count": 10,
   "metadata": {},
   "outputs": [
    {
     "name": "stdout",
     "output_type": "stream",
     "text": [
      "              precision    recall  f1-score   support\n",
      "\n",
      "           0       1.00      0.86      0.92         7\n",
      "           1       1.00      0.83      0.91         6\n",
      "           2       1.00      1.00      1.00        11\n",
      "           3       1.00      1.00      1.00         8\n",
      "           4       1.00      1.00      1.00        10\n",
      "           5       1.00      1.00      1.00         7\n",
      "           6       1.00      1.00      1.00        11\n",
      "           7       1.00      1.00      1.00         7\n",
      "           8       1.00      1.00      1.00         8\n",
      "           9       1.00      1.00      1.00        21\n",
      "          10       1.00      1.00      1.00        12\n",
      "          11       1.00      0.89      0.94         9\n",
      "          12       1.00      1.00      1.00         9\n",
      "          13       1.00      0.92      0.96        12\n",
      "          14       1.00      1.00      1.00         9\n",
      "          15       0.93      1.00      0.96        13\n",
      "          16       0.88      0.95      0.91        38\n",
      "          17       1.00      1.00      1.00         7\n",
      "          18       1.00      1.00      1.00        12\n",
      "          19       1.00      1.00      1.00        23\n",
      "          20       0.88      1.00      0.94        15\n",
      "          21       1.00      1.00      1.00        23\n",
      "          22       1.00      1.00      1.00         8\n",
      "          23       1.00      0.88      0.94        17\n",
      "          24       1.00      1.00      1.00         8\n",
      "          25       1.00      1.00      1.00        14\n",
      "          26       1.00      1.00      1.00        10\n",
      "          27       0.89      0.94      0.91        17\n",
      "          28       1.00      1.00      1.00        15\n",
      "          29       1.00      0.86      0.92         7\n",
      "          30       0.95      0.95      0.95        19\n",
      "          31       0.82      0.93      0.87        15\n",
      "          32       1.00      1.00      1.00         7\n",
      "          33       1.00      0.90      0.95        10\n",
      "          34       1.00      1.00      1.00         8\n",
      "          35       1.00      1.00      1.00        28\n",
      "          36       1.00      1.00      1.00         7\n",
      "          37       1.00      0.50      0.67        20\n",
      "          38       1.00      0.59      0.75        32\n",
      "          39       1.00      0.73      0.84        22\n",
      "          40       1.00      1.00      1.00        10\n",
      "          41       1.00      1.00      1.00        10\n",
      "          42       1.00      1.00      1.00        12\n",
      "          43       1.00      1.00      1.00        11\n",
      "          44       1.00      0.93      0.97        15\n",
      "          45       1.00      1.00      1.00        13\n",
      "          46       1.00      1.00      1.00         8\n",
      "          47       1.00      1.00      1.00        11\n",
      "          48       1.00      1.00      1.00         9\n",
      "          49       1.00      1.00      1.00         7\n",
      "          50       0.69      1.00      0.81        48\n",
      "          51       1.00      1.00      1.00         8\n",
      "          52       1.00      1.00      1.00        10\n",
      "          53       1.00      1.00      1.00         9\n",
      "          54       1.00      1.00      1.00         7\n",
      "          55       1.00      1.00      1.00         8\n",
      "          56       0.84      1.00      0.92        27\n",
      "          57       0.90      1.00      0.95        28\n",
      "          58       1.00      1.00      1.00        11\n",
      "          59       1.00      1.00      1.00        14\n",
      "          60       1.00      1.00      1.00         7\n",
      "          61       1.00      1.00      1.00         7\n",
      "          62       1.00      0.86      0.92         7\n",
      "          63       1.00      1.00      1.00         9\n",
      "\n",
      "    accuracy                           0.95       848\n",
      "   macro avg       0.98      0.96      0.97       848\n",
      "weighted avg       0.96      0.95      0.95       848\n",
      "\n"
     ]
    }
   ],
   "source": [
    "print(classification_report(train_ref_labels, train_pred_labels))"
   ]
  },
  {
   "cell_type": "code",
   "execution_count": 11,
   "metadata": {},
   "outputs": [
    {
     "name": "stdout",
     "output_type": "stream",
     "text": [
      "              precision    recall  f1-score   support\n",
      "\n",
      "           0       0.00      0.00      0.00         2\n",
      "           1       0.00      0.00      0.00         1\n",
      "           2       0.00      0.00      0.00         3\n",
      "           3       0.00      0.00      0.00         3\n",
      "           4       1.00      1.00      1.00         2\n",
      "           5       0.00      0.00      0.00         1\n",
      "           6       0.50      1.00      0.67         2\n",
      "           7       0.00      0.00      0.00         1\n",
      "           8       1.00      0.50      0.67         2\n",
      "           9       0.42      0.71      0.53         7\n",
      "          10       0.67      0.40      0.50         5\n",
      "          11       0.00      0.00      0.00         2\n",
      "          12       0.00      0.00      0.00         2\n",
      "          13       0.50      0.33      0.40         3\n",
      "          14       1.00      1.00      1.00         1\n",
      "          15       0.00      0.00      0.00         2\n",
      "          16       0.47      0.73      0.57        11\n",
      "          17       0.00      0.00      0.00         2\n",
      "          18       0.75      0.50      0.60         6\n",
      "          19       0.80      0.89      0.84         9\n",
      "          20       0.00      0.00      0.00         3\n",
      "          21       0.40      0.33      0.36         6\n",
      "          22       0.00      0.00      0.00         2\n",
      "          23       1.00      0.10      0.18        10\n",
      "          24       0.33      0.33      0.33         3\n",
      "          25       1.00      0.71      0.83         7\n",
      "          26       0.50      0.33      0.40         3\n",
      "          27       0.40      1.00      0.57         2\n",
      "          28       0.00      0.00      0.00         2\n",
      "          29       0.33      1.00      0.50         1\n",
      "          30       0.29      0.29      0.29         7\n",
      "          31       1.00      0.20      0.33         5\n",
      "          32       0.00      0.00      0.00         2\n",
      "          33       0.00      0.00      0.00         1\n",
      "          34       0.00      0.00      0.00         2\n",
      "          35       0.42      0.45      0.43        11\n",
      "          36       0.00      0.00      0.00         2\n",
      "          37       1.00      0.09      0.17        11\n",
      "          38       0.00      0.00      0.00         8\n",
      "          39       0.33      0.33      0.33         3\n",
      "          40       0.50      0.33      0.40         3\n",
      "          41       0.00      0.00      0.00         2\n",
      "          42       0.50      1.00      0.67         2\n",
      "          43       1.00      1.00      1.00         2\n",
      "          44       0.50      0.33      0.40         3\n",
      "          45       0.00      0.00      0.00         1\n",
      "          46       0.00      0.00      0.00         1\n",
      "          47       0.33      0.33      0.33         3\n",
      "          48       0.00      0.00      0.00         2\n",
      "          49       0.75      0.75      0.75         4\n",
      "          50       0.21      0.80      0.33        10\n",
      "          51       0.00      0.00      0.00         1\n",
      "          52       1.00      1.00      1.00         2\n",
      "          53       1.00      0.50      0.67         2\n",
      "          54       0.00      0.00      0.00         2\n",
      "          55       1.00      1.00      1.00         1\n",
      "          56       0.25      0.40      0.31         5\n",
      "          57       0.30      0.86      0.44         7\n",
      "          58       0.00      0.00      0.00         2\n",
      "          59       0.60      0.75      0.67         4\n",
      "          60       1.00      0.50      0.67         2\n",
      "          61       1.00      0.50      0.67         2\n",
      "          62       0.00      0.00      0.00         2\n",
      "          63       0.00      0.00      0.00         1\n",
      "\n",
      "    accuracy                           0.41       224\n",
      "   macro avg       0.38      0.35      0.33       224\n",
      "weighted avg       0.46      0.41      0.37       224\n",
      "\n"
     ]
    },
    {
     "name": "stderr",
     "output_type": "stream",
     "text": [
      "/home/user1/anaconda3/envs/w210_env/lib/python3.9/site-packages/sklearn/metrics/_classification.py:1327: UndefinedMetricWarning: Precision and F-score are ill-defined and being set to 0.0 in labels with no predicted samples. Use `zero_division` parameter to control this behavior.\n",
      "  _warn_prf(average, modifier, msg_start, len(result))\n",
      "/home/user1/anaconda3/envs/w210_env/lib/python3.9/site-packages/sklearn/metrics/_classification.py:1327: UndefinedMetricWarning: Precision and F-score are ill-defined and being set to 0.0 in labels with no predicted samples. Use `zero_division` parameter to control this behavior.\n",
      "  _warn_prf(average, modifier, msg_start, len(result))\n",
      "/home/user1/anaconda3/envs/w210_env/lib/python3.9/site-packages/sklearn/metrics/_classification.py:1327: UndefinedMetricWarning: Precision and F-score are ill-defined and being set to 0.0 in labels with no predicted samples. Use `zero_division` parameter to control this behavior.\n",
      "  _warn_prf(average, modifier, msg_start, len(result))\n"
     ]
    }
   ],
   "source": [
    "print(classification_report(test_ref_labels, test_pred_labels))"
   ]
  },
  {
   "cell_type": "code",
   "execution_count": null,
   "metadata": {},
   "outputs": [],
   "source": []
  }
 ],
 "metadata": {
  "accelerator": "GPU",
  "colab": {
   "background_execution": "on",
   "name": "leopard_identification.ipynb",
   "provenance": []
  },
  "kernelspec": {
   "display_name": "w210_env",
   "language": "python",
   "name": "w210_env"
  },
  "language_info": {
   "codemirror_mode": {
    "name": "ipython",
    "version": 3
   },
   "file_extension": ".py",
   "mimetype": "text/x-python",
   "name": "python",
   "nbconvert_exporter": "python",
   "pygments_lexer": "ipython3",
   "version": "3.9.12"
  },
  "widgets": {
   "application/vnd.jupyter.widget-state+json": {
    "04c4d292430e44858206d6969d2faeca": {
     "model_module": "@jupyter-widgets/base",
     "model_module_version": "1.2.0",
     "model_name": "LayoutModel",
     "state": {
      "_model_module": "@jupyter-widgets/base",
      "_model_module_version": "1.2.0",
      "_model_name": "LayoutModel",
      "_view_count": null,
      "_view_module": "@jupyter-widgets/base",
      "_view_module_version": "1.2.0",
      "_view_name": "LayoutView",
      "align_content": null,
      "align_items": null,
      "align_self": null,
      "border": null,
      "bottom": null,
      "display": null,
      "flex": null,
      "flex_flow": null,
      "grid_area": null,
      "grid_auto_columns": null,
      "grid_auto_flow": null,
      "grid_auto_rows": null,
      "grid_column": null,
      "grid_gap": null,
      "grid_row": null,
      "grid_template_areas": null,
      "grid_template_columns": null,
      "grid_template_rows": null,
      "height": null,
      "justify_content": null,
      "justify_items": null,
      "left": null,
      "margin": null,
      "max_height": null,
      "max_width": null,
      "min_height": null,
      "min_width": null,
      "object_fit": null,
      "object_position": null,
      "order": null,
      "overflow": null,
      "overflow_x": null,
      "overflow_y": null,
      "padding": null,
      "right": null,
      "top": null,
      "visibility": null,
      "width": null
     }
    },
    "26118d43b0aa46999846003373063a58": {
     "model_module": "@jupyter-widgets/controls",
     "model_module_version": "1.5.0",
     "model_name": "HTMLModel",
     "state": {
      "_dom_classes": [],
      "_model_module": "@jupyter-widgets/controls",
      "_model_module_version": "1.5.0",
      "_model_name": "HTMLModel",
      "_view_count": null,
      "_view_module": "@jupyter-widgets/controls",
      "_view_module_version": "1.5.0",
      "_view_name": "HTMLView",
      "description": "",
      "description_tooltip": null,
      "layout": "IPY_MODEL_a41d444425ed407a89493daa34ec0fc5",
      "placeholder": "​",
      "style": "IPY_MODEL_d7f7cd1e0ba041efb771707939664786",
      "value": " 44.7M/44.7M [00:00&lt;00:00, 65.9MB/s]"
     }
    },
    "3eeb4a10f98c4c528b8cb5e6c8706dd7": {
     "model_module": "@jupyter-widgets/base",
     "model_module_version": "1.2.0",
     "model_name": "LayoutModel",
     "state": {
      "_model_module": "@jupyter-widgets/base",
      "_model_module_version": "1.2.0",
      "_model_name": "LayoutModel",
      "_view_count": null,
      "_view_module": "@jupyter-widgets/base",
      "_view_module_version": "1.2.0",
      "_view_name": "LayoutView",
      "align_content": null,
      "align_items": null,
      "align_self": null,
      "border": null,
      "bottom": null,
      "display": null,
      "flex": null,
      "flex_flow": null,
      "grid_area": null,
      "grid_auto_columns": null,
      "grid_auto_flow": null,
      "grid_auto_rows": null,
      "grid_column": null,
      "grid_gap": null,
      "grid_row": null,
      "grid_template_areas": null,
      "grid_template_columns": null,
      "grid_template_rows": null,
      "height": null,
      "justify_content": null,
      "justify_items": null,
      "left": null,
      "margin": null,
      "max_height": null,
      "max_width": null,
      "min_height": null,
      "min_width": null,
      "object_fit": null,
      "object_position": null,
      "order": null,
      "overflow": null,
      "overflow_x": null,
      "overflow_y": null,
      "padding": null,
      "right": null,
      "top": null,
      "visibility": null,
      "width": null
     }
    },
    "4674a4bc91f142c285816a0b7fea3031": {
     "model_module": "@jupyter-widgets/base",
     "model_module_version": "1.2.0",
     "model_name": "LayoutModel",
     "state": {
      "_model_module": "@jupyter-widgets/base",
      "_model_module_version": "1.2.0",
      "_model_name": "LayoutModel",
      "_view_count": null,
      "_view_module": "@jupyter-widgets/base",
      "_view_module_version": "1.2.0",
      "_view_name": "LayoutView",
      "align_content": null,
      "align_items": null,
      "align_self": null,
      "border": null,
      "bottom": null,
      "display": null,
      "flex": null,
      "flex_flow": null,
      "grid_area": null,
      "grid_auto_columns": null,
      "grid_auto_flow": null,
      "grid_auto_rows": null,
      "grid_column": null,
      "grid_gap": null,
      "grid_row": null,
      "grid_template_areas": null,
      "grid_template_columns": null,
      "grid_template_rows": null,
      "height": null,
      "justify_content": null,
      "justify_items": null,
      "left": null,
      "margin": null,
      "max_height": null,
      "max_width": null,
      "min_height": null,
      "min_width": null,
      "object_fit": null,
      "object_position": null,
      "order": null,
      "overflow": null,
      "overflow_x": null,
      "overflow_y": null,
      "padding": null,
      "right": null,
      "top": null,
      "visibility": null,
      "width": null
     }
    },
    "777b64e062194a8389d3ec5c15128faa": {
     "model_module": "@jupyter-widgets/controls",
     "model_module_version": "1.5.0",
     "model_name": "HBoxModel",
     "state": {
      "_dom_classes": [],
      "_model_module": "@jupyter-widgets/controls",
      "_model_module_version": "1.5.0",
      "_model_name": "HBoxModel",
      "_view_count": null,
      "_view_module": "@jupyter-widgets/controls",
      "_view_module_version": "1.5.0",
      "_view_name": "HBoxView",
      "box_style": "",
      "children": [
       "IPY_MODEL_95f8d8c9db6542b8a0806fb8f589cbb9",
       "IPY_MODEL_b91cd4d5997743e790fd9a26a7d59246",
       "IPY_MODEL_26118d43b0aa46999846003373063a58"
      ],
      "layout": "IPY_MODEL_04c4d292430e44858206d6969d2faeca"
     }
    },
    "95f8d8c9db6542b8a0806fb8f589cbb9": {
     "model_module": "@jupyter-widgets/controls",
     "model_module_version": "1.5.0",
     "model_name": "HTMLModel",
     "state": {
      "_dom_classes": [],
      "_model_module": "@jupyter-widgets/controls",
      "_model_module_version": "1.5.0",
      "_model_name": "HTMLModel",
      "_view_count": null,
      "_view_module": "@jupyter-widgets/controls",
      "_view_module_version": "1.5.0",
      "_view_name": "HTMLView",
      "description": "",
      "description_tooltip": null,
      "layout": "IPY_MODEL_4674a4bc91f142c285816a0b7fea3031",
      "placeholder": "​",
      "style": "IPY_MODEL_e8369f34a28f4190bbe5340548483afe",
      "value": "100%"
     }
    },
    "a41d444425ed407a89493daa34ec0fc5": {
     "model_module": "@jupyter-widgets/base",
     "model_module_version": "1.2.0",
     "model_name": "LayoutModel",
     "state": {
      "_model_module": "@jupyter-widgets/base",
      "_model_module_version": "1.2.0",
      "_model_name": "LayoutModel",
      "_view_count": null,
      "_view_module": "@jupyter-widgets/base",
      "_view_module_version": "1.2.0",
      "_view_name": "LayoutView",
      "align_content": null,
      "align_items": null,
      "align_self": null,
      "border": null,
      "bottom": null,
      "display": null,
      "flex": null,
      "flex_flow": null,
      "grid_area": null,
      "grid_auto_columns": null,
      "grid_auto_flow": null,
      "grid_auto_rows": null,
      "grid_column": null,
      "grid_gap": null,
      "grid_row": null,
      "grid_template_areas": null,
      "grid_template_columns": null,
      "grid_template_rows": null,
      "height": null,
      "justify_content": null,
      "justify_items": null,
      "left": null,
      "margin": null,
      "max_height": null,
      "max_width": null,
      "min_height": null,
      "min_width": null,
      "object_fit": null,
      "object_position": null,
      "order": null,
      "overflow": null,
      "overflow_x": null,
      "overflow_y": null,
      "padding": null,
      "right": null,
      "top": null,
      "visibility": null,
      "width": null
     }
    },
    "b91cd4d5997743e790fd9a26a7d59246": {
     "model_module": "@jupyter-widgets/controls",
     "model_module_version": "1.5.0",
     "model_name": "FloatProgressModel",
     "state": {
      "_dom_classes": [],
      "_model_module": "@jupyter-widgets/controls",
      "_model_module_version": "1.5.0",
      "_model_name": "FloatProgressModel",
      "_view_count": null,
      "_view_module": "@jupyter-widgets/controls",
      "_view_module_version": "1.5.0",
      "_view_name": "ProgressView",
      "bar_style": "success",
      "description": "",
      "description_tooltip": null,
      "layout": "IPY_MODEL_3eeb4a10f98c4c528b8cb5e6c8706dd7",
      "max": 46830571,
      "min": 0,
      "orientation": "horizontal",
      "style": "IPY_MODEL_c4ed85e531ae4fcfa783ddf7c5f29372",
      "value": 46830571
     }
    },
    "c4ed85e531ae4fcfa783ddf7c5f29372": {
     "model_module": "@jupyter-widgets/controls",
     "model_module_version": "1.5.0",
     "model_name": "ProgressStyleModel",
     "state": {
      "_model_module": "@jupyter-widgets/controls",
      "_model_module_version": "1.5.0",
      "_model_name": "ProgressStyleModel",
      "_view_count": null,
      "_view_module": "@jupyter-widgets/base",
      "_view_module_version": "1.2.0",
      "_view_name": "StyleView",
      "bar_color": null,
      "description_width": ""
     }
    },
    "d7f7cd1e0ba041efb771707939664786": {
     "model_module": "@jupyter-widgets/controls",
     "model_module_version": "1.5.0",
     "model_name": "DescriptionStyleModel",
     "state": {
      "_model_module": "@jupyter-widgets/controls",
      "_model_module_version": "1.5.0",
      "_model_name": "DescriptionStyleModel",
      "_view_count": null,
      "_view_module": "@jupyter-widgets/base",
      "_view_module_version": "1.2.0",
      "_view_name": "StyleView",
      "description_width": ""
     }
    },
    "e8369f34a28f4190bbe5340548483afe": {
     "model_module": "@jupyter-widgets/controls",
     "model_module_version": "1.5.0",
     "model_name": "DescriptionStyleModel",
     "state": {
      "_model_module": "@jupyter-widgets/controls",
      "_model_module_version": "1.5.0",
      "_model_name": "DescriptionStyleModel",
      "_view_count": null,
      "_view_module": "@jupyter-widgets/base",
      "_view_module_version": "1.2.0",
      "_view_name": "StyleView",
      "description_width": ""
     }
    }
   }
  }
 },
 "nbformat": 4,
 "nbformat_minor": 1
}
