{
 "cells": [
  {
   "cell_type": "code",
   "execution_count": 1,
   "id": "7ec82ebe",
   "metadata": {},
   "outputs": [],
   "source": [
    "import glob\n",
    "import os\n",
    "from utils.utils import resize_crop_images, verify_part_images"
   ]
  },
  {
   "cell_type": "code",
   "execution_count": 4,
   "id": "ff2cd336",
   "metadata": {},
   "outputs": [
    {
     "name": "stdout",
     "output_type": "stream",
     "text": [
      "Part images match!!\n",
      "Part images match!!\n",
      "Part images match!!\n",
      "Part images match!!\n",
      "Part images match!!\n",
      "Part images match!!\n",
      "Part images match!!\n",
      "Part images match!!\n"
     ]
    }
   ],
   "source": [
    "in_path = \"/Users/madhuhegde/work/berkeley/W210/datasets/temp/\"\n",
    "verify_part_images(in_path=in_path)\n"
   ]
  },
  {
   "cell_type": "code",
   "execution_count": 5,
   "id": "7eb57543",
   "metadata": {},
   "outputs": [
    {
     "name": "stdout",
     "output_type": "stream",
     "text": [
      "Part images match!!\n",
      "Part images match!!\n",
      "Part images match!!\n",
      "Part images match!!\n",
      "Part images match!!\n",
      "Part images match!!\n",
      "Part images match!!\n",
      "Part images match!!\n"
     ]
    }
   ],
   "source": [
    "out_path = '/Users/madhuhegde/work/berkeley/W210/datasets/resize/test'\n",
    "resize_crop_images(in_path=in_path, out_path=out_path)\n",
    "verify_part_images(in_path=out_path)"
   ]
  },
  {
   "cell_type": "code",
   "execution_count": null,
   "id": "15fafab0",
   "metadata": {},
   "outputs": [],
   "source": []
  }
 ],
 "metadata": {
  "kernelspec": {
   "display_name": "w251_env",
   "language": "python",
   "name": "w251_env"
  },
  "language_info": {
   "codemirror_mode": {
    "name": "ipython",
    "version": 3
   },
   "file_extension": ".py",
   "mimetype": "text/x-python",
   "name": "python",
   "nbconvert_exporter": "python",
   "pygments_lexer": "ipython3",
   "version": "3.7.8"
  }
 },
 "nbformat": 4,
 "nbformat_minor": 5
}
