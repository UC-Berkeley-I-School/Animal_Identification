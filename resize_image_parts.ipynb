{
 "cells": [
  {
   "cell_type": "code",
   "execution_count": 1,
   "id": "7ec82ebe",
   "metadata": {},
   "outputs": [],
   "source": [
    "import glob\n",
    "import os\n",
    "from utils.utils import resize_crop_images, verify_part_images, get_scale_image"
   ]
  },
  {
   "cell_type": "code",
   "execution_count": 2,
   "id": "ff2cd336",
   "metadata": {},
   "outputs": [],
   "source": [
    "in_path = \"/Users/madhuhegde/work/berkeley/W210/datasets/leopard/crop/test\"\n",
    "#verify_part_images(in_path=in_path)\n"
   ]
  },
  {
   "cell_type": "code",
   "execution_count": 9,
   "id": "7eb57543",
   "metadata": {},
   "outputs": [
    {
     "name": "stdout",
     "output_type": "stream",
     "text": [
      "Part images match!!\n",
      "Part images match!!\n",
      "Part images match!!\n",
      "Part images match!!\n",
      "Part images match!!\n",
      "Part images match!!\n",
      "Part images match!!\n",
      "Part images match!!\n",
      "Part images match!!\n",
      "Part images match!!\n",
      "Part images match!!\n",
      "Part images match!!\n",
      "Part images match!!\n",
      "Part images match!!\n",
      "Part images match!!\n",
      "Part images match!!\n",
      "Part images match!!\n",
      "Part images match!!\n",
      "Part images match!!\n",
      "Part images match!!\n",
      "Part images match!!\n",
      "Part images match!!\n",
      "Part images match!!\n",
      "Part images match!!\n",
      "Part images match!!\n",
      "Part images match!!\n",
      "Part images match!!\n",
      "Part images match!!\n",
      "Part images match!!\n",
      "Part images match!!\n",
      "Part images match!!\n",
      "Part images match!!\n",
      "Part images match!!\n",
      "Part images match!!\n",
      "Part images match!!\n",
      "Part images match!!\n",
      "Part images match!!\n",
      "Part images match!!\n",
      "Part images match!!\n",
      "Part images match!!\n",
      "Part images match!!\n",
      "Part images match!!\n",
      "Part images match!!\n",
      "Part images match!!\n",
      "Part images match!!\n",
      "Part images match!!\n",
      "Part images match!!\n",
      "Part images match!!\n",
      "Part images match!!\n",
      "Part images match!!\n",
      "Part images match!!\n",
      "Part images match!!\n",
      "Part images match!!\n",
      "Part images match!!\n",
      "Part images match!!\n",
      "Part images match!!\n",
      "Part images match!!\n",
      "Part images match!!\n",
      "Part images match!!\n",
      "Part images match!!\n",
      "Part images match!!\n",
      "Part images match!!\n",
      "Part images match!!\n"
     ]
    }
   ],
   "source": [
    "out_path = '/Users/madhuhegde/work/berkeley/W210/datasets/leopard/classes_64/test'\n",
    "#resize_crop_images(in_path=in_path, out_path=out_path)\n",
    "verify_part_images(in_path=out_path)"
   ]
  },
  {
   "cell_type": "code",
   "execution_count": null,
   "id": "15fafab0",
   "metadata": {},
   "outputs": [],
   "source": [
    "in_path = \"/Users/madhuhegde/work/berkeley/W210/datasets/leopard/resize/\"\n",
    "#out_path = \"/Users/madhuhegde/work/berkeley/W210/datasets/leopard/classes_64/\"\n",
    "out_path = '/Users/madhuhegde/Google Drive/My Drive/datasets/leopard/classes_64/'\n",
    "\n",
    "def create_dataset_folders(in_path=None, out_path=None, min_num_images=1):\n",
    "    \n",
    "    isExist = os.path.exists(out_path)\n",
    "    if 0: #not isExist:\n",
    "        os.makedirs(out_path+'test')\n",
    "        os.makedirs(out_path+'train')\n",
    "        \n",
    "    labels = glob.glob(in_path+'/train/*')  \n",
    "    num_examples = []    \n",
    "    folders = []\n",
    "    for label in labels:\n",
    "        faces = glob.glob(label+'/face/*')\n",
    "        if(len(faces)==min_num_images):\n",
    "            #copy_str = 'cp -r '+label+' '+out_path+'/train/'+label.split('/')[-1]\n",
    "            #os.system(copy_str)\n",
    "            #copy_str = 'cp -r '+in_path+'test/'+label.split('/')[-1]+' '+out_path+'test/'+label.split('/')[-1]\n",
    "            #os.system(copy_str)\n",
    "            \n",
    "            num_examples.append(len(faces))\n",
    "            folders.append(label)\n",
    "    print(len(num_examples))\n",
    "    return folders\n",
    "\n",
    "\n",
    "    \n",
    "folders = create_dataset_folders(in_path, out_path, min_num_images=6)\n",
    "print(folders)    \n",
    "#example_gt_num = [count for count in num_examples if count>6]\n",
    "#print(len(example_gt_num))"
   ]
  },
  {
   "cell_type": "code",
   "execution_count": null,
   "id": "d31b4cd5",
   "metadata": {},
   "outputs": [],
   "source": [
    "out_path = '/Users/madhuhegde/work/berkeley/W210/datasets/leopard/classes_64/train'\n",
    "out_path = '/Users/madhuhegde/Google Drive/My Drive/datasets/leopard/classes_64/test'\n",
    "verify_part_images(in_path=out_path)"
   ]
  },
  {
   "cell_type": "code",
   "execution_count": null,
   "id": "9e1e5852",
   "metadata": {},
   "outputs": [],
   "source": []
  }
 ],
 "metadata": {
  "kernelspec": {
   "display_name": "w251_env",
   "language": "python",
   "name": "w251_env"
  },
  "language_info": {
   "codemirror_mode": {
    "name": "ipython",
    "version": 3
   },
   "file_extension": ".py",
   "mimetype": "text/x-python",
   "name": "python",
   "nbconvert_exporter": "python",
   "pygments_lexer": "ipython3",
   "version": "3.7.8"
  }
 },
 "nbformat": 4,
 "nbformat_minor": 5
}
